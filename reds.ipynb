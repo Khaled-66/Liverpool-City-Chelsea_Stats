{
 "cells": [
  {
   "cell_type": "markdown",
   "id": "5586f553",
   "metadata": {},
   "source": [
    "#### **Liverpool, Mancity, and Chelsea last 7 years matches**\n"
   ]
  },
  {
   "cell_type": "markdown",
   "id": "a6563253",
   "metadata": {},
   "source": [
    "Using Fbref website, my goal is to extract all matches that liverpool, Mancity, Chelsea played during 2018:2025\n"
   ]
  },
  {
   "cell_type": "code",
   "execution_count": null,
   "id": "1a2290c8",
   "metadata": {},
   "outputs": [],
   "source": [
    "from bs4 import BeautifulSoup as bs \n",
    "from urllib.request import urlopen"
   ]
  },
  {
   "cell_type": "code",
   "execution_count": null,
   "id": "a203601d",
   "metadata": {},
   "outputs": [],
   "source": [
    "url=\"https://fbref.com/en/squads/cff3d9bb/2018-2019/Chelsea-Stats\""
   ]
  },
  {
   "cell_type": "code",
   "execution_count": null,
   "id": "e9be2116",
   "metadata": {},
   "outputs": [],
   "source": [
    "client =urlopen(url)"
   ]
  },
  {
   "cell_type": "code",
   "execution_count": null,
   "id": "3c6a607b",
   "metadata": {},
   "outputs": [],
   "source": [
    "html= client.read()"
   ]
  },
  {
   "cell_type": "code",
   "execution_count": null,
   "id": "e46f276e",
   "metadata": {},
   "outputs": [],
   "source": [
    "html"
   ]
  },
  {
   "cell_type": "code",
   "execution_count": null,
   "id": "9bcf7b79",
   "metadata": {},
   "outputs": [],
   "source": [
    "client.close()\n",
    "soup = bs(html, \"html.parser\")  \n",
    "soup"
   ]
  },
  {
   "cell_type": "code",
   "execution_count": null,
   "id": "eb3bf6cf",
   "metadata": {},
   "outputs": [],
   "source": [
    "import pandas as pd\n",
    "df=pd.read_html('https://fbref.com/en/squads/cff3d9bb/2018-2019/Chelsea-Stats',attrs={\"id\":\"matchlogs_for\"})\n",
    "df[0].head()"
   ]
  },
  {
   "cell_type": "code",
   "execution_count": null,
   "id": "5b3fd174",
   "metadata": {},
   "outputs": [],
   "source": [
    "import pandas as pd\n",
    "base_url = \"https://fbref.com/en/squads/cff3d9bb/{season}/Chelsea-Stats\"\n",
    "\n",
    "seasons = [\n",
    "    \"2018-2019\",\n",
    "    \"2019-2020\",\n",
    "    \"2020-2021\",\n",
    "    \"2021-2022\",\n",
    "    \"2022-2023\",\n",
    "    \"2023-2024\",\n",
    "    \"2024-2025\"  \n",
    "]\n",
    "\n",
    "all_data = []\n",
    "\n",
    "for season in seasons:\n",
    "    url = base_url.format(team_id='cff3d9bb', season=season)\n",
    "    try:\n",
    "        print(f\"Scraping: {season}\")\n",
    "        tables = pd.read_html(url, attrs={\"id\": \"matchlogs_for\"})\n",
    "        if tables:\n",
    "            df = tables[0]\n",
    "            df[\"Season\"] = season  \n",
    "            all_data.append(df)\n",
    "    except Exception as e:\n",
    "        print(f\"Failed for {season}: {e}\")\n",
    "\n",
    "\n",
    "full_df = pd.concat(all_data, ignore_index=True)\n",
    "full_df.to_csv(\"chelsea_18to25.csv\", index=False)\n",
    "\n"
   ]
  },
  {
   "cell_type": "code",
   "execution_count": null,
   "id": "2ded271d",
   "metadata": {},
   "outputs": [],
   "source": [
    "import pandas as pd\n",
    "base_url = \"https://fbref.com/en/squads/b8fd03ef/{season}/Manchester-City-Stats\"\n",
    "\n",
    "seasons = [\n",
    "    \"2018-2019\",\n",
    "    \"2019-2020\",\n",
    "    \"2020-2021\",\n",
    "    \"2021-2022\",\n",
    "    \"2022-2023\",\n",
    "    \"2023-2024\",\n",
    "    \"2024-2025\"  \n",
    "]\n",
    "\n",
    "all_data = []\n",
    "\n",
    "for season in seasons:\n",
    "    url = base_url.format(team_id='b8fd03ef', season=season)\n",
    "    try:\n",
    "        print(f\"Scraping: {season}\")\n",
    "        tables = pd.read_html(url, attrs={\"id\": \"matchlogs_for\"})\n",
    "        if tables:\n",
    "            df = tables[0]\n",
    "            df[\"Season\"] = season  \n",
    "            all_data.append(df)\n",
    "    except Exception as e:\n",
    "        print(f\"Failed for {season}: {e}\")\n",
    "\n",
    "\n",
    "full_df = pd.concat(all_data, ignore_index=True)\n",
    "full_df.to_csv(\"Manchester-City_18to25.csv\", index=False)\n",
    "\n"
   ]
  },
  {
   "cell_type": "code",
   "execution_count": null,
   "id": "14cc6ffe",
   "metadata": {},
   "outputs": [],
   "source": [
    "import pandas as pd\n",
    "base_url = \"https://fbref.com/en/squads/822bd0ba/{season}/Liverpool-Stats\"\n",
    "\n",
    "seasons = [\n",
    "    \"2018-2019\",\n",
    "    \"2019-2020\",\n",
    "    \"2020-2021\",\n",
    "    \"2021-2022\",\n",
    "    \"2022-2023\",\n",
    "    \"2023-2024\",\n",
    "    \"2024-2025\"  \n",
    "]\n",
    "\n",
    "all_data = []\n",
    "\n",
    "for season in seasons:\n",
    "    url = base_url.format(team_id='822bd0ba', season=season)\n",
    "    try:\n",
    "        print(f\"Scraping: {season}\")\n",
    "        tables = pd.read_html(url, attrs={\"id\": \"matchlogs_for\"})\n",
    "        if tables:\n",
    "            df = tables[0]\n",
    "            df[\"Season\"] = season  \n",
    "            all_data.append(df)\n",
    "    except Exception as e:\n",
    "        print(f\"Failed for {season}: {e}\")\n",
    "\n",
    "\n",
    "full_df = pd.concat(all_data, ignore_index=True)\n",
    "full_df.to_csv(\"Liverpool_18to25.csv\", index=False)\n",
    "\n"
   ]
  },
  {
   "cell_type": "markdown",
   "id": "ba10a173",
   "metadata": {},
   "source": []
  },
  {
   "cell_type": "code",
   "execution_count": null,
   "id": "8e62e9e1",
   "metadata": {},
   "outputs": [],
   "source": [
    "import pandas as pd\n",
    "df1 = pd.read_csv('Liverpool_18to25.csv')\n",
    "df2 = pd.read_csv('Manchester-City_18to25.csv')\n",
    "df3 = pd.read_csv('chelsea_18to25.csv')\n",
    "\n",
    "venue_index = df1.columns.get_loc('Venue')  \n",
    "df1.insert(venue_index + 1, 'Club', 'Liverpool')  \n",
    "df2.insert(venue_index + 1, 'Club', 'Manchester City') \n",
    "df3.insert(venue_index + 1, 'Club', 'Chelsea')  \n",
    "\n",
    "combined_df = pd.concat([df1, df2, df3], ignore_index=True)\n",
    "combined_df.to_csv('LIV-CHE-MAN.csv', index=False)"
   ]
  },
  {
   "cell_type": "markdown",
   "id": "091ff4d2",
   "metadata": {},
   "source": [
    "sort the based on date\n"
   ]
  },
  {
   "cell_type": "code",
   "execution_count": 61,
   "id": "aae42443",
   "metadata": {},
   "outputs": [],
   "source": [
    "df=pd.read_csv('LIV-CHE-MAN.csv')\n",
    "df=df.sort_values(by=['Date'], ascending=True)\n",
    "df.to_csv(('LIV-CHE-MAN.csv'), index=False)"
   ]
  },
  {
   "cell_type": "code",
   "execution_count": null,
   "id": "37ffda33",
   "metadata": {},
   "outputs": [],
   "source": [
    "from datetime import datetime\n",
    "today = pd.Timestamp(datetime.today().date())\n",
    "\n",
    "df['Date'] = pd.to_datetime(df['Date'])\n",
    "df = df[df['Date'] < today]\n",
    "\n",
    "df.to_csv('LIV-CHE-MAN.csv', index=False)"
   ]
  },
  {
   "cell_type": "markdown",
   "id": "511ad1f7",
   "metadata": {},
   "source": []
  },
  {
   "cell_type": "code",
   "execution_count": null,
   "id": "4de4e9aa",
   "metadata": {},
   "outputs": [],
   "source": [
    "import pandas as pd\n",
    "\n",
    "df = pd.read_csv('LIV-CHE-MAN.csv',encoding='utf-8')\n",
    "\n",
    "df['GF'] = df['GF'].astype(str)\n",
    "df['GA'] = df['GA'].astype(str)\n",
    "\n",
    "df['GF'] = df['GF'].str.extract(r'(\\d+)').astype(int)\n",
    "df['GA'] = df['GA'].str.extract(r'(\\d+)').astype(int)\n",
    "\n",
    "xg_means_by_GF = df.groupby('GF')['xG'].mean()\n",
    "df['xG'] = df.apply(lambda row: xg_means_by_GF.get(row['GF'], df['xG'].mean()) if pd.isna(row['xG']) else row['xG'], axis=1)\n",
    "\n",
    "xga_means_by_GA = df.groupby('GA')['xGA'].mean()\n",
    "df['xGA'] = df.apply(lambda row: xga_means_by_GA.get(row['GA'], df['xGA'].mean()) if pd.isna(row['xGA']) else row['xGA'], axis=1)\n",
    "clubs = ['Liverpool', 'Chelsea', 'Manchester City']\n",
    "\n",
    "i = 0\n",
    "while i < len(df) - 1:\n",
    "    row = df.iloc[i]\n",
    "    next_row = df.iloc[i + 1]\n",
    "    \n",
    "    if row['Opponent'] in clubs and next_row['Opponent'] in clubs:\n",
    "        df.at[i + 1, 'xG'] = row['xGA']\n",
    "        df.at[i + 1, 'xGA'] = row['xG']\n",
    "        i += 2 \n",
    "        # Skip the next row since we just updated it\n",
    "    else:\n",
    "        i += 1\n",
    "\n",
    "df.to_csv('LIV-CHE-MAN.csv', index=False,encoding='utf-8')\n"
   ]
  },
  {
   "cell_type": "code",
   "execution_count": null,
   "id": "0c4caad4",
   "metadata": {},
   "outputs": [],
   "source": [
    "df['xG'] = df['xG'].round(2)\n",
    "df['xGA'] = df['xGA'].round(2)\n",
    "df.to_csv('LIV-CHE-MAN.csv', index=False, encoding='utf-8')\n"
   ]
  },
  {
   "cell_type": "code",
   "execution_count": null,
   "id": "518fead3",
   "metadata": {},
   "outputs": [],
   "source": [
    "season_col = df.pop('Season')  \n",
    "df.insert(0, 'Season', season_col) \n",
    "df.to_csv('LIV-CHE-MAN.csv', index=False, encoding='utf-8')"
   ]
  },
  {
   "cell_type": "code",
   "execution_count": 7,
   "id": "16d99f4a",
   "metadata": {},
   "outputs": [],
   "source": [
    "import pandas as pd\n",
    "df=pd.read_csv('LIV-CHE-MAN.csv',encoding='utf-8')\n",
    "df['Formation'] = df['Formation'].astype(str)\n",
    "\n",
    "df.to_excel('LIV-CHE-MAN.xlsx', index=False)\n"
   ]
  },
  {
   "cell_type": "code",
   "execution_count": 8,
   "id": "352679cf",
   "metadata": {},
   "outputs": [],
   "source": [
    "import pandas as pd\n",
    "df = pd.read_excel('LIV-CHE-MAN.xlsx')\n",
    "df.loc[df['Round'] == 'Final', 'Venue'] = 'Neutral'\n",
    "df.to_excel('LIV-CHE-MAN.xlsx', index=False)\n"
   ]
  },
  {
   "cell_type": "code",
   "execution_count": 9,
   "id": "ae021633",
   "metadata": {},
   "outputs": [
    {
     "name": "stdout",
     "output_type": "stream",
     "text": [
      "<class 'pandas.core.frame.DataFrame'>\n",
      "RangeIndex: 1181 entries, 0 to 1180\n",
      "Data columns (total 22 columns):\n",
      " #   Column         Non-Null Count  Dtype  \n",
      "---  ------         --------------  -----  \n",
      " 0   Season         1181 non-null   object \n",
      " 1   Date           1181 non-null   object \n",
      " 2   Time           1181 non-null   object \n",
      " 3   Comp           1181 non-null   object \n",
      " 4   Round          1181 non-null   object \n",
      " 5   Day            1181 non-null   object \n",
      " 6   Venue          1181 non-null   object \n",
      " 7   Club           1181 non-null   object \n",
      " 8   Result         1181 non-null   object \n",
      " 9   GF             1181 non-null   int64  \n",
      " 10  GA             1181 non-null   int64  \n",
      " 11  Opponent       1181 non-null   object \n",
      " 12  xG             1181 non-null   float64\n",
      " 13  xGA            1181 non-null   float64\n",
      " 14  Poss           1179 non-null   float64\n",
      " 15  Attendance     981 non-null    float64\n",
      " 16  Captain        1181 non-null   object \n",
      " 17  Formation      1181 non-null   object \n",
      " 18  Opp Formation  1181 non-null   object \n",
      " 19  Referee        1181 non-null   object \n",
      " 20  Match Report   1181 non-null   object \n",
      " 21  Notes          124 non-null    object \n",
      "dtypes: float64(4), int64(2), object(16)\n",
      "memory usage: 203.1+ KB\n"
     ]
    }
   ],
   "source": [
    "df.info()"
   ]
  },
  {
   "cell_type": "code",
   "execution_count": null,
   "id": "a7f330ea",
   "metadata": {},
   "outputs": [
    {
     "name": "stdout",
     "output_type": "stream",
     "text": [
      "0\n"
     ]
    }
   ],
   "source": [
    "import pandas as pd\n",
    "\n",
    "df= pd.read_excel('LIV-CHE-MAN.xlsx')\n",
    "df['Attendance'] = df['Attendance'].fillna(0)\n",
    "print(df['Attendance'].isna().sum())  \n"
   ]
  },
  {
   "cell_type": "code",
   "execution_count": 2,
   "id": "ca79e9be",
   "metadata": {},
   "outputs": [
    {
     "data": {
      "application/vnd.plotly.v1+json": {
       "config": {
        "plotlyServerURL": "https://plot.ly"
       },
       "data": [
        {
         "customdata": [
          [
           "Manchester City"
          ],
          [
           "Chelsea"
          ],
          [
           "Manchester City"
          ],
          [
           "Liverpool"
          ],
          [
           "Arsenal"
          ],
          [
           "Leicester City"
          ],
          [
           "Manchester City"
          ],
          [
           "Liverpool"
          ],
          [
           "Arsenal"
          ]
         ],
         "hovertemplate": "<b>%{hovertext}</b><br><br>Comp=Community Shield<br>Expected Goals (xG)=%{x}<br>Goals Scored (GF)=%{y}<br>Opponent=%{customdata[0]}<extra></extra>",
         "hovertext": [
          "Chelsea",
          "Manchester City",
          "Liverpool",
          "Manchester City",
          "Liverpool",
          "Manchester City",
          "Liverpool",
          "Manchester City",
          "Manchester City"
         ],
         "legendgroup": "Community Shield",
         "marker": {
          "color": "rgb(228,26,28)",
          "symbol": "circle"
         },
         "mode": "markers",
         "name": "Community Shield",
         "showlegend": true,
         "type": "scattergl",
         "x": {
          "bdata": "AAAAAAAA9D9xPQrXo3D1P/YoXI/C9fg/rkfhehSu7z/2KFyPwvX4PwAAAAAAAPQ/PQrXo3A9AkCuR+F6FK7vP/YoXI/C9fg/",
          "dtype": "f8"
         },
         "xaxis": "x",
         "y": {
          "bdata": "AAIBAQEAAwEB",
          "dtype": "i1"
         },
         "yaxis": "y"
        },
        {
         "customdata": [
          [
           "Huddersfield"
          ],
          [
           "Arsenal"
          ],
          [
           "West Ham"
          ],
          [
           "Arsenal"
          ],
          [
           "Huddersfield"
          ],
          [
           "Crystal Palace"
          ],
          [
           "Brighton"
          ],
          [
           "Wolves"
          ],
          [
           "Newcastle Utd"
          ],
          [
           "Leicester City"
          ],
          [
           "Bournemouth"
          ],
          [
           "Newcastle Utd"
          ],
          [
           "Cardiff City"
          ],
          [
           "Fulham"
          ],
          [
           "Tottenham"
          ],
          [
           "Southampton"
          ],
          [
           "Cardiff City"
          ],
          [
           "West Ham"
          ],
          [
           "Brighton"
          ],
          [
           "Chelsea"
          ],
          [
           "Liverpool"
          ],
          [
           "Southampton"
          ],
          [
           "Manchester City"
          ],
          [
           "Liverpool"
          ],
          [
           "Manchester Utd"
          ],
          [
           "Huddersfield"
          ],
          [
           "Burnley"
          ],
          [
           "Cardiff City"
          ],
          [
           "Burnley"
          ],
          [
           "Tottenham"
          ],
          [
           "Arsenal"
          ],
          [
           "Crystal Palace"
          ],
          [
           "Southampton"
          ],
          [
           "Everton"
          ],
          [
           "Fulham"
          ],
          [
           "Manchester Utd"
          ],
          [
           "Tottenham"
          ],
          [
           "West Ham"
          ],
          [
           "Watford"
          ],
          [
           "Bournemouth"
          ],
          [
           "Fulham"
          ],
          [
           "Everton"
          ],
          [
           "Watford"
          ],
          [
           "Wolves"
          ],
          [
           "Burnley"
          ],
          [
           "Chelsea"
          ],
          [
           "Manchester City"
          ],
          [
           "Bournemouth"
          ],
          [
           "Everton"
          ],
          [
           "Brighton"
          ],
          [
           "Manchester Utd"
          ],
          [
           "Wolves"
          ],
          [
           "Crystal Palace"
          ],
          [
           "Leicester City"
          ],
          [
           "Watford"
          ],
          [
           "Newcastle Utd"
          ],
          [
           "Leicester City"
          ],
          [
           "Arsenal"
          ],
          [
           "Southampton"
          ],
          [
           "Crystal Palace"
          ],
          [
           "Southampton"
          ],
          [
           "Manchester City"
          ],
          [
           "Liverpool"
          ],
          [
           "Newcastle Utd"
          ],
          [
           "Brighton"
          ],
          [
           "Wolves"
          ],
          [
           "Crystal Palace"
          ],
          [
           "Arsenal"
          ],
          [
           "Huddersfield"
          ],
          [
           "Newcastle Utd"
          ],
          [
           "Leicester City"
          ],
          [
           "Bournemouth"
          ],
          [
           "Huddersfield"
          ],
          [
           "Arsenal"
          ],
          [
           "West Ham"
          ],
          [
           "Everton"
          ],
          [
           "Bournemouth"
          ],
          [
           "Chelsea"
          ],
          [
           "Manchester City"
          ],
          [
           "Manchester Utd"
          ],
          [
           "Tottenham"
          ],
          [
           "Watford"
          ],
          [
           "West Ham"
          ],
          [
           "Bournemouth"
          ],
          [
           "Fulham"
          ],
          [
           "Everton"
          ],
          [
           "Watford"
          ],
          [
           "Wolves"
          ],
          [
           "Burnley"
          ],
          [
           "Fulham"
          ],
          [
           "Everton"
          ],
          [
           "Fulham"
          ],
          [
           "Cardiff City"
          ],
          [
           "Tottenham"
          ],
          [
           "Brighton"
          ],
          [
           "Cardiff City"
          ],
          [
           "Southampton"
          ],
          [
           "West Ham"
          ],
          [
           "Chelsea"
          ],
          [
           "Liverpool"
          ],
          [
           "Crystal Palace"
          ],
          [
           "Tottenham"
          ],
          [
           "Cardiff City"
          ],
          [
           "Burnley"
          ],
          [
           "Manchester Utd"
          ],
          [
           "Huddersfield"
          ],
          [
           "Burnley"
          ],
          [
           "Manchester Utd"
          ],
          [
           "Newcastle Utd"
          ],
          [
           "Watford"
          ],
          [
           "Leicester City"
          ],
          [
           "Brighton"
          ],
          [
           "Leicester City"
          ],
          [
           "Wolves"
          ],
          [
           "Norwich City"
          ],
          [
           "West Ham"
          ],
          [
           "Manchester Utd"
          ],
          [
           "Southampton"
          ],
          [
           "Tottenham"
          ],
          [
           "Leicester City"
          ],
          [
           "Arsenal"
          ],
          [
           "Norwich City"
          ],
          [
           "Bournemouth"
          ],
          [
           "Burnley"
          ],
          [
           "Brighton"
          ],
          [
           "Sheffield Utd"
          ],
          [
           "Newcastle Utd"
          ],
          [
           "Wolves"
          ],
          [
           "Norwich City"
          ],
          [
           "Watford"
          ],
          [
           "Chelsea"
          ],
          [
           "Liverpool"
          ],
          [
           "Sheffield Utd"
          ],
          [
           "Everton"
          ],
          [
           "Brighton"
          ],
          [
           "Leicester City"
          ],
          [
           "Wolves"
          ],
          [
           "Southampton"
          ],
          [
           "Newcastle Utd"
          ],
          [
           "Crystal Palace"
          ],
          [
           "Manchester Utd"
          ],
          [
           "Aston Villa"
          ],
          [
           "Burnley"
          ],
          [
           "Tottenham"
          ],
          [
           "Watford"
          ],
          [
           "Aston Villa"
          ],
          [
           "Southampton"
          ],
          [
           "Crystal Palace"
          ],
          [
           "Manchester City"
          ],
          [
           "Liverpool"
          ],
          [
           "Manchester City"
          ],
          [
           "Chelsea"
          ],
          [
           "Crystal Palace"
          ],
          [
           "Newcastle Utd"
          ],
          [
           "Brighton"
          ],
          [
           "West Ham"
          ],
          [
           "Burnley"
          ],
          [
           "Everton"
          ],
          [
           "Aston Villa"
          ],
          [
           "Manchester Utd"
          ],
          [
           "Bournemouth"
          ],
          [
           "Everton"
          ],
          [
           "Bournemouth"
          ],
          [
           "Watford"
          ],
          [
           "Arsenal"
          ],
          [
           "Leicester City"
          ],
          [
           "Tottenham"
          ],
          [
           "Southampton"
          ],
          [
           "Leicester City"
          ],
          [
           "Wolves"
          ],
          [
           "Sheffield Utd"
          ],
          [
           "Wolves"
          ],
          [
           "Arsenal"
          ],
          [
           "Everton"
          ],
          [
           "Brighton"
          ],
          [
           "Sheffield Utd"
          ],
          [
           "Burnley"
          ],
          [
           "Tottenham"
          ],
          [
           "Aston Villa"
          ],
          [
           "Crystal Palace"
          ],
          [
           "Newcastle Utd"
          ],
          [
           "Manchester Utd"
          ],
          [
           "Sheffield Utd"
          ],
          [
           "Arsenal"
          ],
          [
           "Wolves"
          ],
          [
           "West Ham"
          ],
          [
           "Southampton"
          ],
          [
           "Leicester City"
          ],
          [
           "Tottenham"
          ],
          [
           "Norwich City"
          ],
          [
           "Manchester Utd"
          ],
          [
           "West Ham"
          ],
          [
           "Leicester City"
          ],
          [
           "Tottenham"
          ],
          [
           "West Ham"
          ],
          [
           "Bournemouth"
          ],
          [
           "Watford"
          ],
          [
           "Bournemouth"
          ],
          [
           "Everton"
          ],
          [
           "Manchester Utd"
          ],
          [
           "Arsenal"
          ],
          [
           "Everton"
          ],
          [
           "Aston Villa"
          ],
          [
           "Burnley"
          ],
          [
           "Crystal Palace"
          ],
          [
           "Chelsea"
          ],
          [
           "Manchester City"
          ],
          [
           "West Ham"
          ],
          [
           "Liverpool"
          ],
          [
           "Manchester City"
          ],
          [
           "Watford"
          ],
          [
           "Aston Villa"
          ],
          [
           "Southampton"
          ],
          [
           "Crystal Palace"
          ],
          [
           "Brighton"
          ],
          [
           "Newcastle Utd"
          ],
          [
           "Brighton"
          ],
          [
           "Sheffield Utd"
          ],
          [
           "Burnley"
          ],
          [
           "Norwich City"
          ],
          [
           "Bournemouth"
          ],
          [
           "Arsenal"
          ],
          [
           "Watford"
          ],
          [
           "Chelsea"
          ],
          [
           "Liverpool"
          ],
          [
           "Wolves"
          ],
          [
           "Norwich City"
          ],
          [
           "Newcastle Utd"
          ],
          [
           "Leeds United"
          ],
          [
           "Brighton"
          ],
          [
           "Chelsea"
          ],
          [
           "Liverpool"
          ],
          [
           "Wolves"
          ],
          [
           "West Brom"
          ],
          [
           "Leicester City"
          ],
          [
           "Arsenal"
          ],
          [
           "Crystal Palace"
          ],
          [
           "Leeds United"
          ],
          [
           "Aston Villa"
          ],
          [
           "Southampton"
          ],
          [
           "Arsenal"
          ],
          [
           "Everton"
          ],
          [
           "Sheffield Utd"
          ],
          [
           "West Ham"
          ],
          [
           "Manchester Utd"
          ],
          [
           "West Ham"
          ],
          [
           "Burnley"
          ],
          [
           "Sheffield Utd"
          ],
          [
           "Sheffield Utd"
          ],
          [
           "Liverpool"
          ],
          [
           "Manchester City"
          ],
          [
           "Newcastle Utd"
          ],
          [
           "Tottenham"
          ],
          [
           "Leicester City"
          ],
          [
           "Brighton"
          ],
          [
           "Burnley"
          ],
          [
           "Tottenham"
          ],
          [
           "Fulham"
          ],
          [
           "Leeds United"
          ],
          [
           "Wolves"
          ],
          [
           "Everton"
          ],
          [
           "Manchester Utd"
          ],
          [
           "Fulham"
          ],
          [
           "Wolves"
          ],
          [
           "West Brom"
          ],
          [
           "Tottenham"
          ],
          [
           "Southampton"
          ],
          [
           "Crystal Palace"
          ],
          [
           "West Ham"
          ],
          [
           "Newcastle Utd"
          ],
          [
           "Arsenal"
          ],
          [
           "West Brom"
          ],
          [
           "Aston Villa"
          ],
          [
           "Newcastle Utd"
          ],
          [
           "Manchester City"
          ],
          [
           "Chelsea"
          ],
          [
           "Southampton"
          ],
          [
           "Brighton"
          ],
          [
           "Fulham"
          ],
          [
           "Manchester Utd"
          ],
          [
           "Crystal Palace"
          ],
          [
           "Leicester City"
          ],
          [
           "Aston Villa"
          ],
          [
           "Burnley"
          ],
          [
           "West Brom"
          ],
          [
           "Wolves"
          ],
          [
           "Tottenham"
          ],
          [
           "Sheffield Utd"
          ],
          [
           "Burnley"
          ],
          [
           "West Ham"
          ],
          [
           "Burnley"
          ],
          [
           "Brighton"
          ],
          [
           "Tottenham"
          ],
          [
           "Sheffield Utd"
          ],
          [
           "Liverpool"
          ],
          [
           "Manchester City"
          ],
          [
           "Tottenham"
          ],
          [
           "Leicester City"
          ],
          [
           "Newcastle Utd"
          ],
          [
           "Everton"
          ],
          [
           "Southampton"
          ],
          [
           "Everton"
          ],
          [
           "Arsenal"
          ],
          [
           "West Ham"
          ],
          [
           "Manchester Utd"
          ],
          [
           "Sheffield Utd"
          ],
          [
           "Wolves"
          ],
          [
           "Chelsea"
          ],
          [
           "Liverpool"
          ],
          [
           "Fulham"
          ],
          [
           "Manchester Utd"
          ],
          [
           "Everton"
          ],
          [
           "Southampton"
          ],
          [
           "Leeds United"
          ],
          [
           "Fulham"
          ],
          [
           "Wolves"
          ],
          [
           "Arsenal"
          ],
          [
           "Leicester City"
          ],
          [
           "West Brom"
          ],
          [
           "Leeds United"
          ],
          [
           "Crystal Palace"
          ],
          [
           "Aston Villa"
          ],
          [
           "Leeds United"
          ],
          [
           "Brighton"
          ],
          [
           "Aston Villa"
          ],
          [
           "Newcastle Utd"
          ],
          [
           "West Ham"
          ],
          [
           "Crystal Palace"
          ],
          [
           "Fulham"
          ],
          [
           "Manchester City"
          ],
          [
           "Southampton"
          ],
          [
           "Chelsea"
          ],
          [
           "Arsenal"
          ],
          [
           "Manchester Utd"
          ],
          [
           "Newcastle Utd"
          ],
          [
           "West Brom"
          ],
          [
           "Leicester City"
          ],
          [
           "Brighton"
          ],
          [
           "Burnley"
          ],
          [
           "Crystal Palace"
          ],
          [
           "Aston Villa"
          ],
          [
           "Everton"
          ],
          [
           "Crystal Palace"
          ],
          [
           "Norwich City"
          ],
          [
           "Tottenham"
          ],
          [
           "Burnley"
          ],
          [
           "Norwich City"
          ],
          [
           "Arsenal"
          ],
          [
           "Liverpool"
          ],
          [
           "Chelsea"
          ],
          [
           "Arsenal"
          ],
          [
           "Aston Villa"
          ],
          [
           "Leicester City"
          ],
          [
           "Leeds United"
          ],
          [
           "Southampton"
          ],
          [
           "Crystal Palace"
          ],
          [
           "Tottenham"
          ],
          [
           "Chelsea"
          ],
          [
           "Brentford"
          ],
          [
           "Manchester City"
          ],
          [
           "Southampton"
          ],
          [
           "Liverpool"
          ],
          [
           "Manchester City"
          ],
          [
           "Brentford"
          ],
          [
           "Burnley"
          ],
          [
           "Watford"
          ],
          [
           "Norwich City"
          ],
          [
           "Brighton"
          ],
          [
           "Manchester Utd"
          ],
          [
           "Crystal Palace"
          ],
          [
           "Newcastle Utd"
          ],
          [
           "Brighton"
          ],
          [
           "Manchester Utd"
          ],
          [
           "Burnley"
          ],
          [
           "West Ham"
          ],
          [
           "Arsenal"
          ],
          [
           "Leicester City"
          ],
          [
           "Everton"
          ],
          [
           "Southampton"
          ],
          [
           "Manchester Utd"
          ],
          [
           "West Ham"
          ],
          [
           "Aston Villa"
          ],
          [
           "Everton"
          ],
          [
           "Watford"
          ],
          [
           "West Ham"
          ],
          [
           "Wolves"
          ],
          [
           "Watford"
          ],
          [
           "Aston Villa"
          ],
          [
           "Leeds United"
          ],
          [
           "Wolves"
          ],
          [
           "Leeds United"
          ],
          [
           "Newcastle Utd"
          ],
          [
           "Everton"
          ],
          [
           "Wolves"
          ],
          [
           "Newcastle Utd"
          ],
          [
           "Tottenham"
          ],
          [
           "Aston Villa"
          ],
          [
           "Leicester City"
          ],
          [
           "Leicester City"
          ],
          [
           "Brentford"
          ],
          [
           "Brighton"
          ],
          [
           "Arsenal"
          ],
          [
           "Chelsea"
          ],
          [
           "Liverpool"
          ],
          [
           "Chelsea"
          ],
          [
           "Manchester City"
          ],
          [
           "Brentford"
          ],
          [
           "Brighton"
          ],
          [
           "Southampton"
          ],
          [
           "Crystal Palace"
          ],
          [
           "Tottenham"
          ],
          [
           "Brentford"
          ],
          [
           "Leicester City"
          ],
          [
           "Norwich City"
          ],
          [
           "Burnley"
          ],
          [
           "Crystal Palace"
          ],
          [
           "Tottenham"
          ],
          [
           "Norwich City"
          ],
          [
           "Leeds United"
          ],
          [
           "Everton"
          ],
          [
           "West Ham"
          ],
          [
           "Burnley"
          ],
          [
           "Manchester Utd"
          ],
          [
           "Norwich City"
          ],
          [
           "Brighton"
          ],
          [
           "Newcastle Utd"
          ],
          [
           "Crystal Palace"
          ],
          [
           "Arsenal"
          ],
          [
           "Burnley"
          ],
          [
           "Watford"
          ],
          [
           "Brentford"
          ],
          [
           "Southampton"
          ],
          [
           "Manchester City"
          ],
          [
           "Liverpool"
          ],
          [
           "Manchester Utd"
          ],
          [
           "Arsenal"
          ],
          [
           "Brighton"
          ],
          [
           "Watford"
          ],
          [
           "Everton"
          ],
          [
           "West Ham"
          ],
          [
           "Manchester Utd"
          ],
          [
           "Leeds United"
          ],
          [
           "Newcastle Utd"
          ],
          [
           "Everton"
          ],
          [
           "Tottenham"
          ],
          [
           "Wolves"
          ],
          [
           "Newcastle Utd"
          ],
          [
           "Aston Villa"
          ],
          [
           "Wolves"
          ],
          [
           "Leeds United"
          ],
          [
           "West Ham"
          ],
          [
           "Southampton"
          ],
          [
           "Leicester City"
          ],
          [
           "Watford"
          ],
          [
           "Aston Villa"
          ],
          [
           "Wolves"
          ],
          [
           "Fulham"
          ],
          [
           "Everton"
          ],
          [
           "West Ham"
          ],
          [
           "Bournemouth"
          ],
          [
           "Tottenham"
          ],
          [
           "Crystal Palace"
          ],
          [
           "Leeds United"
          ],
          [
           "Newcastle Utd"
          ],
          [
           "Manchester Utd"
          ],
          [
           "Leicester City"
          ],
          [
           "Bournemouth"
          ],
          [
           "Crystal Palace"
          ],
          [
           "Southampton"
          ],
          [
           "Nott'ham Forest"
          ],
          [
           "Newcastle Utd"
          ],
          [
           "Aston Villa"
          ],
          [
           "West Ham"
          ],
          [
           "Everton"
          ],
          [
           "Wolves"
          ],
          [
           "Brighton"
          ],
          [
           "Crystal Palace"
          ],
          [
           "Manchester Utd"
          ],
          [
           "Wolves"
          ],
          [
           "Southampton"
          ],
          [
           "Arsenal"
          ],
          [
           "Liverpool"
          ],
          [
           "Aston Villa"
          ],
          [
           "Manchester City"
          ],
          [
           "Brentford"
          ],
          [
           "West Ham"
          ],
          [
           "Brighton"
          ],
          [
           "Nott'ham Forest"
          ],
          [
           "Manchester Utd"
          ],
          [
           "Brighton"
          ],
          [
           "Leicester City"
          ],
          [
           "Leeds United"
          ],
          [
           "Fulham"
          ],
          [
           "Arsenal"
          ],
          [
           "Tottenham"
          ],
          [
           "Brentford"
          ],
          [
           "Newcastle Utd"
          ],
          [
           "Southampton"
          ],
          [
           "Aston Villa"
          ],
          [
           "Bournemouth"
          ],
          [
           "Leeds United"
          ],
          [
           "Leicester City"
          ],
          [
           "Everton"
          ],
          [
           "Nott'ham Forest"
          ],
          [
           "Brentford"
          ],
          [
           "Chelsea"
          ],
          [
           "Manchester City"
          ],
          [
           "Fulham"
          ],
          [
           "Manchester Utd"
          ],
          [
           "Brighton"
          ],
          [
           "Crystal Palace"
          ],
          [
           "Tottenham"
          ],
          [
           "Chelsea"
          ],
          [
           "Liverpool"
          ],
          [
           "Wolves"
          ],
          [
           "Fulham"
          ],
          [
           "Wolves"
          ],
          [
           "Tottenham"
          ],
          [
           "West Ham"
          ],
          [
           "Aston Villa"
          ],
          [
           "Everton"
          ],
          [
           "Arsenal"
          ],
          [
           "Nott'ham Forest"
          ],
          [
           "Southampton"
          ],
          [
           "Newcastle Utd"
          ],
          [
           "Crystal Palace"
          ],
          [
           "Bournemouth"
          ],
          [
           "Tottenham"
          ],
          [
           "Wolves"
          ],
          [
           "Newcastle Utd"
          ],
          [
           "Leeds United"
          ],
          [
           "Manchester Utd"
          ],
          [
           "Crystal Palace"
          ],
          [
           "Bournemouth"
          ],
          [
           "Leicester City"
          ],
          [
           "Everton"
          ],
          [
           "Manchester City"
          ],
          [
           "Liverpool"
          ],
          [
           "Aston Villa"
          ],
          [
           "Chelsea"
          ],
          [
           "Liverpool"
          ],
          [
           "Wolves"
          ],
          [
           "Southampton"
          ],
          [
           "Arsenal"
          ],
          [
           "Leicester City"
          ],
          [
           "Brighton"
          ],
          [
           "Leeds United"
          ],
          [
           "Nott'ham Forest"
          ],
          [
           "Arsenal"
          ],
          [
           "Brentford"
          ],
          [
           "West Ham"
          ],
          [
           "Tottenham"
          ],
          [
           "Fulham"
          ],
          [
           "Arsenal"
          ],
          [
           "Fulham"
          ],
          [
           "West Ham"
          ],
          [
           "Bournemouth"
          ],
          [
           "Leeds United"
          ],
          [
           "Brentford"
          ],
          [
           "Nott'ham Forest"
          ],
          [
           "Everton"
          ],
          [
           "Leicester City"
          ],
          [
           "Aston Villa"
          ],
          [
           "Manchester City"
          ],
          [
           "Chelsea"
          ],
          [
           "Brighton"
          ],
          [
           "Manchester Utd"
          ],
          [
           "Newcastle Utd"
          ],
          [
           "Southampton"
          ],
          [
           "Brentford"
          ],
          [
           "Burnley"
          ],
          [
           "Liverpool"
          ],
          [
           "Chelsea"
          ],
          [
           "Bournemouth"
          ],
          [
           "Newcastle Utd"
          ],
          [
           "West Ham"
          ],
          [
           "Luton Town"
          ],
          [
           "Newcastle Utd"
          ],
          [
           "Sheffield Utd"
          ],
          [
           "Nott'ham Forest"
          ],
          [
           "Fulham"
          ],
          [
           "Aston Villa"
          ],
          [
           "Wolves"
          ],
          [
           "West Ham"
          ],
          [
           "Bournemouth"
          ],
          [
           "Nott'ham Forest"
          ],
          [
           "West Ham"
          ],
          [
           "Aston Villa"
          ],
          [
           "Wolves"
          ],
          [
           "Tottenham"
          ],
          [
           "Fulham"
          ],
          [
           "Burnley"
          ],
          [
           "Arsenal"
          ],
          [
           "Brighton"
          ],
          [
           "Brighton"
          ],
          [
           "Arsenal"
          ],
          [
           "Everton"
          ],
          [
           "Brentford"
          ],
          [
           "Manchester Utd"
          ],
          [
           "Nott'ham Forest"
          ],
          [
           "Bournemouth"
          ],
          [
           "Luton Town"
          ],
          [
           "Tottenham"
          ],
          [
           "Brentford"
          ],
          [
           "Manchester City"
          ],
          [
           "Chelsea"
          ],
          [
           "Manchester City"
          ],
          [
           "Newcastle Utd"
          ],
          [
           "Liverpool"
          ],
          [
           "Brighton"
          ],
          [
           "Fulham"
          ],
          [
           "Tottenham"
          ],
          [
           "Manchester Utd"
          ],
          [
           "Aston Villa"
          ],
          [
           "Sheffield Utd"
          ],
          [
           "Crystal Palace"
          ],
          [
           "Everton"
          ],
          [
           "Luton Town"
          ],
          [
           "Sheffield Utd"
          ],
          [
           "Crystal Palace"
          ],
          [
           "Manchester Utd"
          ],
          [
           "Arsenal"
          ],
          [
           "Wolves"
          ],
          [
           "Burnley"
          ],
          [
           "Crystal Palace"
          ],
          [
           "Everton"
          ],
          [
           "Sheffield Utd"
          ],
          [
           "Luton Town"
          ],
          [
           "Newcastle Utd"
          ],
          [
           "Newcastle Utd"
          ],
          [
           "Fulham"
          ],
          [
           "Bournemouth"
          ],
          [
           "Burnley"
          ],
          [
           "Liverpool"
          ],
          [
           "Chelsea"
          ],
          [
           "Arsenal"
          ],
          [
           "Wolves"
          ],
          [
           "Brentford"
          ],
          [
           "Everton"
          ],
          [
           "Burnley"
          ],
          [
           "Crystal Palace"
          ],
          [
           "Manchester City"
          ],
          [
           "Brentford"
          ],
          [
           "Chelsea"
          ],
          [
           "Brentford"
          ],
          [
           "Luton Town"
          ],
          [
           "Bournemouth"
          ],
          [
           "Brentford"
          ],
          [
           "Nott'ham Forest"
          ],
          [
           "Manchester Utd"
          ],
          [
           "Manchester City"
          ],
          [
           "Liverpool"
          ],
          [
           "Newcastle Utd"
          ],
          [
           "Burnley"
          ],
          [
           "Arsenal"
          ],
          [
           "Brighton"
          ],
          [
           "Aston Villa"
          ],
          [
           "Manchester Utd"
          ],
          [
           "Sheffield Utd"
          ],
          [
           "Crystal Palace"
          ],
          [
           "Sheffield Utd"
          ],
          [
           "Manchester Utd"
          ],
          [
           "Luton Town"
          ],
          [
           "Crystal Palace"
          ],
          [
           "Everton"
          ],
          [
           "Fulham"
          ],
          [
           "Arsenal"
          ],
          [
           "Everton"
          ],
          [
           "Brighton"
          ],
          [
           "Aston Villa"
          ],
          [
           "West Ham"
          ],
          [
           "Nott'ham Forest"
          ],
          [
           "Tottenham"
          ],
          [
           "Wolves"
          ],
          [
           "West Ham"
          ],
          [
           "Tottenham"
          ],
          [
           "Fulham"
          ],
          [
           "Nott'ham Forest"
          ],
          [
           "Aston Villa"
          ],
          [
           "Tottenham"
          ],
          [
           "Brighton"
          ],
          [
           "Wolves"
          ],
          [
           "West Ham"
          ],
          [
           "Bournemouth"
          ],
          [
           "Ipswich Town"
          ],
          [
           "Chelsea"
          ],
          [
           "Manchester City"
          ],
          [
           "Ipswich Town"
          ],
          [
           "Brentford"
          ],
          [
           "Wolves"
          ],
          [
           "West Ham"
          ],
          [
           "Crystal Palace"
          ],
          [
           "Manchester Utd"
          ],
          [
           "Bournemouth"
          ],
          [
           "Brentford"
          ],
          [
           "Nott'ham Forest"
          ],
          [
           "West Ham"
          ],
          [
           "Bournemouth"
          ],
          [
           "Arsenal"
          ],
          [
           "Wolves"
          ],
          [
           "Newcastle Utd"
          ],
          [
           "Brighton"
          ],
          [
           "Crystal Palace"
          ],
          [
           "Fulham"
          ],
          [
           "Nott'ham Forest"
          ],
          [
           "Liverpool"
          ],
          [
           "Wolves"
          ],
          [
           "Chelsea"
          ],
          [
           "Southampton"
          ],
          [
           "Arsenal"
          ],
          [
           "Newcastle Utd"
          ],
          [
           "Brighton"
          ],
          [
           "Bournemouth"
          ],
          [
           "Manchester Utd"
          ],
          [
           "Aston Villa"
          ],
          [
           "Brighton"
          ],
          [
           "Arsenal"
          ],
          [
           "Tottenham"
          ],
          [
           "Leicester City"
          ],
          [
           "Southampton"
          ],
          [
           "Manchester City"
          ],
          [
           "Liverpool"
          ],
          [
           "Aston Villa"
          ],
          [
           "Southampton"
          ],
          [
           "Newcastle Utd"
          ],
          [
           "Nott'ham Forest"
          ],
          [
           "Crystal Palace"
          ],
          [
           "Tottenham"
          ],
          [
           "Fulham"
          ],
          [
           "Manchester Utd"
          ],
          [
           "Brentford"
          ],
          [
           "Aston Villa"
          ],
          [
           "Everton"
          ],
          [
           "Tottenham"
          ],
          [
           "Leicester City"
          ],
          [
           "Fulham"
          ],
          [
           "Everton"
          ],
          [
           "West Ham"
          ],
          [
           "Leicester City"
          ],
          [
           "Ipswich Town"
          ],
          [
           "West Ham"
          ],
          [
           "Crystal Palace"
          ],
          [
           "Manchester Utd"
          ],
          [
           "Brentford"
          ],
          [
           "Nott'ham Forest"
          ],
          [
           "Bournemouth"
          ],
          [
           "Brentford"
          ],
          [
           "Ipswich Town"
          ],
          [
           "Wolves"
          ],
          [
           "Manchester City"
          ],
          [
           "Ipswich Town"
          ],
          [
           "Chelsea"
          ],
          [
           "Bournemouth"
          ],
          [
           "Arsenal"
          ],
          [
           "West Ham"
          ],
          [
           "Everton"
          ],
          [
           "Brighton"
          ],
          [
           "Newcastle Utd"
          ],
          [
           "Wolves"
          ],
          [
           "Aston Villa"
          ],
          [
           "Aston Villa"
          ],
          [
           "Manchester City"
          ],
          [
           "Liverpool"
          ],
          [
           "Southampton"
          ],
          [
           "Newcastle Utd"
          ],
          [
           "Tottenham"
          ],
          [
           "Nott'ham Forest"
          ],
          [
           "Southampton"
          ],
          [
           "Leicester City"
          ],
          [
           "Brighton"
          ],
          [
           "Arsenal"
          ],
          [
           "Everton"
          ],
          [
           "Leicester City"
          ],
          [
           "Tottenham"
          ],
          [
           "Manchester Utd"
          ],
          [
           "Brentford"
          ],
          [
           "Fulham"
          ],
          [
           "Crystal Palace"
          ],
          [
           "Ipswich Town"
          ],
          [
           "West Ham"
          ],
          [
           "Everton"
          ],
          [
           "Leicester City"
          ],
          [
           "Fulham"
          ],
          [
           "Aston Villa"
          ]
         ],
         "hovertemplate": "<b>%{hovertext}</b><br><br>Comp=Premier League<br>Expected Goals (xG)=%{x}<br>Goals Scored (GF)=%{y}<br>Opponent=%{customdata[0]}<extra></extra>",
         "hovertext": [
          "Chelsea",
          "Manchester City",
          "Liverpool",
          "Chelsea",
          "Manchester City",
          "Liverpool",
          "Liverpool",
          "Manchester City",
          "Chelsea",
          "Liverpool",
          "Chelsea",
          "Manchester City",
          "Chelsea",
          "Manchester City",
          "Liverpool",
          "Liverpool",
          "Manchester City",
          "Chelsea",
          "Manchester City",
          "Liverpool",
          "Chelsea",
          "Chelsea",
          "Liverpool",
          "Manchester City",
          "Chelsea",
          "Liverpool",
          "Manchester City",
          "Liverpool",
          "Chelsea",
          "Manchester City",
          "Liverpool",
          "Chelsea",
          "Manchester City",
          "Chelsea",
          "Liverpool",
          "Manchester City",
          "Chelsea",
          "Manchester City",
          "Liverpool",
          "Manchester City",
          "Chelsea",
          "Liverpool",
          "Manchester City",
          "Chelsea",
          "Liverpool",
          "Manchester City",
          "Chelsea",
          "Liverpool",
          "Manchester City",
          "Chelsea",
          "Liverpool",
          "Liverpool",
          "Manchester City",
          "Chelsea",
          "Chelsea",
          "Liverpool",
          "Manchester City",
          "Liverpool",
          "Manchester City",
          "Chelsea",
          "Chelsea",
          "Liverpool",
          "Manchester City",
          "Chelsea",
          "Liverpool",
          "Manchester City",
          "Liverpool",
          "Chelsea",
          "Manchester City",
          "Manchester City",
          "Liverpool",
          "Chelsea",
          "Chelsea",
          "Manchester City",
          "Liverpool",
          "Manchester City",
          "Liverpool",
          "Manchester City",
          "Chelsea",
          "Liverpool",
          "Chelsea",
          "Liverpool",
          "Manchester City",
          "Manchester City",
          "Chelsea",
          "Liverpool",
          "Manchester City",
          "Chelsea",
          "Liverpool",
          "Liverpool",
          "Chelsea",
          "Manchester City",
          "Chelsea",
          "Liverpool",
          "Chelsea",
          "Manchester City",
          "Liverpool",
          "Chelsea",
          "Liverpool",
          "Chelsea",
          "Manchester City",
          "Manchester City",
          "Liverpool",
          "Chelsea",
          "Manchester City",
          "Liverpool",
          "Manchester City",
          "Chelsea",
          "Liverpool",
          "Chelsea",
          "Manchester City",
          "Manchester City",
          "Chelsea",
          "Liverpool",
          "Liverpool",
          "Manchester City",
          "Chelsea",
          "Liverpool",
          "Manchester City",
          "Chelsea",
          "Liverpool",
          "Chelsea",
          "Manchester City",
          "Liverpool",
          "Manchester City",
          "Chelsea",
          "Liverpool",
          "Chelsea",
          "Manchester City",
          "Manchester City",
          "Liverpool",
          "Chelsea",
          "Liverpool",
          "Manchester City",
          "Chelsea",
          "Liverpool",
          "Manchester City",
          "Chelsea",
          "Chelsea",
          "Manchester City",
          "Liverpool",
          "Manchester City",
          "Chelsea",
          "Liverpool",
          "Chelsea",
          "Liverpool",
          "Manchester City",
          "Chelsea",
          "Liverpool",
          "Manchester City",
          "Chelsea",
          "Manchester City",
          "Liverpool",
          "Manchester City",
          "Liverpool",
          "Chelsea",
          "Manchester City",
          "Liverpool",
          "Chelsea",
          "Manchester City",
          "Liverpool",
          "Chelsea",
          "Chelsea",
          "Liverpool",
          "Manchester City",
          "Manchester City",
          "Chelsea",
          "Chelsea",
          "Liverpool",
          "Manchester City",
          "Manchester City",
          "Liverpool",
          "Chelsea",
          "Manchester City",
          "Chelsea",
          "Liverpool",
          "Chelsea",
          "Liverpool",
          "Manchester City",
          "Manchester City",
          "Chelsea",
          "Liverpool",
          "Manchester City",
          "Chelsea",
          "Liverpool",
          "Liverpool",
          "Liverpool",
          "Chelsea",
          "Manchester City",
          "Liverpool",
          "Chelsea",
          "Manchester City",
          "Manchester City",
          "Chelsea",
          "Liverpool",
          "Chelsea",
          "Liverpool",
          "Liverpool",
          "Chelsea",
          "Manchester City",
          "Manchester City",
          "Liverpool",
          "Chelsea",
          "Manchester City",
          "Liverpool",
          "Manchester City",
          "Chelsea",
          "Chelsea",
          "Manchester City",
          "Liverpool",
          "Chelsea",
          "Liverpool",
          "Manchester City",
          "Chelsea",
          "Liverpool",
          "Manchester City",
          "Manchester City",
          "Chelsea",
          "Liverpool",
          "Chelsea",
          "Manchester City",
          "Liverpool",
          "Manchester City",
          "Liverpool",
          "Chelsea",
          "Chelsea",
          "Manchester City",
          "Liverpool",
          "Liverpool",
          "Chelsea",
          "Liverpool",
          "Chelsea",
          "Manchester City",
          "Chelsea",
          "Manchester City",
          "Liverpool",
          "Chelsea",
          "Manchester City",
          "Liverpool",
          "Chelsea",
          "Manchester City",
          "Liverpool",
          "Liverpool",
          "Manchester City",
          "Chelsea",
          "Liverpool",
          "Chelsea",
          "Manchester City",
          "Chelsea",
          "Manchester City",
          "Liverpool",
          "Chelsea",
          "Manchester City",
          "Liverpool",
          "Liverpool",
          "Manchester City",
          "Chelsea",
          "Manchester City",
          "Chelsea",
          "Liverpool",
          "Chelsea",
          "Manchester City",
          "Liverpool",
          "Chelsea",
          "Manchester City",
          "Liverpool",
          "Manchester City",
          "Liverpool",
          "Chelsea",
          "Manchester City",
          "Chelsea",
          "Liverpool",
          "Chelsea",
          "Liverpool",
          "Chelsea",
          "Manchester City",
          "Liverpool",
          "Manchester City",
          "Chelsea",
          "Liverpool",
          "Manchester City",
          "Chelsea",
          "Manchester City",
          "Liverpool",
          "Manchester City",
          "Chelsea",
          "Liverpool",
          "Manchester City",
          "Chelsea",
          "Liverpool",
          "Manchester City",
          "Liverpool",
          "Chelsea",
          "Chelsea",
          "Manchester City",
          "Liverpool",
          "Manchester City",
          "Liverpool",
          "Chelsea",
          "Manchester City",
          "Chelsea",
          "Liverpool",
          "Manchester City",
          "Manchester City",
          "Chelsea",
          "Liverpool",
          "Manchester City",
          "Liverpool",
          "Chelsea",
          "Liverpool",
          "Manchester City",
          "Chelsea",
          "Manchester City",
          "Chelsea",
          "Manchester City",
          "Liverpool",
          "Liverpool",
          "Manchester City",
          "Chelsea",
          "Manchester City",
          "Chelsea",
          "Liverpool",
          "Liverpool",
          "Chelsea",
          "Manchester City",
          "Liverpool",
          "Chelsea",
          "Manchester City",
          "Chelsea",
          "Chelsea",
          "Liverpool",
          "Manchester City",
          "Chelsea",
          "Liverpool",
          "Manchester City",
          "Liverpool",
          "Chelsea",
          "Manchester City",
          "Liverpool",
          "Liverpool",
          "Chelsea",
          "Manchester City",
          "Chelsea",
          "Liverpool",
          "Manchester City",
          "Liverpool",
          "Manchester City",
          "Chelsea",
          "Chelsea",
          "Liverpool",
          "Manchester City",
          "Chelsea",
          "Manchester City",
          "Liverpool",
          "Manchester City",
          "Liverpool",
          "Chelsea",
          "Manchester City",
          "Liverpool",
          "Chelsea",
          "Chelsea",
          "Manchester City",
          "Liverpool",
          "Chelsea",
          "Manchester City",
          "Liverpool",
          "Chelsea",
          "Manchester City",
          "Liverpool",
          "Manchester City",
          "Chelsea",
          "Liverpool",
          "Manchester City",
          "Chelsea",
          "Liverpool",
          "Liverpool",
          "Chelsea",
          "Manchester City",
          "Liverpool",
          "Chelsea",
          "Manchester City",
          "Manchester City",
          "Liverpool",
          "Chelsea",
          "Chelsea",
          "Liverpool",
          "Manchester City",
          "Liverpool",
          "Chelsea",
          "Manchester City",
          "Manchester City",
          "Liverpool",
          "Chelsea",
          "Chelsea",
          "Manchester City",
          "Liverpool",
          "Chelsea",
          "Manchester City",
          "Liverpool",
          "Manchester City",
          "Chelsea",
          "Manchester City",
          "Liverpool",
          "Chelsea",
          "Manchester City",
          "Chelsea",
          "Liverpool",
          "Chelsea",
          "Manchester City",
          "Liverpool",
          "Chelsea",
          "Manchester City",
          "Liverpool",
          "Manchester City",
          "Liverpool",
          "Chelsea",
          "Manchester City",
          "Liverpool",
          "Liverpool",
          "Manchester City",
          "Liverpool",
          "Chelsea",
          "Manchester City",
          "Chelsea",
          "Liverpool",
          "Chelsea",
          "Manchester City",
          "Liverpool",
          "Manchester City",
          "Liverpool",
          "Chelsea",
          "Chelsea",
          "Liverpool",
          "Manchester City",
          "Liverpool",
          "Chelsea",
          "Manchester City",
          "Manchester City",
          "Liverpool",
          "Chelsea",
          "Chelsea",
          "Manchester City",
          "Liverpool",
          "Chelsea",
          "Liverpool",
          "Chelsea",
          "Manchester City",
          "Liverpool",
          "Manchester City",
          "Chelsea",
          "Manchester City",
          "Liverpool",
          "Chelsea",
          "Chelsea",
          "Manchester City",
          "Liverpool",
          "Liverpool",
          "Chelsea",
          "Manchester City",
          "Manchester City",
          "Chelsea",
          "Liverpool",
          "Chelsea",
          "Manchester City",
          "Liverpool",
          "Chelsea",
          "Liverpool",
          "Manchester City",
          "Chelsea",
          "Manchester City",
          "Liverpool",
          "Manchester City",
          "Chelsea",
          "Liverpool",
          "Manchester City",
          "Liverpool",
          "Chelsea",
          "Manchester City",
          "Chelsea",
          "Manchester City",
          "Liverpool",
          "Manchester City",
          "Chelsea",
          "Liverpool",
          "Chelsea",
          "Liverpool",
          "Manchester City",
          "Liverpool",
          "Chelsea",
          "Chelsea",
          "Manchester City",
          "Liverpool",
          "Manchester City",
          "Chelsea",
          "Liverpool",
          "Manchester City",
          "Chelsea",
          "Liverpool",
          "Liverpool",
          "Chelsea",
          "Manchester City",
          "Liverpool",
          "Manchester City",
          "Chelsea",
          "Liverpool",
          "Manchester City",
          "Chelsea",
          "Chelsea",
          "Manchester City",
          "Liverpool",
          "Chelsea",
          "Manchester City",
          "Liverpool",
          "Chelsea",
          "Manchester City",
          "Chelsea",
          "Liverpool",
          "Manchester City",
          "Chelsea",
          "Manchester City",
          "Liverpool",
          "Manchester City",
          "Manchester City",
          "Chelsea",
          "Liverpool",
          "Liverpool",
          "Manchester City",
          "Chelsea",
          "Liverpool",
          "Manchester City",
          "Chelsea",
          "Liverpool",
          "Manchester City",
          "Liverpool",
          "Chelsea",
          "Chelsea",
          "Liverpool",
          "Manchester City",
          "Chelsea",
          "Liverpool",
          "Chelsea",
          "Chelsea",
          "Manchester City",
          "Liverpool",
          "Manchester City",
          "Chelsea",
          "Liverpool",
          "Liverpool",
          "Manchester City",
          "Chelsea",
          "Liverpool",
          "Liverpool",
          "Manchester City",
          "Chelsea",
          "Liverpool",
          "Manchester City",
          "Chelsea",
          "Manchester City",
          "Liverpool",
          "Chelsea",
          "Manchester City",
          "Liverpool",
          "Liverpool",
          "Chelsea",
          "Manchester City",
          "Manchester City",
          "Chelsea",
          "Chelsea",
          "Liverpool",
          "Manchester City",
          "Manchester City",
          "Chelsea",
          "Liverpool",
          "Liverpool",
          "Manchester City",
          "Chelsea",
          "Chelsea",
          "Liverpool",
          "Manchester City",
          "Chelsea",
          "Manchester City",
          "Liverpool",
          "Liverpool",
          "Manchester City",
          "Chelsea",
          "Manchester City",
          "Liverpool",
          "Chelsea",
          "Manchester City",
          "Liverpool",
          "Chelsea",
          "Chelsea",
          "Manchester City",
          "Liverpool",
          "Manchester City",
          "Chelsea",
          "Liverpool",
          "Chelsea",
          "Manchester City",
          "Liverpool",
          "Manchester City",
          "Liverpool",
          "Chelsea",
          "Liverpool",
          "Chelsea",
          "Manchester City",
          "Liverpool",
          "Chelsea",
          "Manchester City",
          "Chelsea",
          "Liverpool",
          "Manchester City",
          "Chelsea",
          "Manchester City",
          "Liverpool",
          "Liverpool",
          "Chelsea",
          "Manchester City",
          "Chelsea",
          "Manchester City",
          "Liverpool",
          "Liverpool",
          "Chelsea",
          "Liverpool",
          "Chelsea",
          "Manchester City",
          "Manchester City",
          "Chelsea",
          "Liverpool",
          "Manchester City",
          "Chelsea",
          "Liverpool",
          "Manchester City",
          "Chelsea",
          "Liverpool",
          "Liverpool",
          "Chelsea",
          "Manchester City",
          "Manchester City",
          "Liverpool",
          "Chelsea",
          "Chelsea",
          "Liverpool",
          "Manchester City",
          "Manchester City",
          "Liverpool",
          "Manchester City",
          "Chelsea",
          "Liverpool",
          "Manchester City",
          "Liverpool",
          "Manchester City",
          "Chelsea",
          "Chelsea",
          "Manchester City",
          "Liverpool",
          "Manchester City",
          "Chelsea",
          "Liverpool",
          "Manchester City",
          "Chelsea",
          "Liverpool",
          "Manchester City",
          "Liverpool",
          "Chelsea",
          "Liverpool",
          "Chelsea",
          "Liverpool",
          "Manchester City",
          "Chelsea",
          "Liverpool",
          "Manchester City",
          "Chelsea",
          "Manchester City",
          "Chelsea",
          "Liverpool",
          "Manchester City",
          "Chelsea",
          "Liverpool",
          "Manchester City",
          "Chelsea",
          "Liverpool",
          "Manchester City",
          "Chelsea",
          "Liverpool",
          "Manchester City",
          "Chelsea",
          "Manchester City",
          "Liverpool",
          "Chelsea",
          "Manchester City",
          "Chelsea",
          "Liverpool",
          "Chelsea",
          "Manchester City",
          "Liverpool",
          "Chelsea",
          "Liverpool",
          "Manchester City",
          "Liverpool",
          "Manchester City",
          "Chelsea",
          "Liverpool",
          "Manchester City",
          "Chelsea",
          "Chelsea",
          "Manchester City",
          "Liverpool",
          "Manchester City",
          "Liverpool",
          "Chelsea",
          "Liverpool",
          "Manchester City",
          "Chelsea",
          "Liverpool",
          "Manchester City",
          "Chelsea",
          "Manchester City",
          "Chelsea",
          "Liverpool",
          "Liverpool",
          "Manchester City",
          "Chelsea",
          "Chelsea",
          "Liverpool",
          "Manchester City",
          "Manchester City",
          "Chelsea",
          "Liverpool",
          "Manchester City",
          "Chelsea",
          "Manchester City",
          "Chelsea",
          "Liverpool",
          "Liverpool",
          "Chelsea",
          "Manchester City",
          "Liverpool",
          "Manchester City",
          "Chelsea",
          "Manchester City",
          "Chelsea",
          "Liverpool",
          "Manchester City",
          "Liverpool",
          "Chelsea",
          "Liverpool",
          "Manchester City",
          "Chelsea",
          "Chelsea",
          "Liverpool",
          "Manchester City",
          "Liverpool",
          "Manchester City",
          "Chelsea",
          "Liverpool",
          "Chelsea",
          "Manchester City",
          "Liverpool",
          "Liverpool",
          "Chelsea",
          "Liverpool",
          "Manchester City",
          "Chelsea",
          "Liverpool",
          "Manchester City",
          "Manchester City",
          "Liverpool",
          "Chelsea",
          "Manchester City",
          "Chelsea",
          "Liverpool",
          "Manchester City",
          "Chelsea",
          "Manchester City",
          "Chelsea",
          "Liverpool",
          "Manchester City",
          "Chelsea",
          "Liverpool",
          "Manchester City",
          "Liverpool",
          "Chelsea",
          "Manchester City"
         ],
         "legendgroup": "Premier League",
         "marker": {
          "color": "rgb(55,126,184)",
          "symbol": "circle"
         },
         "mode": "markers",
         "name": "Premier League",
         "showlegend": true,
         "type": "scattergl",
         "x": {
          "bdata": "ZmZmZmZm/j8zMzMzMzP7PwAAAAAAABBAmpmZmZmZ+T/NzMzMzMwQQM3MzMzMzARAmpmZmZmZ+T+amZmZmZn5PwAAAAAAAPg/AAAAAAAA8D+amZmZmZnxPwAAAAAAAABAzczMzMzMBEAzMzMzMzMTQM3MzMzMzARAMzMzMzMz+z8AAAAAAAAEQAAAAAAAAPg/mpmZmZmZBUCamZmZmZn5P5qZmZmZmfE/MzMzMzMzB0CamZmZmZnZPwAAAAAAAPA/zczMzMzM/D8zMzMzMzPjPwAAAAAAABBAMzMzMzMzA0DNzMzMzMwEQJqZmZmZmfk/zczMzMzM9D8zMzMzMzP7P5qZmZmZmQFAMzMzMzMz8z/NzMzMzMz8P2ZmZmZmZv4/AAAAAAAA8D+amZmZmZkFQDMzMzMzM/M/zczMzMzMBEDNzMzMzMwAQDMzMzMzMwdAAAAAAAAABEDNzMzMzMz0PzMzMzMzMwNAzczMzMzM7D8zMzMzMzPjP5qZmZmZmfk/MzMzMzMz+z8zMzMzMzPzPwAAAAAAAARAZmZmZmZm/j8AAAAAAAD4PzMzMzMzMwNAZmZmZmZm/j8zMzMzMzMHQGZmZmZmZvY/ZmZmZmZmDkAAAAAAAAAEQM3MzMzMzOw/zczMzMzM7D8AAAAAAAD4P5qZmZmZmfE/zczMzMzM9D8AAAAAAAAAQGZmZmZmZgZAzczMzMzMBEDNzMzMzMzsPwAAAAAAAABAZmZmZmZm9j8zMzMzMzPjP2ZmZmZmZuY/zczMzMzMBECamZmZmZkFQJqZmZmZmfE/mpmZmZmZAUAAAAAAAAAAQAAAAAAAAAhAzczMzMzM7D8AAAAAAADgPzMzMzMzM+M/ZmZmZmZm/j8AAAAAAAAMQDMzMzMzM/M/MzMzMzMz8z+amZmZmZnxPzMzMzMzMwtAmpmZmZmZ8T8AAAAAAAAQQM3MzMzMzARAZmZmZmZm9j/NzMzMzMz8P83MzMzMzPw/AAAAAAAA8D+amZmZmZkFQJqZmZmZmQlAZmZmZmZm/j9mZmZmZmb+PzMzMzMzM/M/ZmZmZmZm5j8AAAAAAAAEQGZmZmZmZv4/AAAAAAAACEDNzMzMzMz0PwAAAAAAAOA/zczMzMzMCEAAAAAAAAAEQDMzMzMzM/s/MzMzMzMz8z9mZmZmZmYCQAAAAAAAAPA/mpmZmZmZ+T8AAAAAAAD4P5qZmZmZmfk/zczMzMzM/D+amZmZmZkJQAAAAAAAAPA/zczMzMzM9D8zMzMzMzMHQJqZmZmZmfE/AAAAAAAABEAAAAAAAAD4PwAAAAAAAAhAAAAAAAAA8D9mZmZmZmb+PwAAAAAAAABAAAAAAAAACECamZmZmZkFQGZmZmZmZgJAmpmZmZmZF0AzMzMzMzPjP83MzMzMzPQ/ZmZmZmZm/j9mZmZmZmYGQJqZmZmZmQ1AAAAAAAAADEBmZmZmZmb2PzMzMzMzM/s/AAAAAAAAAEAAAAAAAAAMQDMzMzMzM/M/MzMzMzMzB0DNzMzMzMzsP83MzMzMzARAzczMzMzMAEAzMzMzMzMDQDMzMzMzMwdAzczMzMzMDECamZmZmZnxP83MzMzMzPQ/zczMzMzM7D8AAAAAAADwP2ZmZmZmZvY/MzMzMzMzA0DNzMzMzMz0P2ZmZmZmZgJAmpmZmZmZAUAAAAAAAAAAQM3MzMzMzPw/mpmZmZmZAUAzMzMzMzMDQJqZmZmZmfE/zczMzMzMAEBmZmZmZmb2P83MzMzMzPQ/ZmZmZmZmCkDNzMzMzMz0P2ZmZmZmZuY/mpmZmZmZCUAAAAAAAAD4P5qZmZmZmfE/MzMzMzMz8z9mZmZmZmb2PwAAAAAAAPg/zczMzMzM9D9mZmZmZmYGQJqZmZmZmQVAMzMzMzMz8z9mZmZmZmYGQM3MzMzMzARAMzMzMzMzA0BmZmZmZmb+P2ZmZmZmZgZAMzMzMzMzB0CamZmZmZnxP2ZmZmZmZgZAmpmZmZmZCUAzMzMzMzPjPzMzMzMzMwNAAAAAAAAAAEDNzMzMzMzsP83MzMzMzABAMzMzMzMzA0AzMzMzMzP7PzMzMzMzMwNAZmZmZmZm/j8zMzMzMzPTP83MzMzMzPw/zczMzMzM/D8zMzMzMzPjP83MzMzMzARAZmZmZmZm5j+amZmZmZnxPzMzMzMzMwNAMzMzMzMzA0CamZmZmZnpP5qZmZmZmQlAmpmZmZmZ+T8zMzMzMzMDQJqZmZmZmfE/AAAAAAAABEBmZmZmZmbmP5qZmZmZmQlAZmZmZmZm/j8AAAAAAAAEQGZmZmZmZgZAmpmZmZmZEUAzMzMzMzPzPzMzMzMzM/s/AAAAAAAABEBmZmZmZmbmP83MzMzMzABAZmZmZmZmCkAzMzMzMzP7PzMzMzMzMwNAZmZmZmZm9j+amZmZmZkJQDMzMzMzM+M/mpmZmZmZBUAzMzMzMzPzP83MzMzMzABAzczMzMzM7D9mZmZmZmb+PwAAAAAAAABAzczMzMzM7D+amZmZmZkFQJqZmZmZmQVAMzMzMzMz8z/NzMzMzMz8P83MzMzMzPw/zczMzMzM9D/NzMzMzMwEQGZmZmZmZgJAAAAAAAAA8D+amZmZmZnJPzMzMzMzM/s/zczMzMzM7D+amZmZmZn5P5qZmZmZmQFAZmZmZmZm9j8zMzMzMzPzPwAAAAAAAPg/ZmZmZmZm9j/NzMzMzMwIQJqZmZmZmck/MzMzMzMz+z+amZmZmZnpPzMzMzMzMwdAZmZmZmZmEEAzMzMzMzPzP2ZmZmZmZuY/zczMzMzM9D/NzMzMzMz8PwAAAAAAAPA/mpmZmZmZAUAAAAAAAADwP83MzMzMzOw/AAAAAAAABEAAAAAAAAAAQAAAAAAAAAhAzczMzMzMBEAAAAAAAAD4PzMzMzMzM/s/ZmZmZmZm9j+amZmZmZnpP5qZmZmZmQVAAAAAAAAA+D8AAAAAAAAAQJqZmZmZmfk/MzMzMzMz8z9mZmZmZmbmP2ZmZmZmZuY/MzMzMzMzC0CamZmZmZn5P83MzMzMzPw/ZmZmZmZm5j8AAAAAAAAEQAAAAAAAAPg/MzMzMzMz8z8AAAAAAAAAQAAAAAAAAABAAAAAAAAA8D+amZmZmZn5P5qZmZmZmfk/AAAAAAAADEAzMzMzMzPzP5qZmZmZmQFAMzMzMzMz+z+amZmZmZkBQAAAAAAAAPA/MzMzMzMz8z9mZmZmZmb2P83MzMzMzPw/AAAAAAAA4D+amZmZmZnxP5qZmZmZmQVAZmZmZmZmCkAzMzMzMzPTPwAAAAAAAPA/zczMzMzM7D/NzMzMzMz0PzMzMzMzMwNAzczMzMzMBEAAAAAAAADwP5qZmZmZmQFAzczMzMzM7D8zMzMzMzMDQGZmZmZmZvY/zczMzMzMAEDNzMzMzMwAQM3MzMzMzAhAZmZmZmZmAkBmZmZmZmb2P2ZmZmZmZuY/MzMzMzMz8z8zMzMzMzMDQAAAAAAAAARAMzMzMzMz+z8zMzMzMzP7P2ZmZmZmZuY/MzMzMzMz+z/NzMzMzMz8P83MzMzMzPw/mpmZmZmZBUAAAAAAAAD4P2ZmZmZmZv4/zczMzMzMCEDNzMzMzMzsP83MzMzMzARAmpmZmZmZ+T9mZmZmZmYKQAAAAAAAAARAZmZmZmZm5j+amZmZmZn5P83MzMzMzPw/mpmZmZmZBUDNzMzMzMwEQM3MzMzMzAhAMzMzMzMz4z8AAAAAAAAEQJqZmZmZmRFAzczMzMzM9D9mZmZmZmYGQDMzMzMzMxFAAAAAAAAA8D/NzMzMzMwIQM3MzMzMzABAMzMzMzMz+z9mZmZmZmYGQJqZmZmZmck/ZmZmZmZmCkAzMzMzMzPzP83MzMzMzOw/MzMzMzMz0z/NzMzMzMwAQGZmZmZmZgpAzczMzMzMCEBmZmZmZmYOQDMzMzMzMwtAZmZmZmZm5j+amZmZmZkBQAAAAAAAAPg/mpmZmZmZ+T/NzMzMzMz8PzMzMzMzM/M/MzMzMzMzEUAAAAAAAAAAQAAAAAAAAARAMzMzMzMzB0CamZmZmZkFQM3MzMzMzABAAAAAAAAA8D8zMzMzMzMDQM3MzMzMzOw/mpmZmZmZ8T+amZmZmZkFQM3MzMzMzAhAmpmZmZmZAUAAAAAAAAAEQJqZmZmZmQlAzczMzMzMCECamZmZmZkFQDMzMzMzMwdAzczMzMzM7D8zMzMzMzMHQJqZmZmZmfE/zczMzMzMBEDNzMzMzMwMQGZmZmZmZgJAmpmZmZmZ8T9mZmZmZmbmPwAAAAAAAABAzczMzMzM9D8zMzMzMzPzPwAAAAAAAPA/MzMzMzMz0z+amZmZmZkFQGZmZmZmZuY/zczMzMzM/D9mZmZmZmb+PzMzMzMzM/M/ZmZmZmZm/j/NzMzMzMz8P2ZmZmZmZhJAMzMzMzMz+z/NzMzMzMzsP83MzMzMzABAzczMzMzMDECamZmZmZkXQM3MzMzMzPw/MzMzMzMzA0BmZmZmZmYCQJqZmZmZmQVAzczMzMzM/D+amZmZmZkBQJqZmZmZmfE/ZmZmZmZmBkCamZmZmZnpP83MzMzMzPw/mpmZmZmZAUDNzMzMzMz0P83MzMzMzBBAzczMzMzM9D/NzMzMzMz0PwAAAAAAAABAZmZmZmZm5j/NzMzMzMz0P83MzMzMzAxAMzMzMzMz+z8AAAAAAAAIQGZmZmZmZv4/MzMzMzMzA0BmZmZmZmYCQJqZmZmZmek/zczMzMzM9D8zMzMzMzP7P83MzMzMzAhAzczMzMzM/D9mZmZmZmYCQM3MzMzMzPQ/MzMzMzMzA0DNzMzMzMz0P5qZmZmZmfk/mpmZmZmZAUAzMzMzMzMLQJqZmZmZmQVAMzMzMzMz8z8AAAAAAAD4P5qZmZmZmQFAMzMzMzMz+z+amZmZmZn5PwAAAAAAAABAzczMzMzM7D/NzMzMzMwAQM3MzMzMzPQ/zczMzMzM/D9mZmZmZmYKQJqZmZmZmQFAmpmZmZmZ8T9mZmZmZmYKQAAAAAAAAPg/zczMzMzMAEDNzMzMzMzsP83MzMzMzABAmpmZmZmZ8T8AAAAAAAD4P5qZmZmZmfE/mpmZmZmZCUBmZmZmZmb+PzMzMzMzMwNAmpmZmZmZ8T8AAAAAAADwP83MzMzMzOw/zczMzMzMAEDNzMzMzMzsPzMzMzMzM/s/mpmZmZmZ+T+amZmZmZn5P5qZmZmZmfE/ZmZmZmZm9j8AAAAAAADwPzMzMzMzM/s/zczMzMzMAEAzMzMzMzPTPzMzMzMzM/M/mpmZmZmZ+T8zMzMzMzPTP2ZmZmZmZv4/mpmZmZmZBUDNzMzMzMz8PzMzMzMzMxFAmpmZmZmZAUAzMzMzMzP7P83MzMzMzOw/zczMzMzM7D8AAAAAAAAAQJqZmZmZmdk/zczMzMzMAEAzMzMzMzPjPwAAAAAAAPA/AAAAAAAA+D9mZmZmZmYCQGZmZmZmZvY/mpmZmZmZ+T9mZmZmZmYGQM3MzMzMzPQ/zczMzMzM/D/NzMzMzMz0P5qZmZmZmfE/ZmZmZmZmCkBmZmZmZmYCQM3MzMzMzPw/MzMzMzMzA0CamZmZmZn5P2ZmZmZmZv4/zczMzMzM7D8zMzMzMzMDQJqZmZmZmdk/zczMzMzMBEDNzMzMzMz0PwAAAAAAAPg/ZmZmZmZmBkDNzMzMzMwAQDMzMzMzM/s/mpmZmZmZ+T9mZmZmZmYCQDMzMzMzM9M/MzMzMzMzB0DNzMzMzMwAQDMzMzMzM9M/mpmZmZmZAUCamZmZmZnxPzMzMzMzMwdAMzMzMzMzD0CamZmZmZn5PwAAAAAAAOA/mpmZmZmZBUBmZmZmZmYGQAAAAAAAAARAzczMzMzM9D9mZmZmZmb+P5qZmZmZmQFAAAAAAAAABECamZmZmZnpP83MzMzMzPw/ZmZmZmZmAkDNzMzMzMz0P83MzMzMzARAmpmZmZmZAUAzMzMzMzPzP5qZmZmZmek/mpmZmZmZAUBmZmZmZmbmPzMzMzMzM/M/MzMzMzMz8z/NzMzMzMz8P2ZmZmZmZv4/mpmZmZmZAUAAAAAAAAAQQJqZmZmZmfk/ZmZmZmZm/j9mZmZmZmb2P83MzMzMzPQ/AAAAAAAACEAAAAAAAADwPwAAAAAAAARAmpmZmZmZAUDNzMzMzMzsPwAAAAAAAAxAZmZmZmZmAkCamZmZmZkBQAAAAAAAAARAAAAAAAAABEDNzMzMzMwMQM3MzMzMzPw/zczMzMzM9D8AAAAAAAAIQM3MzMzMzPQ/zczMzMzM7D/NzMzMzMz0PzMzMzMzM/s/ZmZmZmZm/j8AAAAAAADgP2ZmZmZmZgJAmpmZmZmZ6T/NzMzMzMz0P5qZmZmZmQFAZmZmZmZm/j8AAAAAAAAQQJqZmZmZmQlAZmZmZmZm/j/NzMzMzMwEQGZmZmZmZhBAMzMzMzMz+z8zMzMzMzMHQDMzMzMzMwdAMzMzMzMz4z8AAAAAAADgP83MzMzMzPQ/zczMzMzMAEDNzMzMzMwAQM3MzMzMzARAAAAAAAAA+D8zMzMzMzPjPzMzMzMzM/s/MzMzMzMz8z/NzMzMzMzsP5qZmZmZmfk/zczMzMzMCECamZmZmZn5P2ZmZmZmZgJAAAAAAAAA8D8AAAAAAAAAQM3MzMzMzPw/zczMzMzMBEAzMzMzMzMDQJqZmZmZmQFAAAAAAAAA+D8AAAAAAAAcQAAAAAAAAAhAmpmZmZmZAUAAAAAAAAD4PzMzMzMzM/s/MzMzMzMz4z8zMzMzMzMHQJqZmZmZmdk/MzMzMzMz+z/NzMzMzMwAQJqZmZmZmfk/ZmZmZmZmBkBmZmZmZmb2P2ZmZmZmZvY/ZmZmZmZmBkDNzMzMzMwEQGZmZmZmZgJAZmZmZmZmCkCamZmZmZn5P83MzMzMzPw/AAAAAAAAAEBmZmZmZmYKQJqZmZmZmQVAmpmZmZmZ+T+amZmZmZn5P83MzMzMzBBAAAAAAAAA8D9mZmZmZmYGQDMzMzMzMwtAAAAAAAAACEDNzMzMzMz8P2ZmZmZmZv4/MzMzMzMz0z/NzMzMzMwMQM3MzMzMzBBAmpmZmZmZBUDNzMzMzMwIQAAAAAAAAPA/mpmZmZmZ+T/NzMzMzMwAQGZmZmZmZvY/mpmZmZmZ+T8zMzMzMzP7P83MzMzMzOw/mpmZmZmZAUCamZmZmZkNQGZmZmZmZhBAZmZmZmZmCkCamZmZmZkJQJqZmZmZmfk/MzMzMzMz+z8zMzMzMzMDQAAAAAAAAPg/AAAAAAAAEkBmZmZmZmb+P5qZmZmZmfE/zczMzMzMBECamZmZmZnpPwAAAAAAAPA/ZmZmZmZmCkAAAAAAAAAEQJqZmZmZmfk/AAAAAAAACEAzMzMzMzMDQM3MzMzMzPw/mpmZmZmZ6T/NzMzMzMwAQM3MzMzMzOw/mpmZmZmZAUAAAAAAAAAAQM3MzMzMzABAAAAAAAAABEDNzMzMzMzsP83MzMzMzBBAZmZmZmZm9j+amZmZmZn5P2ZmZmZmZgJAAAAAAAAA8D+amZmZmZn5P2ZmZmZmZv4/MzMzMzMzB0CamZmZmZnpP5qZmZmZmfk/mpmZmZmZ+T+amZmZmZn5P5qZmZmZmfE/AAAAAAAAAEDNzMzMzMwAQAAAAAAAAPg/zczMzMzMAECamZmZmZkFQM3MzMzMzAhAMzMzMzMzC0CamZmZmZnpP5qZmZmZmfk/zczMzMzMFEBmZmZmZmb+PzMzMzMzMwNAZmZmZmZm9j9mZmZmZmYGQM3MzMzMzABAzczMzMzM7D+amZmZmZkBQAAAAAAAAPA/MzMzMzMz8z9mZmZmZmYWQAAAAAAAAABAmpmZmZmZ8T/NzMzMzMwAQM3MzMzMzAhAzczMzMzM9D8AAAAAAAAAQGZmZmZmZv4/MzMzMzMz8z+amZmZmZkFQJqZmZmZmQFAAAAAAAAAAEAAAAAAAAAEQDMzMzMzMwtAAAAAAAAACEDNzMzMzMwIQM3MzMzMzPw/AAAAAAAAAECamZmZmZkBQAAAAAAAAARAmpmZmZmZ6T+amZmZmZn5PzMzMzMzM+M/AAAAAAAA4D9mZmZmZmb+PzMzMzMzM/s/AAAAAAAABEBmZmZmZmYCQGZmZmZmZuY/MzMzMzMz4z8zMzMzMzMDQDMzMzMzM/s/zczMzMzMAEDNzMzMzMzsPzMzMzMzMw9AMzMzMzMz+z8zMzMzMzP7P5qZmZmZmdk/AAAAAAAA+D+amZmZmZkBQAAAAAAAAPA/AAAAAAAA4D8zMzMzMzPzPwAAAAAAAPg/mpmZmZmZDUCamZmZmZkBQM3MzMzMzPw/AAAAAAAAAEAAAAAAAAAEQM3MzMzMzOw/zczMzMzM9D8=",
          "dtype": "f8"
         },
         "xaxis": "x",
         "y": {
          "bdata": "AwIEAwYCAQECAgICBAMCAwUAAgEBAwAAAgEFBAQBAQMGAAIDAQQDAwIBAgEDAAIEAwIDAgIAAgQBBQMBAAECAgEDBAADAQEABQMBAgMGAAACBQEBAgADAQQCAAICAgMCAwICAAMBAgICBQEBAwMBBAACBAUAAgIBAwMDAwQCAwUCCAIBAQMCAgAEAQIBAwQCAgICAgMBAQICAgIABAUCAQMBAAIDAwIABAICAQICAQIDAQYCAAIBAgICBAIAAQACAQIDAgACBAADAAIFBAECAgQAAwIAAwMFBQABAQIBBAUDAgUDBAMCAAMDAgMEAQIDAQICAQACAwEEAQECAAMBBQACAwQAAAEBAQIBBwMCAQEBAAEDAAEBAAQAAgAFAAMBAgMCAAECBAEDAQIDAQABAgACBAABAAACBQADAQMCAgEEAgEAAgEBAgICAgEABAQCAgIDAgEFAwMAAgUCAQEFAwEDAAMDAQMAAwICAQIFBwQFAAMCAgECBAMDBAECAgQCAgEDAQMBBwMBAAQCAwYAAQECAgIBAAMBAQMCAgIEAQECAwYBAQQEAwIBAAICAgEGAgIEAgMFAgEBBAEAAQIFAgUDAgIBAgMDAgECBAIBAAMBAgkEAQYCAQIAAwMCBgMEAgACAQABAwABAQEBAgACAQADAwIDAgEBAQEAAQEAAQQAAAMAAAABAwIDAQACAAQAAgIBBwEAAwIBBAAAAAAEAgMBBgMEAAIEAgEBAwMCAQIDAwEAAQEBAQQAAwEBAwEBAwICAAUDAwMAAgMAAQECBAACAgICAAMDBgEEAwQEAQEBAwQDAQACAgACAgIAAQECAgMCAwQDAQQDAQQBAgMCAwMBBAEBBAECAQMBAQMCAAIEBAMEAgIFAAYDAAAEAgICAgUFBAQDAwICAgMCAgIABAIGAwEDAQIAAwMCAgEEAQMBAQICAQICAgEBAgEBAAIDAgADBQMDAgQCAQIBAAYDAQEFAgAEAQICAQICBgMBBAMCAQICAAQCAgECAAQCAQADAQIAAQIBAAACBQICAgECAg==",
          "dtype": "i1"
         },
         "yaxis": "y"
        },
        {
         "customdata": [
          [
           "fr Paris S-G"
          ],
          [
           "fr Lyon"
          ],
          [
           "de Hoffenheim"
          ],
          [
           "it Napoli"
          ],
          [
           "ua Shakhtar"
          ],
          [
           "rs Red Star"
          ],
          [
           "rs Red Star"
          ],
          [
           "ua Shakhtar"
          ],
          [
           "fr Lyon"
          ],
          [
           "fr Paris S-G"
          ],
          [
           "it Napoli"
          ],
          [
           "de Hoffenheim"
          ],
          [
           "de Bayern Munich"
          ],
          [
           "de Schalke 04"
          ],
          [
           "de Schalke 04"
          ],
          [
           "de Bayern Munich"
          ],
          [
           "pt Porto"
          ],
          [
           "eng Tottenham"
          ],
          [
           "pt Porto"
          ],
          [
           "eng Tottenham"
          ],
          [
           "es Barcelona"
          ],
          [
           "es Barcelona"
          ],
          [
           "eng Tottenham"
          ],
          [
           "es Valencia"
          ],
          [
           "it Napoli"
          ],
          [
           "ua Shakhtar"
          ],
          [
           "hr Dinamo Zagreb"
          ],
          [
           "at RB Salzburg"
          ],
          [
           "fr Lille"
          ],
          [
           "it Atalanta"
          ],
          [
           "nl Ajax"
          ],
          [
           "be Genk"
          ],
          [
           "nl Ajax"
          ],
          [
           "be Genk"
          ],
          [
           "it Atalanta"
          ],
          [
           "ua Shakhtar"
          ],
          [
           "it Napoli"
          ],
          [
           "es Valencia"
          ],
          [
           "at RB Salzburg"
          ],
          [
           "fr Lille"
          ],
          [
           "hr Dinamo Zagreb"
          ],
          [
           "es Atlético Madrid"
          ],
          [
           "de Bayern Munich"
          ],
          [
           "es Real Madrid"
          ],
          [
           "es Atlético Madrid"
          ],
          [
           "es Real Madrid"
          ],
          [
           "de Bayern Munich"
          ],
          [
           "fr Lyon"
          ],
          [
           "es Sevilla"
          ],
          [
           "nl Ajax"
          ],
          [
           "pt Porto"
          ],
          [
           "fr Marseille"
          ],
          [
           "dk Midtjylland"
          ],
          [
           "ru Krasnodar"
          ],
          [
           "it Atalanta"
          ],
          [
           "gr Olympiacos"
          ],
          [
           "fr Rennes"
          ],
          [
           "fr Rennes"
          ],
          [
           "it Atalanta"
          ],
          [
           "gr Olympiacos"
          ],
          [
           "pt Porto"
          ],
          [
           "nl Ajax"
          ],
          [
           "es Sevilla"
          ],
          [
           "ru Krasnodar"
          ],
          [
           "dk Midtjylland"
          ],
          [
           "fr Marseille"
          ],
          [
           "de RB Leipzig"
          ],
          [
           "es Atlético Madrid"
          ],
          [
           "de Gladbach"
          ],
          [
           "de RB Leipzig"
          ],
          [
           "de Gladbach"
          ],
          [
           "es Atlético Madrid"
          ],
          [
           "de Dortmund"
          ],
          [
           "es Real Madrid"
          ],
          [
           "pt Porto"
          ],
          [
           "pt Porto"
          ],
          [
           "de Dortmund"
          ],
          [
           "es Real Madrid"
          ],
          [
           "es Real Madrid"
          ],
          [
           "fr Paris S-G"
          ],
          [
           "fr Paris S-G"
          ],
          [
           "es Real Madrid"
          ],
          [
           "eng Manchester City"
          ],
          [
           "eng Chelsea"
          ],
          [
           "ru Zenit"
          ],
          [
           "it Milan"
          ],
          [
           "de RB Leipzig"
          ],
          [
           "pt Porto"
          ],
          [
           "fr Paris S-G"
          ],
          [
           "it Juventus"
          ],
          [
           "be Club Brugge"
          ],
          [
           "es Atlético Madrid"
          ],
          [
           "se Malmö"
          ],
          [
           "se Malmö"
          ],
          [
           "es Atlético Madrid"
          ],
          [
           "be Club Brugge"
          ],
          [
           "it Juventus"
          ],
          [
           "fr Paris S-G"
          ],
          [
           "pt Porto"
          ],
          [
           "it Milan"
          ],
          [
           "de RB Leipzig"
          ],
          [
           "ru Zenit"
          ],
          [
           "pt Sporting CP"
          ],
          [
           "it Inter"
          ],
          [
           "fr Lille"
          ],
          [
           "it Inter"
          ],
          [
           "pt Sporting CP"
          ],
          [
           "fr Lille"
          ],
          [
           "es Atlético Madrid"
          ],
          [
           "pt Benfica"
          ],
          [
           "es Real Madrid"
          ],
          [
           "es Real Madrid"
          ],
          [
           "pt Benfica"
          ],
          [
           "es Atlético Madrid"
          ],
          [
           "es Real Madrid"
          ],
          [
           "es Villarreal"
          ],
          [
           "es Villarreal"
          ],
          [
           "es Real Madrid"
          ],
          [
           "es Real Madrid"
          ],
          [
           "es Sevilla"
          ],
          [
           "hr Dinamo Zagreb"
          ],
          [
           "it Napoli"
          ],
          [
           "nl Ajax"
          ],
          [
           "at RB Salzburg"
          ],
          [
           "de Dortmund"
          ],
          [
           "sct Rangers"
          ],
          [
           "dk FC Copenhagen"
          ],
          [
           "it Milan"
          ],
          [
           "it Milan"
          ],
          [
           "dk FC Copenhagen"
          ],
          [
           "sct Rangers"
          ],
          [
           "at RB Salzburg"
          ],
          [
           "de Dortmund"
          ],
          [
           "nl Ajax"
          ],
          [
           "it Napoli"
          ],
          [
           "es Sevilla"
          ],
          [
           "hr Dinamo Zagreb"
          ],
          [
           "de Dortmund"
          ],
          [
           "es Real Madrid"
          ],
          [
           "de RB Leipzig"
          ],
          [
           "de Dortmund"
          ],
          [
           "de RB Leipzig"
          ],
          [
           "es Real Madrid"
          ],
          [
           "de Bayern Munich"
          ],
          [
           "es Real Madrid"
          ],
          [
           "es Real Madrid"
          ],
          [
           "de Bayern Munich"
          ],
          [
           "es Real Madrid"
          ],
          [
           "es Real Madrid"
          ],
          [
           "it Inter"
          ],
          [
           "rs Red Star"
          ],
          [
           "de RB Leipzig"
          ],
          [
           "ch Young Boys"
          ],
          [
           "ch Young Boys"
          ],
          [
           "de RB Leipzig"
          ],
          [
           "rs Red Star"
          ],
          [
           "dk FC Copenhagen"
          ],
          [
           "dk FC Copenhagen"
          ],
          [
           "es Real Madrid"
          ],
          [
           "es Real Madrid"
          ],
          [
           "it Milan"
          ],
          [
           "it Inter"
          ],
          [
           "sk Slovan Bratislava"
          ],
          [
           "it Bologna"
          ],
          [
           "cz Sparta Prague"
          ],
          [
           "de RB Leipzig"
          ],
          [
           "de Leverkusen"
          ],
          [
           "pt Sporting CP"
          ],
          [
           "nl Feyenoord"
          ],
          [
           "es Real Madrid"
          ],
          [
           "es Girona"
          ],
          [
           "it Juventus"
          ],
          [
           "fr Lille"
          ],
          [
           "fr Paris S-G"
          ],
          [
           "nl PSV Eindhoven"
          ],
          [
           "be Club Brugge"
          ],
          [
           "es Real Madrid"
          ],
          [
           "es Real Madrid"
          ],
          [
           "fr Paris S-G"
          ],
          [
           "fr Paris S-G"
          ]
         ],
         "hovertemplate": "<b>%{hovertext}</b><br><br>Comp=Champions Lg<br>Expected Goals (xG)=%{x}<br>Goals Scored (GF)=%{y}<br>Opponent=%{customdata[0]}<extra></extra>",
         "hovertext": [
          "Liverpool",
          "Manchester City",
          "Manchester City",
          "Liverpool",
          "Manchester City",
          "Liverpool",
          "Liverpool",
          "Manchester City",
          "Manchester City",
          "Liverpool",
          "Liverpool",
          "Manchester City",
          "Liverpool",
          "Manchester City",
          "Manchester City",
          "Liverpool",
          "Liverpool",
          "Manchester City",
          "Liverpool",
          "Manchester City",
          "Liverpool",
          "Liverpool",
          "Liverpool",
          "Chelsea",
          "Liverpool",
          "Manchester City",
          "Manchester City",
          "Liverpool",
          "Chelsea",
          "Manchester City",
          "Chelsea",
          "Liverpool",
          "Chelsea",
          "Liverpool",
          "Manchester City",
          "Manchester City",
          "Liverpool",
          "Chelsea",
          "Liverpool",
          "Chelsea",
          "Manchester City",
          "Liverpool",
          "Chelsea",
          "Manchester City",
          "Liverpool",
          "Manchester City",
          "Chelsea",
          "Manchester City",
          "Chelsea",
          "Liverpool",
          "Manchester City",
          "Manchester City",
          "Liverpool",
          "Chelsea",
          "Liverpool",
          "Manchester City",
          "Chelsea",
          "Chelsea",
          "Liverpool",
          "Manchester City",
          "Manchester City",
          "Liverpool",
          "Chelsea",
          "Chelsea",
          "Liverpool",
          "Manchester City",
          "Liverpool",
          "Chelsea",
          "Manchester City",
          "Liverpool",
          "Manchester City",
          "Chelsea",
          "Manchester City",
          "Liverpool",
          "Chelsea",
          "Chelsea",
          "Manchester City",
          "Liverpool",
          "Chelsea",
          "Manchester City",
          "Manchester City",
          "Chelsea",
          "Chelsea",
          "Manchester City",
          "Chelsea",
          "Liverpool",
          "Manchester City",
          "Liverpool",
          "Manchester City",
          "Chelsea",
          "Manchester City",
          "Liverpool",
          "Chelsea",
          "Chelsea",
          "Liverpool",
          "Manchester City",
          "Chelsea",
          "Manchester City",
          "Liverpool",
          "Liverpool",
          "Manchester City",
          "Chelsea",
          "Manchester City",
          "Liverpool",
          "Chelsea",
          "Liverpool",
          "Manchester City",
          "Chelsea",
          "Manchester City",
          "Liverpool",
          "Chelsea",
          "Chelsea",
          "Liverpool",
          "Manchester City",
          "Manchester City",
          "Liverpool",
          "Liverpool",
          "Manchester City",
          "Liverpool",
          "Manchester City",
          "Chelsea",
          "Liverpool",
          "Liverpool",
          "Chelsea",
          "Manchester City",
          "Liverpool",
          "Manchester City",
          "Chelsea",
          "Chelsea",
          "Manchester City",
          "Liverpool",
          "Chelsea",
          "Manchester City",
          "Liverpool",
          "Liverpool",
          "Manchester City",
          "Chelsea",
          "Chelsea",
          "Liverpool",
          "Manchester City",
          "Chelsea",
          "Manchester City",
          "Liverpool",
          "Manchester City",
          "Chelsea",
          "Chelsea",
          "Manchester City",
          "Manchester City",
          "Manchester City",
          "Manchester City",
          "Manchester City",
          "Manchester City",
          "Manchester City",
          "Manchester City",
          "Manchester City",
          "Manchester City",
          "Manchester City",
          "Manchester City",
          "Manchester City",
          "Manchester City",
          "Liverpool",
          "Manchester City",
          "Manchester City",
          "Liverpool",
          "Manchester City",
          "Liverpool",
          "Liverpool",
          "Manchester City",
          "Manchester City",
          "Liverpool",
          "Liverpool",
          "Manchester City",
          "Liverpool",
          "Manchester City",
          "Liverpool",
          "Manchester City",
          "Manchester City",
          "Manchester City",
          "Liverpool",
          "Liverpool"
         ],
         "legendgroup": "Champions Lg",
         "marker": {
          "color": "rgb(77,175,74)",
          "symbol": "circle"
         },
         "mode": "markers",
         "name": "Champions Lg",
         "showlegend": true,
         "type": "scattergl",
         "x": {
          "bdata": "ZmZmZmZmAkAzMzMzMzPzP5qZmZmZmQFAmpmZmZmZuT/NzMzMzMwEQAAAAAAAABRAmpmZmZmZAUAzMzMzMzMLQAAAAAAAAPA/zczMzMzM9D8AAAAAAAAIQDMzMzMzMwtAzczMzMzMAECamZmZmZn5P5qZmZmZmQ1AmpmZmZmZ8T9mZmZmZmYCQM3MzMzMzPQ/AAAAAAAADEAAAAAAAAAEQM3MzMzMzPw/ZmZmZmZmAkDNzMzMzMz0P2ZmZmZmZgZAZmZmZmZm5j8AAAAAAAAEQM3MzMzMzAxAAAAAAAAABEBmZmZmZmb2P83MzMzMzBBAmpmZmZmZ+T8AAAAAAAAEQDMzMzMzMxNAZmZmZmZmAkAAAAAAAAAAQDMzMzMzM/M/mpmZmZmZ6T/NzMzMzMwAQDMzMzMzMwtAmpmZmZmZBUDNzMzMzMwMQAAAAAAAAOA/mpmZmZmZ8T+amZmZmZkJQDMzMzMzMwtAzczMzMzMAEAAAAAAAADwPwAAAAAAAARAmpmZmZmZ2T+amZmZmZnxPwAAAAAAAPg/ZmZmZmZm/j+amZmZmZkBQDMzMzMzMwNAAAAAAAAABEAzMzMzMzP7P2ZmZmZmZgpAmpmZmZmZAUCamZmZmZnJPzMzMzMzMwNAAAAAAAAABEAAAAAAAAAAQDMzMzMzMwNAAAAAAAAABECamZmZmZnxPzMzMzMzMwNAZmZmZmZm9j8AAAAAAADwP5qZmZmZmfk/MzMzMzMzA0BmZmZmZmb2PwAAAAAAAABAzczMzMzMAEBmZmZmZmbmP5qZmZmZmfk/MzMzMzMz8z8AAAAAAAAEQDMzMzMzM/M/MzMzMzMz+z+amZmZmZnpP2ZmZmZmZvY/AAAAAAAAEEBmZmZmZmb2PwAAAAAAAOA/ZmZmZmZm5j8AAAAAAAAEQGZmZmZmZv4/MzMzMzMzC0BmZmZmZmb+P83MzMzMzPQ/zczMzMzMEkDNzMzMzMz0P83MzMzMzARAAAAAAAAABEAAAAAAAAAIQGZmZmZmZhJAAAAAAAAACEDNzMzMzMwAQDMzMzMzM+M/ZmZmZmZm/j8zMzMzMzPzP5qZmZmZmQVAzczMzMzMAEAAAAAAAADwPzMzMzMzM/M/zczMzMzM/D8AAAAAAAD4PwAAAAAAAPA/AAAAAAAA8D8zMzMzMzMPQM3MzMzMzPQ/mpmZmZmZBUDNzMzMzMz8PzMzMzMzM/M/mpmZmZmZBUCamZmZmZn5PwAAAAAAAARAZmZmZmZm9j+amZmZmZkBQM3MzMzMzAxAzczMzMzM7D8AAAAAAADwP5qZmZmZmQFAMzMzMzMz8z8AAAAAAADwPzMzMzMzMwdAMzMzMzMzEUCamZmZmZnxP5qZmZmZmQFAmpmZmZmZ+T+amZmZmZkBQAAAAAAAAPg/MzMzMzMz8z+amZmZmZn5PzMzMzMzMwNAAAAAAAAAAECamZmZmZkFQM3MzMzMzABAzczMzMzM/D8zMzMzMzPzPwAAAAAAAABAzczMzMzMEEAzMzMzMzPjP83MzMzMzPw/ZmZmZmZm5j9mZmZmZmb+P83MzMzMzPQ/AAAAAAAA4D9mZmZmZmYGQAAAAAAAAPA/ZmZmZmZmEECamZmZmZkBQM3MzMzMzBBAMzMzMzMzC0DNzMzMzMz8P2ZmZmZmZvY/ZmZmZmZmCkCamZmZmZnpP5qZmZmZmek/mpmZmZmZBUDNzMzMzMwIQGZmZmZmZgJAmpmZmZmZDUAzMzMzMzPzPzMzMzMzMwdAZmZmZmZmAkCamZmZmZkNQM3MzMzMzABAzczMzMzMAECamZmZmZkFQM3MzMzMzPw/MzMzMzMz8z8AAAAAAAAEQDMzMzMzM/s/mpmZmZmZ+T8AAAAAAAAAQAAAAAAAAPg/zczMzMzM9D8zMzMzMzPTPwAAAAAAAPg/",
          "dtype": "f8"
         },
         "xaxis": "x",
         "y": {
          "bdata": "AwECAAMEAAYCAQECAAMHAwIABAQABAIAAAMCBAIFAQQEAgEBAQICAgQAAAICAgEBAAEDAwIEBQMDAgABAAEEAQEDAgECAgICAgECAAIAAQICAgEAAQMGBQAABQMEAQIEBAICAgEDBQICAAACAQMBAwMABAIDAQAEAAECAQICBQMCAAcCAAMCAwIAAgECBwADAAABAQQBAwMDAwMDAwMDAQMABAIFAQQBAwIBAAICAgMCAQEA",
          "dtype": "i1"
         },
         "yaxis": "y"
        },
        {
         "customdata": [
          [
           "gr PAOK"
          ],
          [
           "hu Vidi"
          ],
          [
           "by BATE Borisov"
          ],
          [
           "by BATE Borisov"
          ],
          [
           "gr PAOK"
          ],
          [
           "hu Vidi"
          ],
          [
           "se Malmö"
          ],
          [
           "se Malmö"
          ],
          [
           "ua Dynamo Kyiv"
          ],
          [
           "ua Dynamo Kyiv"
          ],
          [
           "cz Slavia Prague"
          ],
          [
           "cz Slavia Prague"
          ],
          [
           "de Eint Frankfurt"
          ],
          [
           "de Eint Frankfurt"
          ],
          [
           "eng Arsenal"
          ],
          [
           "at LASK"
          ],
          [
           "be Union SG"
          ],
          [
           "fr Toulouse"
          ],
          [
           "fr Toulouse"
          ],
          [
           "at LASK"
          ],
          [
           "be Union SG"
          ],
          [
           "cz Sparta Prague"
          ],
          [
           "cz Sparta Prague"
          ],
          [
           "it Atalanta"
          ],
          [
           "it Atalanta"
          ]
         ],
         "hovertemplate": "<b>%{hovertext}</b><br><br>Comp=Europa Lg<br>Expected Goals (xG)=%{x}<br>Goals Scored (GF)=%{y}<br>Opponent=%{customdata[0]}<extra></extra>",
         "hovertext": [
          "Chelsea",
          "Chelsea",
          "Chelsea",
          "Chelsea",
          "Chelsea",
          "Chelsea",
          "Chelsea",
          "Chelsea",
          "Chelsea",
          "Chelsea",
          "Chelsea",
          "Chelsea",
          "Chelsea",
          "Chelsea",
          "Chelsea",
          "Liverpool",
          "Liverpool",
          "Liverpool",
          "Liverpool",
          "Liverpool",
          "Liverpool",
          "Liverpool",
          "Liverpool",
          "Liverpool",
          "Liverpool"
         ],
         "legendgroup": "Europa Lg",
         "marker": {
          "color": "rgb(152,78,163)",
          "symbol": "circle"
         },
         "mode": "markers",
         "name": "Europa Lg",
         "showlegend": true,
         "type": "scattergl",
         "x": {
          "bdata": "zczMzMzMBEAAAAAAAAAMQM3MzMzMzAhAAAAAAAAA8D/NzMzMzMwAQGZmZmZmZvY/ZmZmZmZmAkBmZmZmZmb+PwAAAAAAAAhAZmZmZmZmCkAzMzMzMzPjP2ZmZmZmZgZAzczMzMzM9D+amZmZmZnpP2ZmZmZmZv4/mpmZmZmZAUAzMzMzMzMHQDMzMzMzMwdAmpmZmZmZ8T9mZmZmZmYKQDMzMzMzM9M/ZmZmZmZmBkDNzMzMzMwMQM3MzMzMzARAmpmZmZmZ+T8=",
          "dtype": "f8"
         },
         "xaxis": "x",
         "y": {
          "bdata": "AQEDAQQCAgMDBQEEAQEEAwIFAgQBBQYAAQ==",
          "dtype": "i1"
         },
         "yaxis": "y"
        },
        {
         "customdata": [
          [
           "Oxford United"
          ],
          [
           "Liverpool"
          ],
          [
           "Chelsea"
          ],
          [
           "Derby County"
          ],
          [
           "Fulham"
          ],
          [
           "Leicester City"
          ],
          [
           "Bournemouth"
          ],
          [
           "Tottenham"
          ],
          [
           "Burton Albion"
          ],
          [
           "Burton Albion"
          ],
          [
           "Tottenham"
          ],
          [
           "Chelsea"
          ],
          [
           "Manchester City"
          ],
          [
           "Preston"
          ],
          [
           "Grimsby Town"
          ],
          [
           "MK Dons"
          ],
          [
           "Southampton"
          ],
          [
           "Manchester Utd"
          ],
          [
           "Arsenal"
          ],
          [
           "Aston Villa"
          ],
          [
           "Oxford United"
          ],
          [
           "Manchester Utd"
          ],
          [
           "Manchester Utd"
          ],
          [
           "Aston Villa"
          ],
          [
           "Barnsley"
          ],
          [
           "Lincoln City"
          ],
          [
           "Bournemouth"
          ],
          [
           "Tottenham"
          ],
          [
           "Burnley"
          ],
          [
           "Arsenal"
          ],
          [
           "Arsenal"
          ],
          [
           "Manchester Utd"
          ],
          [
           "Tottenham"
          ],
          [
           "Norwich City"
          ],
          [
           "Wycombe"
          ],
          [
           "Aston Villa"
          ],
          [
           "Southampton"
          ],
          [
           "West Ham"
          ],
          [
           "Preston"
          ],
          [
           "Brentford"
          ],
          [
           "Leicester City"
          ],
          [
           "Tottenham"
          ],
          [
           "Tottenham"
          ],
          [
           "Arsenal"
          ],
          [
           "Arsenal"
          ],
          [
           "Liverpool"
          ],
          [
           "Chelsea"
          ],
          [
           "Chelsea"
          ],
          [
           "Derby County"
          ],
          [
           "Manchester City"
          ],
          [
           "Manchester City"
          ],
          [
           "Liverpool"
          ],
          [
           "Southampton"
          ],
          [
           "AFC Wimbledon"
          ],
          [
           "Newcastle Utd"
          ],
          [
           "Brighton"
          ],
          [
           "Leicester City"
          ],
          [
           "Bournemouth"
          ],
          [
           "Blackburn"
          ],
          [
           "Newcastle Utd"
          ],
          [
           "West Ham"
          ],
          [
           "Middlesbrough"
          ],
          [
           "Fulham"
          ],
          [
           "Middlesbrough"
          ],
          [
           "Fulham"
          ],
          [
           "Liverpool"
          ],
          [
           "Chelsea"
          ],
          [
           "Barrow"
          ],
          [
           "Watford"
          ],
          [
           "West Ham"
          ],
          [
           "Brighton"
          ],
          [
           "Tottenham"
          ],
          [
           "Newcastle Utd"
          ],
          [
           "Southampton"
          ],
          [
           "Tottenham"
          ],
          [
           "Tottenham"
          ],
          [
           "Newcastle Utd"
          ]
         ],
         "hovertemplate": "<b>%{hovertext}</b><br><br>Comp=EFL Cup<br>Expected Goals (xG)=%{x}<br>Goals Scored (GF)=%{y}<br>Opponent=%{customdata[0]}<extra></extra>",
         "hovertext": [
          "Manchester City",
          "Chelsea",
          "Liverpool",
          "Chelsea",
          "Manchester City",
          "Manchester City",
          "Chelsea",
          "Chelsea",
          "Manchester City",
          "Manchester City",
          "Chelsea",
          "Manchester City",
          "Chelsea",
          "Manchester City",
          "Chelsea",
          "Liverpool",
          "Manchester City",
          "Chelsea",
          "Liverpool",
          "Liverpool",
          "Manchester City",
          "Manchester City",
          "Manchester City",
          "Manchester City",
          "Chelsea",
          "Liverpool",
          "Manchester City",
          "Chelsea",
          "Manchester City",
          "Liverpool",
          "Manchester City",
          "Manchester City",
          "Manchester City",
          "Liverpool",
          "Manchester City",
          "Chelsea",
          "Chelsea",
          "Manchester City",
          "Liverpool",
          "Chelsea",
          "Liverpool",
          "Chelsea",
          "Chelsea",
          "Liverpool",
          "Liverpool",
          "Chelsea",
          "Liverpool",
          "Manchester City",
          "Liverpool",
          "Chelsea",
          "Liverpool",
          "Manchester City",
          "Manchester City",
          "Chelsea",
          "Manchester City",
          "Chelsea",
          "Liverpool",
          "Liverpool",
          "Chelsea",
          "Chelsea",
          "Liverpool",
          "Chelsea",
          "Liverpool",
          "Chelsea",
          "Liverpool",
          "Chelsea",
          "Liverpool",
          "Chelsea",
          "Manchester City",
          "Liverpool",
          "Liverpool",
          "Manchester City",
          "Chelsea",
          "Liverpool",
          "Liverpool",
          "Liverpool",
          "Liverpool"
         ],
         "legendgroup": "EFL Cup",
         "marker": {
          "color": "rgb(255,127,0)",
          "symbol": "circle"
         },
         "mode": "markers",
         "name": "EFL Cup",
         "showlegend": true,
         "type": "scattergl",
         "x": {
          "bdata": "PQrXo3A9AkAUrkfhehT+P65H4XoUru8/PQrXo3A9AkAUrkfhehT+P/YoXI/C9fg/9ihcj8L1+D8AAAAAAAD0P2ZmZmZmZgpA9ihcj8L1+D8UrkfhehT+PwAAAAAAAPQ/AAAAAAAA9D89CtejcD0CQLgehetRuAhAFK5H4XoU/j89CtejcD0CQPYoXI/C9fg/9ihcj8L1CEAAAAAAAAD0Pz0K16NwPQJAPQrXo3A9AkAAAAAAAAD0PxSuR+F6FP4/UrgehetRCkC4HoXrUbgIQBSuR+F6FP4/9ihcj8L1+D89CtejcD0CQAAAAAAAAPQ/KVyPwvUoBkAUrkfhehT+P/YoXI/C9fg/PQrXo3A9AkBSuB6F61EKQPYoXI/C9fg/9ihcj8L1+D8AAAAAAAD0PxSuR+F6FP4/FK5H4XoU/j89CtejcD0CQBSuR+F6FP4/9ihcj8L1+D8AAAAAAAD0PxSuR+F6FP4/AAAAAAAA9D/NzMzMzMzkPxSuR+F6FP4/AAAAAAAA9D8AAAAAAAD0PxSuR+F6FP4/zczMzMzM/D8AAAAAAAD0PxSuR+F6FP4/AAAAAAAA9D/2KFyPwvX4Pz0K16NwPQJAFK5H4XoU/j8UrkfhehT+P/YoXI/C9fg/9ihcj8L1CEAAAAAAAAD0PxSuR+F6FP4/UrgehetRCkD2KFyPwvX4PwAAAAAAAPQ/rkfhehSu7z/2KFyPwvUIQBSuR+F6FP4/9ihcj8L1CEA9CtejcD0CQPYoXI/C9fg/AAAAAAAA9D8UrkfhehT+PwAAAAAAAPQ/KVyPwvUoBkD2KFyPwvX4Pw==",
          "dtype": "f8"
         },
         "xaxis": "x",
         "y": {
          "bdata": "AwIBAwIBAQAJAQIAAAMHAgMBBQADAwACBgcCAQMABAIBAwYBAQACAgMCAQACAAACAAACAwACAAEDAgIBBQACBgEAAQUCBQMBAAIABAE=",
          "dtype": "i1"
         },
         "yaxis": "y"
        },
        {
         "customdata": [
          [
           "Nott'ham Forest"
          ],
          [
           "Rotherham Utd"
          ],
          [
           "Wolves"
          ],
          [
           "Burnley"
          ],
          [
           "Sheffield Weds"
          ],
          [
           "Newport County"
          ],
          [
           "Manchester Utd"
          ],
          [
           "Swansea City"
          ],
          [
           "Brighton"
          ],
          [
           "Watford"
          ],
          [
           "Port Vale"
          ],
          [
           "Nott'ham Forest"
          ],
          [
           "Everton"
          ],
          [
           "Hull City"
          ],
          [
           "Shrewsbury"
          ],
          [
           "Fulham"
          ],
          [
           "Shrewsbury"
          ],
          [
           "Liverpool"
          ],
          [
           "Chelsea"
          ],
          [
           "Sheffield Weds"
          ],
          [
           "Leicester City"
          ],
          [
           "Newcastle Utd"
          ],
          [
           "Arsenal"
          ],
          [
           "Manchester Utd"
          ],
          [
           "Arsenal"
          ],
          [
           "Aston Villa"
          ],
          [
           "Morecambe"
          ],
          [
           "Birmingham City"
          ],
          [
           "Cheltenham"
          ],
          [
           "Luton Town"
          ],
          [
           "Manchester Utd"
          ],
          [
           "Swansea City"
          ],
          [
           "Barnsley"
          ],
          [
           "Everton"
          ],
          [
           "Sheffield Utd"
          ],
          [
           "Chelsea"
          ],
          [
           "Manchester City"
          ],
          [
           "Leicester City"
          ],
          [
           "Swindon Town"
          ],
          [
           "Chesterfield"
          ],
          [
           "Shrewsbury"
          ],
          [
           "Fulham"
          ],
          [
           "Plymouth Argyle"
          ],
          [
           "Cardiff City"
          ],
          [
           "P'borough Utd"
          ],
          [
           "Luton Town"
          ],
          [
           "Norwich City"
          ],
          [
           "Middlesbrough"
          ],
          [
           "Southampton"
          ],
          [
           "Nott'ham Forest"
          ],
          [
           "Manchester City"
          ],
          [
           "Liverpool"
          ],
          [
           "Crystal Palace"
          ],
          [
           "Chelsea"
          ],
          [
           "Liverpool"
          ],
          [
           "Wolves"
          ],
          [
           "Manchester City"
          ],
          [
           "Chelsea"
          ],
          [
           "Wolves"
          ],
          [
           "Arsenal"
          ],
          [
           "Brighton"
          ],
          [
           "Bristol City"
          ],
          [
           "Burnley"
          ],
          [
           "Sheffield Utd"
          ],
          [
           "Manchester Utd"
          ],
          [
           "Preston"
          ],
          [
           "Huddersfield"
          ],
          [
           "Arsenal"
          ],
          [
           "Tottenham"
          ],
          [
           "Aston Villa"
          ],
          [
           "Norwich City"
          ],
          [
           "Aston Villa"
          ],
          [
           "Luton Town"
          ],
          [
           "Southampton"
          ],
          [
           "Leeds United"
          ],
          [
           "Newcastle Utd"
          ],
          [
           "Manchester Utd"
          ],
          [
           "Leicester City"
          ],
          [
           "Chelsea"
          ],
          [
           "Manchester City"
          ],
          [
           "Manchester Utd"
          ],
          [
           "Acc'ton Stanley"
          ],
          [
           "Salford City"
          ],
          [
           "Morecambe"
          ],
          [
           "Brighton"
          ],
          [
           "Leyton Orient"
          ],
          [
           "Plymouth Argyle"
          ],
          [
           "Plymouth Argyle"
          ],
          [
           "Bournemouth"
          ]
         ],
         "hovertemplate": "<b>%{hovertext}</b><br><br>Comp=FA Cup<br>Expected Goals (xG)=%{x}<br>Goals Scored (GF)=%{y}<br>Opponent=%{customdata[0]}<extra></extra>",
         "hovertext": [
          "Chelsea",
          "Manchester City",
          "Liverpool",
          "Manchester City",
          "Chelsea",
          "Manchester City",
          "Chelsea",
          "Manchester City",
          "Manchester City",
          "Manchester City",
          "Manchester City",
          "Chelsea",
          "Liverpool",
          "Chelsea",
          "Liverpool",
          "Manchester City",
          "Liverpool",
          "Chelsea",
          "Liverpool",
          "Manchester City",
          "Chelsea",
          "Manchester City",
          "Manchester City",
          "Chelsea",
          "Chelsea",
          "Liverpool",
          "Chelsea",
          "Manchester City",
          "Manchester City",
          "Chelsea",
          "Liverpool",
          "Manchester City",
          "Chelsea",
          "Manchester City",
          "Chelsea",
          "Manchester City",
          "Chelsea",
          "Chelsea",
          "Manchester City",
          "Chelsea",
          "Liverpool",
          "Manchester City",
          "Chelsea",
          "Liverpool",
          "Manchester City",
          "Chelsea",
          "Liverpool",
          "Chelsea",
          "Manchester City",
          "Liverpool",
          "Liverpool",
          "Manchester City",
          "Chelsea",
          "Liverpool",
          "Chelsea",
          "Liverpool",
          "Chelsea",
          "Manchester City",
          "Liverpool",
          "Manchester City",
          "Liverpool",
          "Manchester City",
          "Manchester City",
          "Manchester City",
          "Manchester City",
          "Chelsea",
          "Manchester City",
          "Liverpool",
          "Manchester City",
          "Chelsea",
          "Liverpool",
          "Chelsea",
          "Manchester City",
          "Liverpool",
          "Chelsea",
          "Manchester City",
          "Liverpool",
          "Chelsea",
          "Manchester City",
          "Chelsea",
          "Manchester City",
          "Liverpool",
          "Manchester City",
          "Chelsea",
          "Chelsea",
          "Manchester City",
          "Liverpool",
          "Manchester City",
          "Manchester City"
         ],
         "legendgroup": "FA Cup",
         "marker": {
          "color": "rgb(255,255,51)",
          "symbol": "circle"
         },
         "mode": "markers",
         "name": "FA Cup",
         "showlegend": true,
         "type": "scattergl",
         "x": {
          "bdata": "FK5H4XoU/j+4HoXrUbgIQPYoXI/C9fg/9ihcj8L1CEA9CtejcD0CQClcj8L1KAZAAAAAAAAA9D89CtejcD0CQPYoXI/C9fg/UrgehetRCkApXI/C9SgGQBSuR+F6FP4/9ihcj8L1+D8UrkfhehT+PxSuR+F6FP4/KVyPwvUoBkD2KFyPwvX4PxSuR+F6FP4/zczMzMzM5D/2KFyPwvX4P/YoXI/C9fg/FK5H4XoU/j8AAAAAAAD0Pz0K16NwPQJA9ihcj8L1+D8pXI/C9SgGQClcj8L1KAZAPQrXo3A9AkA9CtejcD0CQD0K16NwPQJAFK5H4XoU/j89CtejcD0CQPYoXI/C9fg/FK5H4XoU/j8UrkfhehT+PwAAAAAAAPQ/rkfhehSu7z8AAAAAAAD0Pylcj8L1KAZA9ihcj8L1CEApXI/C9SgGQClcj8L1KAZAFK5H4XoU/j89CtejcD0CQBSuR+F6FP4/PQrXo3A9AkAUrkfhehT+PxSuR+F6FP4/KVyPwvUoBkD2KFyPwvX4Pz0K16NwPQJAcT0K16Nw9T8UrkfhehT+PwAAAAAAAPQ/zczMzMzM5D8UrkfhehT+PwAAAAAAAPQ/H4XrUbgeBUD2KFyPwvX4P/YoXI/C9fg/9ihcj8L1+D89CtejcD0CQFK4HoXrUQpAPQrXo3A9AkAUrkfhehT+Pylcj8L1KAZA9ihcj8L1CEAUrkfhehT+P/YoXI/C9fg/AAAAAAAA9D/2KFyPwvUIQD0K16NwPQJAUrgehetRCkA9CtejcD0CQD0K16NwPQJAFK5H4XoU/j89CtejcD0CQClcj8L1KAZA9ihcj8L1+D/NzMzMzMzkP/YoXI/C9fg/KVyPwvUoBkCamZmZmZkXQPYoXI/C9QhA9ihcj8L1+D8UrkfhehT+PwAAAAAAAPQ/PQrXo3A9AkAUrkfhehT+Pw==",
          "dtype": "f8"
         },
         "xaxis": "x",
         "y": {
          "bdata": "AgcBBQMEAAMBBgQCAQICBAECAAEBAgADAQQEAwMDAgMBAgIAAQAEBQQEAgMCAwICBAEDAgIAAAIABAEBAQMGAwIEBQIBAAUDBgMDAgMEAQABBAgFAQIAAwI=",
          "dtype": "i1"
         },
         "yaxis": "y"
        },
        {
         "customdata": [
          [
           "eng Liverpool"
          ],
          [
           "eng Chelsea"
          ],
          [
           "es Villarreal"
          ],
          [
           "es Sevilla"
          ]
         ],
         "hovertemplate": "<b>%{hovertext}</b><br><br>Comp=Super Cup<br>Expected Goals (xG)=%{x}<br>Goals Scored (GF)=%{y}<br>Opponent=%{customdata[0]}<extra></extra>",
         "hovertext": [
          "Chelsea",
          "Liverpool",
          "Chelsea",
          "Manchester City"
         ],
         "legendgroup": "Super Cup",
         "marker": {
          "color": "rgb(166,86,40)",
          "symbol": "circle"
         },
         "mode": "markers",
         "name": "Super Cup",
         "showlegend": true,
         "type": "scattergl",
         "x": {
          "bdata": "FK5H4XoU/j8UrkfhehT+P/YoXI/C9fg/9ihcj8L1+D8=",
          "dtype": "f8"
         },
         "xaxis": "x",
         "y": {
          "bdata": "AgIBAQ==",
          "dtype": "i1"
         },
         "yaxis": "y"
        },
        {
         "customdata": [
          [
           "Manchester Utd"
          ]
         ],
         "hovertemplate": "<b>%{hovertext}</b><br><br>Comp=FA Community Shield<br>Expected Goals (xG)=%{x}<br>Goals Scored (GF)=%{y}<br>Opponent=%{customdata[0]}<extra></extra>",
         "hovertext": [
          "Manchester City"
         ],
         "legendgroup": "FA Community Shield",
         "marker": {
          "color": "rgb(247,129,191)",
          "symbol": "circle"
         },
         "mode": "markers",
         "name": "FA Community Shield",
         "showlegend": true,
         "type": "scattergl",
         "x": {
          "bdata": "9ihcj8L1+D8=",
          "dtype": "f8"
         },
         "xaxis": "x",
         "y": {
          "bdata": "AQ==",
          "dtype": "i1"
         },
         "yaxis": "y"
        },
        {
         "customdata": [
          [
           "ch Servette FC"
          ],
          [
           "ch Servette FC"
          ],
          [
           "be Gent"
          ],
          [
           "gr Panathinaikos"
          ],
          [
           "am FC Noah"
          ],
          [
           "de Heidenheim"
          ],
          [
           "kz Astana FK"
          ],
          [
           "ie Shamrock Rov"
          ],
          [
           "dk FC Copenhagen"
          ],
          [
           "dk FC Copenhagen"
          ],
          [
           "pl Legia Warsaw"
          ],
          [
           "pl Legia Warsaw"
          ]
         ],
         "hovertemplate": "<b>%{hovertext}</b><br><br>Comp=Conf Lg<br>Expected Goals (xG)=%{x}<br>Goals Scored (GF)=%{y}<br>Opponent=%{customdata[0]}<extra></extra>",
         "hovertext": [
          "Chelsea",
          "Chelsea",
          "Chelsea",
          "Chelsea",
          "Chelsea",
          "Chelsea",
          "Chelsea",
          "Chelsea",
          "Chelsea",
          "Chelsea",
          "Chelsea",
          "Chelsea"
         ],
         "legendgroup": "Conf Lg",
         "marker": {
          "color": "rgb(153,153,153)",
          "symbol": "circle"
         },
         "mode": "markers",
         "name": "Conf Lg",
         "showlegend": true,
         "type": "scattergl",
         "x": {
          "bdata": "FK5H4XoU/j/2KFyPwvX4Pylcj8L1KAZAKVyPwvUoBkCamZmZmZkXQBSuR+F6FP4/PQrXo3A9AkD2KFyPwvUIQBSuR+F6FP4/9ihcj8L1+D89CtejcD0CQPYoXI/C9fg/",
          "dtype": "f8"
         },
         "xaxis": "x",
         "y": {
          "bdata": "AgEEBAgCAwUCAQMB",
          "dtype": "i1"
         },
         "yaxis": "y"
        }
       ],
       "layout": {
        "font": {
         "family": "Arial",
         "size": 14
        },
        "height": 600,
        "legend": {
         "title": {
          "text": "Comp"
         },
         "tracegroupgap": 0
        },
        "margin": {
         "b": 60,
         "l": 60,
         "r": 40,
         "t": 80
        },
        "paper_bgcolor": "rgb(26, 26, 26)",
        "plot_bgcolor": "rgb(26, 26, 26)",
        "template": {
         "data": {
          "bar": [
           {
            "error_x": {
             "color": "#f2f5fa"
            },
            "error_y": {
             "color": "#f2f5fa"
            },
            "marker": {
             "line": {
              "color": "rgb(17,17,17)",
              "width": 0.5
             },
             "pattern": {
              "fillmode": "overlay",
              "size": 10,
              "solidity": 0.2
             }
            },
            "type": "bar"
           }
          ],
          "barpolar": [
           {
            "marker": {
             "line": {
              "color": "rgb(17,17,17)",
              "width": 0.5
             },
             "pattern": {
              "fillmode": "overlay",
              "size": 10,
              "solidity": 0.2
             }
            },
            "type": "barpolar"
           }
          ],
          "carpet": [
           {
            "aaxis": {
             "endlinecolor": "#A2B1C6",
             "gridcolor": "#506784",
             "linecolor": "#506784",
             "minorgridcolor": "#506784",
             "startlinecolor": "#A2B1C6"
            },
            "baxis": {
             "endlinecolor": "#A2B1C6",
             "gridcolor": "#506784",
             "linecolor": "#506784",
             "minorgridcolor": "#506784",
             "startlinecolor": "#A2B1C6"
            },
            "type": "carpet"
           }
          ],
          "choropleth": [
           {
            "colorbar": {
             "outlinewidth": 0,
             "ticks": ""
            },
            "type": "choropleth"
           }
          ],
          "contour": [
           {
            "colorbar": {
             "outlinewidth": 0,
             "ticks": ""
            },
            "colorscale": [
             [
              0,
              "#0d0887"
             ],
             [
              0.1111111111111111,
              "#46039f"
             ],
             [
              0.2222222222222222,
              "#7201a8"
             ],
             [
              0.3333333333333333,
              "#9c179e"
             ],
             [
              0.4444444444444444,
              "#bd3786"
             ],
             [
              0.5555555555555556,
              "#d8576b"
             ],
             [
              0.6666666666666666,
              "#ed7953"
             ],
             [
              0.7777777777777778,
              "#fb9f3a"
             ],
             [
              0.8888888888888888,
              "#fdca26"
             ],
             [
              1,
              "#f0f921"
             ]
            ],
            "type": "contour"
           }
          ],
          "contourcarpet": [
           {
            "colorbar": {
             "outlinewidth": 0,
             "ticks": ""
            },
            "type": "contourcarpet"
           }
          ],
          "heatmap": [
           {
            "colorbar": {
             "outlinewidth": 0,
             "ticks": ""
            },
            "colorscale": [
             [
              0,
              "#0d0887"
             ],
             [
              0.1111111111111111,
              "#46039f"
             ],
             [
              0.2222222222222222,
              "#7201a8"
             ],
             [
              0.3333333333333333,
              "#9c179e"
             ],
             [
              0.4444444444444444,
              "#bd3786"
             ],
             [
              0.5555555555555556,
              "#d8576b"
             ],
             [
              0.6666666666666666,
              "#ed7953"
             ],
             [
              0.7777777777777778,
              "#fb9f3a"
             ],
             [
              0.8888888888888888,
              "#fdca26"
             ],
             [
              1,
              "#f0f921"
             ]
            ],
            "type": "heatmap"
           }
          ],
          "histogram": [
           {
            "marker": {
             "pattern": {
              "fillmode": "overlay",
              "size": 10,
              "solidity": 0.2
             }
            },
            "type": "histogram"
           }
          ],
          "histogram2d": [
           {
            "colorbar": {
             "outlinewidth": 0,
             "ticks": ""
            },
            "colorscale": [
             [
              0,
              "#0d0887"
             ],
             [
              0.1111111111111111,
              "#46039f"
             ],
             [
              0.2222222222222222,
              "#7201a8"
             ],
             [
              0.3333333333333333,
              "#9c179e"
             ],
             [
              0.4444444444444444,
              "#bd3786"
             ],
             [
              0.5555555555555556,
              "#d8576b"
             ],
             [
              0.6666666666666666,
              "#ed7953"
             ],
             [
              0.7777777777777778,
              "#fb9f3a"
             ],
             [
              0.8888888888888888,
              "#fdca26"
             ],
             [
              1,
              "#f0f921"
             ]
            ],
            "type": "histogram2d"
           }
          ],
          "histogram2dcontour": [
           {
            "colorbar": {
             "outlinewidth": 0,
             "ticks": ""
            },
            "colorscale": [
             [
              0,
              "#0d0887"
             ],
             [
              0.1111111111111111,
              "#46039f"
             ],
             [
              0.2222222222222222,
              "#7201a8"
             ],
             [
              0.3333333333333333,
              "#9c179e"
             ],
             [
              0.4444444444444444,
              "#bd3786"
             ],
             [
              0.5555555555555556,
              "#d8576b"
             ],
             [
              0.6666666666666666,
              "#ed7953"
             ],
             [
              0.7777777777777778,
              "#fb9f3a"
             ],
             [
              0.8888888888888888,
              "#fdca26"
             ],
             [
              1,
              "#f0f921"
             ]
            ],
            "type": "histogram2dcontour"
           }
          ],
          "mesh3d": [
           {
            "colorbar": {
             "outlinewidth": 0,
             "ticks": ""
            },
            "type": "mesh3d"
           }
          ],
          "parcoords": [
           {
            "line": {
             "colorbar": {
              "outlinewidth": 0,
              "ticks": ""
             }
            },
            "type": "parcoords"
           }
          ],
          "pie": [
           {
            "automargin": true,
            "type": "pie"
           }
          ],
          "scatter": [
           {
            "marker": {
             "line": {
              "color": "#283442"
             }
            },
            "type": "scatter"
           }
          ],
          "scatter3d": [
           {
            "line": {
             "colorbar": {
              "outlinewidth": 0,
              "ticks": ""
             }
            },
            "marker": {
             "colorbar": {
              "outlinewidth": 0,
              "ticks": ""
             }
            },
            "type": "scatter3d"
           }
          ],
          "scattercarpet": [
           {
            "marker": {
             "colorbar": {
              "outlinewidth": 0,
              "ticks": ""
             }
            },
            "type": "scattercarpet"
           }
          ],
          "scattergeo": [
           {
            "marker": {
             "colorbar": {
              "outlinewidth": 0,
              "ticks": ""
             }
            },
            "type": "scattergeo"
           }
          ],
          "scattergl": [
           {
            "marker": {
             "line": {
              "color": "#283442"
             }
            },
            "type": "scattergl"
           }
          ],
          "scattermap": [
           {
            "marker": {
             "colorbar": {
              "outlinewidth": 0,
              "ticks": ""
             }
            },
            "type": "scattermap"
           }
          ],
          "scattermapbox": [
           {
            "marker": {
             "colorbar": {
              "outlinewidth": 0,
              "ticks": ""
             }
            },
            "type": "scattermapbox"
           }
          ],
          "scatterpolar": [
           {
            "marker": {
             "colorbar": {
              "outlinewidth": 0,
              "ticks": ""
             }
            },
            "type": "scatterpolar"
           }
          ],
          "scatterpolargl": [
           {
            "marker": {
             "colorbar": {
              "outlinewidth": 0,
              "ticks": ""
             }
            },
            "type": "scatterpolargl"
           }
          ],
          "scatterternary": [
           {
            "marker": {
             "colorbar": {
              "outlinewidth": 0,
              "ticks": ""
             }
            },
            "type": "scatterternary"
           }
          ],
          "surface": [
           {
            "colorbar": {
             "outlinewidth": 0,
             "ticks": ""
            },
            "colorscale": [
             [
              0,
              "#0d0887"
             ],
             [
              0.1111111111111111,
              "#46039f"
             ],
             [
              0.2222222222222222,
              "#7201a8"
             ],
             [
              0.3333333333333333,
              "#9c179e"
             ],
             [
              0.4444444444444444,
              "#bd3786"
             ],
             [
              0.5555555555555556,
              "#d8576b"
             ],
             [
              0.6666666666666666,
              "#ed7953"
             ],
             [
              0.7777777777777778,
              "#fb9f3a"
             ],
             [
              0.8888888888888888,
              "#fdca26"
             ],
             [
              1,
              "#f0f921"
             ]
            ],
            "type": "surface"
           }
          ],
          "table": [
           {
            "cells": {
             "fill": {
              "color": "#506784"
             },
             "line": {
              "color": "rgb(17,17,17)"
             }
            },
            "header": {
             "fill": {
              "color": "#2a3f5f"
             },
             "line": {
              "color": "rgb(17,17,17)"
             }
            },
            "type": "table"
           }
          ]
         },
         "layout": {
          "annotationdefaults": {
           "arrowcolor": "#f2f5fa",
           "arrowhead": 0,
           "arrowwidth": 1
          },
          "autotypenumbers": "strict",
          "coloraxis": {
           "colorbar": {
            "outlinewidth": 0,
            "ticks": ""
           }
          },
          "colorscale": {
           "diverging": [
            [
             0,
             "#8e0152"
            ],
            [
             0.1,
             "#c51b7d"
            ],
            [
             0.2,
             "#de77ae"
            ],
            [
             0.3,
             "#f1b6da"
            ],
            [
             0.4,
             "#fde0ef"
            ],
            [
             0.5,
             "#f7f7f7"
            ],
            [
             0.6,
             "#e6f5d0"
            ],
            [
             0.7,
             "#b8e186"
            ],
            [
             0.8,
             "#7fbc41"
            ],
            [
             0.9,
             "#4d9221"
            ],
            [
             1,
             "#276419"
            ]
           ],
           "sequential": [
            [
             0,
             "#0d0887"
            ],
            [
             0.1111111111111111,
             "#46039f"
            ],
            [
             0.2222222222222222,
             "#7201a8"
            ],
            [
             0.3333333333333333,
             "#9c179e"
            ],
            [
             0.4444444444444444,
             "#bd3786"
            ],
            [
             0.5555555555555556,
             "#d8576b"
            ],
            [
             0.6666666666666666,
             "#ed7953"
            ],
            [
             0.7777777777777778,
             "#fb9f3a"
            ],
            [
             0.8888888888888888,
             "#fdca26"
            ],
            [
             1,
             "#f0f921"
            ]
           ],
           "sequentialminus": [
            [
             0,
             "#0d0887"
            ],
            [
             0.1111111111111111,
             "#46039f"
            ],
            [
             0.2222222222222222,
             "#7201a8"
            ],
            [
             0.3333333333333333,
             "#9c179e"
            ],
            [
             0.4444444444444444,
             "#bd3786"
            ],
            [
             0.5555555555555556,
             "#d8576b"
            ],
            [
             0.6666666666666666,
             "#ed7953"
            ],
            [
             0.7777777777777778,
             "#fb9f3a"
            ],
            [
             0.8888888888888888,
             "#fdca26"
            ],
            [
             1,
             "#f0f921"
            ]
           ]
          },
          "colorway": [
           "#636efa",
           "#EF553B",
           "#00cc96",
           "#ab63fa",
           "#FFA15A",
           "#19d3f3",
           "#FF6692",
           "#B6E880",
           "#FF97FF",
           "#FECB52"
          ],
          "font": {
           "color": "#f2f5fa"
          },
          "geo": {
           "bgcolor": "rgb(17,17,17)",
           "lakecolor": "rgb(17,17,17)",
           "landcolor": "rgb(17,17,17)",
           "showlakes": true,
           "showland": true,
           "subunitcolor": "#506784"
          },
          "hoverlabel": {
           "align": "left"
          },
          "hovermode": "closest",
          "mapbox": {
           "style": "dark"
          },
          "paper_bgcolor": "rgb(17,17,17)",
          "plot_bgcolor": "rgb(17,17,17)",
          "polar": {
           "angularaxis": {
            "gridcolor": "#506784",
            "linecolor": "#506784",
            "ticks": ""
           },
           "bgcolor": "rgb(17,17,17)",
           "radialaxis": {
            "gridcolor": "#506784",
            "linecolor": "#506784",
            "ticks": ""
           }
          },
          "scene": {
           "xaxis": {
            "backgroundcolor": "rgb(17,17,17)",
            "gridcolor": "#506784",
            "gridwidth": 2,
            "linecolor": "#506784",
            "showbackground": true,
            "ticks": "",
            "zerolinecolor": "#C8D4E3"
           },
           "yaxis": {
            "backgroundcolor": "rgb(17,17,17)",
            "gridcolor": "#506784",
            "gridwidth": 2,
            "linecolor": "#506784",
            "showbackground": true,
            "ticks": "",
            "zerolinecolor": "#C8D4E3"
           },
           "zaxis": {
            "backgroundcolor": "rgb(17,17,17)",
            "gridcolor": "#506784",
            "gridwidth": 2,
            "linecolor": "#506784",
            "showbackground": true,
            "ticks": "",
            "zerolinecolor": "#C8D4E3"
           }
          },
          "shapedefaults": {
           "line": {
            "color": "#f2f5fa"
           }
          },
          "sliderdefaults": {
           "bgcolor": "#C8D4E3",
           "bordercolor": "rgb(17,17,17)",
           "borderwidth": 1,
           "tickwidth": 0
          },
          "ternary": {
           "aaxis": {
            "gridcolor": "#506784",
            "linecolor": "#506784",
            "ticks": ""
           },
           "baxis": {
            "gridcolor": "#506784",
            "linecolor": "#506784",
            "ticks": ""
           },
           "bgcolor": "rgb(17,17,17)",
           "caxis": {
            "gridcolor": "#506784",
            "linecolor": "#506784",
            "ticks": ""
           }
          },
          "title": {
           "x": 0.05
          },
          "updatemenudefaults": {
           "bgcolor": "#506784",
           "borderwidth": 0
          },
          "xaxis": {
           "automargin": true,
           "gridcolor": "#283442",
           "linecolor": "#506784",
           "ticks": "",
           "title": {
            "standoff": 15
           },
           "zerolinecolor": "#283442",
           "zerolinewidth": 2
          },
          "yaxis": {
           "automargin": true,
           "gridcolor": "#283442",
           "linecolor": "#506784",
           "ticks": "",
           "title": {
            "standoff": 15
           },
           "zerolinecolor": "#283442",
           "zerolinewidth": 2
          }
         }
        },
        "title": {
         "font": {
          "size": 20
         },
         "text": "Goals Scored vs Expected Goals (xG)"
        },
        "width": 950,
        "xaxis": {
         "anchor": "y",
         "domain": [
          0,
          1
         ],
         "title": {
          "text": "Expected Goals (xG)"
         }
        },
        "yaxis": {
         "anchor": "x",
         "domain": [
          0,
          1
         ],
         "title": {
          "text": "Goals Scored (GF)"
         }
        }
       }
      }
     },
     "metadata": {},
     "output_type": "display_data"
    }
   ],
   "source": [
    "import plotly.express as px\n",
    "import pandas as pd\n",
    "df= pd.read_excel('LIV-CHE-MAN.xlsx')\n",
    "fig = px.scatter(\n",
    "    df,\n",
    "    x='xG',  \n",
    "    y='GF', \n",
    "    color='Comp',  # Color by competition\n",
    "    hover_name='Club',  hover_data=['Opponent'],\n",
    "    title='Goals Scored vs Expected Goals (xG)',\n",
    "    labels={'xG': 'Expected Goals (xG)', 'GF': 'Goals Scored (GF)'},\n",
    "    template='plotly_dark',\n",
    "    color_discrete_sequence=px.colors.qualitative.Set1  # Use a color palette\n",
    ")\n",
    "\n",
    "fig.update_layout(\n",
    "    height=600,\n",
    "    width=950,\n",
    "    title_font_size=20,\n",
    "    font=dict(family='Arial', size=14),\n",
    "    xaxis_title='Expected Goals (xG)',\n",
    "    yaxis_title='Goals Scored (GF)',\n",
    "    margin=dict(l=60, r=40, t=80, b=60),\n",
    "    plot_bgcolor='rgb(26, 26, 26)',  \n",
    "    paper_bgcolor='rgb(26, 26, 26)',\n",
    ")\n",
    "\n",
    "fig.show()\n"
   ]
  },
  {
   "cell_type": "code",
   "execution_count": null,
   "id": "0d94362e",
   "metadata": {},
   "outputs": [
    {
     "data": {
      "application/vnd.plotly.v1+json": {
       "config": {
        "plotlyServerURL": "https://plot.ly"
       },
       "data": [
        {
         "hovertemplate": "Result=D<br>Team=%{x}<br>Number of Matches=%{y}<extra></extra>",
         "legendgroup": "D",
         "marker": {
          "color": "#ab63fa",
          "pattern": {
           "shape": ""
          }
         },
         "name": "D",
         "orientation": "v",
         "showlegend": true,
         "textposition": "auto",
         "type": "bar",
         "x": [
          "Chelsea",
          "Liverpool",
          "Manchester City"
         ],
         "xaxis": "x",
         "y": {
          "bdata": "VUg5",
          "dtype": "i1"
         },
         "yaxis": "y"
        },
        {
         "hovertemplate": "Result=L<br>Team=%{x}<br>Number of Matches=%{y}<extra></extra>",
         "legendgroup": "L",
         "marker": {
          "color": "#FFA15A",
          "pattern": {
           "shape": ""
          }
         },
         "name": "L",
         "orientation": "v",
         "showlegend": true,
         "textposition": "auto",
         "type": "bar",
         "x": [
          "Chelsea",
          "Liverpool",
          "Manchester City"
         ],
         "xaxis": "x",
         "y": {
          "bdata": "Xzw9",
          "dtype": "i1"
         },
         "yaxis": "y"
        },
        {
         "hovertemplate": "Result=W<br>Team=%{x}<br>Number of Matches=%{y}<extra></extra>",
         "legendgroup": "W",
         "marker": {
          "color": "#19d3f3",
          "pattern": {
           "shape": ""
          }
         },
         "name": "W",
         "orientation": "v",
         "showlegend": true,
         "textposition": "auto",
         "type": "bar",
         "x": [
          "Chelsea",
          "Liverpool",
          "Manchester City"
         ],
         "xaxis": "x",
         "y": {
          "bdata": "0AD9ACIB",
          "dtype": "i2"
         },
         "yaxis": "y"
        }
       ],
       "layout": {
        "barmode": "relative",
        "font": {
         "family": "Arial",
         "size": 14
        },
        "height": 600,
        "legend": {
         "title": {
          "text": "Result"
         },
         "tracegroupgap": 0
        },
        "margin": {
         "b": 60,
         "l": 60,
         "r": 40,
         "t": 80
        },
        "paper_bgcolor": "rgb(26, 26, 26)",
        "plot_bgcolor": "rgb(26, 26, 26)",
        "template": {
         "data": {
          "bar": [
           {
            "error_x": {
             "color": "#f2f5fa"
            },
            "error_y": {
             "color": "#f2f5fa"
            },
            "marker": {
             "line": {
              "color": "rgb(17,17,17)",
              "width": 0.5
             },
             "pattern": {
              "fillmode": "overlay",
              "size": 10,
              "solidity": 0.2
             }
            },
            "type": "bar"
           }
          ],
          "barpolar": [
           {
            "marker": {
             "line": {
              "color": "rgb(17,17,17)",
              "width": 0.5
             },
             "pattern": {
              "fillmode": "overlay",
              "size": 10,
              "solidity": 0.2
             }
            },
            "type": "barpolar"
           }
          ],
          "carpet": [
           {
            "aaxis": {
             "endlinecolor": "#A2B1C6",
             "gridcolor": "#506784",
             "linecolor": "#506784",
             "minorgridcolor": "#506784",
             "startlinecolor": "#A2B1C6"
            },
            "baxis": {
             "endlinecolor": "#A2B1C6",
             "gridcolor": "#506784",
             "linecolor": "#506784",
             "minorgridcolor": "#506784",
             "startlinecolor": "#A2B1C6"
            },
            "type": "carpet"
           }
          ],
          "choropleth": [
           {
            "colorbar": {
             "outlinewidth": 0,
             "ticks": ""
            },
            "type": "choropleth"
           }
          ],
          "contour": [
           {
            "colorbar": {
             "outlinewidth": 0,
             "ticks": ""
            },
            "colorscale": [
             [
              0,
              "#0d0887"
             ],
             [
              0.1111111111111111,
              "#46039f"
             ],
             [
              0.2222222222222222,
              "#7201a8"
             ],
             [
              0.3333333333333333,
              "#9c179e"
             ],
             [
              0.4444444444444444,
              "#bd3786"
             ],
             [
              0.5555555555555556,
              "#d8576b"
             ],
             [
              0.6666666666666666,
              "#ed7953"
             ],
             [
              0.7777777777777778,
              "#fb9f3a"
             ],
             [
              0.8888888888888888,
              "#fdca26"
             ],
             [
              1,
              "#f0f921"
             ]
            ],
            "type": "contour"
           }
          ],
          "contourcarpet": [
           {
            "colorbar": {
             "outlinewidth": 0,
             "ticks": ""
            },
            "type": "contourcarpet"
           }
          ],
          "heatmap": [
           {
            "colorbar": {
             "outlinewidth": 0,
             "ticks": ""
            },
            "colorscale": [
             [
              0,
              "#0d0887"
             ],
             [
              0.1111111111111111,
              "#46039f"
             ],
             [
              0.2222222222222222,
              "#7201a8"
             ],
             [
              0.3333333333333333,
              "#9c179e"
             ],
             [
              0.4444444444444444,
              "#bd3786"
             ],
             [
              0.5555555555555556,
              "#d8576b"
             ],
             [
              0.6666666666666666,
              "#ed7953"
             ],
             [
              0.7777777777777778,
              "#fb9f3a"
             ],
             [
              0.8888888888888888,
              "#fdca26"
             ],
             [
              1,
              "#f0f921"
             ]
            ],
            "type": "heatmap"
           }
          ],
          "histogram": [
           {
            "marker": {
             "pattern": {
              "fillmode": "overlay",
              "size": 10,
              "solidity": 0.2
             }
            },
            "type": "histogram"
           }
          ],
          "histogram2d": [
           {
            "colorbar": {
             "outlinewidth": 0,
             "ticks": ""
            },
            "colorscale": [
             [
              0,
              "#0d0887"
             ],
             [
              0.1111111111111111,
              "#46039f"
             ],
             [
              0.2222222222222222,
              "#7201a8"
             ],
             [
              0.3333333333333333,
              "#9c179e"
             ],
             [
              0.4444444444444444,
              "#bd3786"
             ],
             [
              0.5555555555555556,
              "#d8576b"
             ],
             [
              0.6666666666666666,
              "#ed7953"
             ],
             [
              0.7777777777777778,
              "#fb9f3a"
             ],
             [
              0.8888888888888888,
              "#fdca26"
             ],
             [
              1,
              "#f0f921"
             ]
            ],
            "type": "histogram2d"
           }
          ],
          "histogram2dcontour": [
           {
            "colorbar": {
             "outlinewidth": 0,
             "ticks": ""
            },
            "colorscale": [
             [
              0,
              "#0d0887"
             ],
             [
              0.1111111111111111,
              "#46039f"
             ],
             [
              0.2222222222222222,
              "#7201a8"
             ],
             [
              0.3333333333333333,
              "#9c179e"
             ],
             [
              0.4444444444444444,
              "#bd3786"
             ],
             [
              0.5555555555555556,
              "#d8576b"
             ],
             [
              0.6666666666666666,
              "#ed7953"
             ],
             [
              0.7777777777777778,
              "#fb9f3a"
             ],
             [
              0.8888888888888888,
              "#fdca26"
             ],
             [
              1,
              "#f0f921"
             ]
            ],
            "type": "histogram2dcontour"
           }
          ],
          "mesh3d": [
           {
            "colorbar": {
             "outlinewidth": 0,
             "ticks": ""
            },
            "type": "mesh3d"
           }
          ],
          "parcoords": [
           {
            "line": {
             "colorbar": {
              "outlinewidth": 0,
              "ticks": ""
             }
            },
            "type": "parcoords"
           }
          ],
          "pie": [
           {
            "automargin": true,
            "type": "pie"
           }
          ],
          "scatter": [
           {
            "marker": {
             "line": {
              "color": "#283442"
             }
            },
            "type": "scatter"
           }
          ],
          "scatter3d": [
           {
            "line": {
             "colorbar": {
              "outlinewidth": 0,
              "ticks": ""
             }
            },
            "marker": {
             "colorbar": {
              "outlinewidth": 0,
              "ticks": ""
             }
            },
            "type": "scatter3d"
           }
          ],
          "scattercarpet": [
           {
            "marker": {
             "colorbar": {
              "outlinewidth": 0,
              "ticks": ""
             }
            },
            "type": "scattercarpet"
           }
          ],
          "scattergeo": [
           {
            "marker": {
             "colorbar": {
              "outlinewidth": 0,
              "ticks": ""
             }
            },
            "type": "scattergeo"
           }
          ],
          "scattergl": [
           {
            "marker": {
             "line": {
              "color": "#283442"
             }
            },
            "type": "scattergl"
           }
          ],
          "scattermap": [
           {
            "marker": {
             "colorbar": {
              "outlinewidth": 0,
              "ticks": ""
             }
            },
            "type": "scattermap"
           }
          ],
          "scattermapbox": [
           {
            "marker": {
             "colorbar": {
              "outlinewidth": 0,
              "ticks": ""
             }
            },
            "type": "scattermapbox"
           }
          ],
          "scatterpolar": [
           {
            "marker": {
             "colorbar": {
              "outlinewidth": 0,
              "ticks": ""
             }
            },
            "type": "scatterpolar"
           }
          ],
          "scatterpolargl": [
           {
            "marker": {
             "colorbar": {
              "outlinewidth": 0,
              "ticks": ""
             }
            },
            "type": "scatterpolargl"
           }
          ],
          "scatterternary": [
           {
            "marker": {
             "colorbar": {
              "outlinewidth": 0,
              "ticks": ""
             }
            },
            "type": "scatterternary"
           }
          ],
          "surface": [
           {
            "colorbar": {
             "outlinewidth": 0,
             "ticks": ""
            },
            "colorscale": [
             [
              0,
              "#0d0887"
             ],
             [
              0.1111111111111111,
              "#46039f"
             ],
             [
              0.2222222222222222,
              "#7201a8"
             ],
             [
              0.3333333333333333,
              "#9c179e"
             ],
             [
              0.4444444444444444,
              "#bd3786"
             ],
             [
              0.5555555555555556,
              "#d8576b"
             ],
             [
              0.6666666666666666,
              "#ed7953"
             ],
             [
              0.7777777777777778,
              "#fb9f3a"
             ],
             [
              0.8888888888888888,
              "#fdca26"
             ],
             [
              1,
              "#f0f921"
             ]
            ],
            "type": "surface"
           }
          ],
          "table": [
           {
            "cells": {
             "fill": {
              "color": "#506784"
             },
             "line": {
              "color": "rgb(17,17,17)"
             }
            },
            "header": {
             "fill": {
              "color": "#2a3f5f"
             },
             "line": {
              "color": "rgb(17,17,17)"
             }
            },
            "type": "table"
           }
          ]
         },
         "layout": {
          "annotationdefaults": {
           "arrowcolor": "#f2f5fa",
           "arrowhead": 0,
           "arrowwidth": 1
          },
          "autotypenumbers": "strict",
          "coloraxis": {
           "colorbar": {
            "outlinewidth": 0,
            "ticks": ""
           }
          },
          "colorscale": {
           "diverging": [
            [
             0,
             "#8e0152"
            ],
            [
             0.1,
             "#c51b7d"
            ],
            [
             0.2,
             "#de77ae"
            ],
            [
             0.3,
             "#f1b6da"
            ],
            [
             0.4,
             "#fde0ef"
            ],
            [
             0.5,
             "#f7f7f7"
            ],
            [
             0.6,
             "#e6f5d0"
            ],
            [
             0.7,
             "#b8e186"
            ],
            [
             0.8,
             "#7fbc41"
            ],
            [
             0.9,
             "#4d9221"
            ],
            [
             1,
             "#276419"
            ]
           ],
           "sequential": [
            [
             0,
             "#0d0887"
            ],
            [
             0.1111111111111111,
             "#46039f"
            ],
            [
             0.2222222222222222,
             "#7201a8"
            ],
            [
             0.3333333333333333,
             "#9c179e"
            ],
            [
             0.4444444444444444,
             "#bd3786"
            ],
            [
             0.5555555555555556,
             "#d8576b"
            ],
            [
             0.6666666666666666,
             "#ed7953"
            ],
            [
             0.7777777777777778,
             "#fb9f3a"
            ],
            [
             0.8888888888888888,
             "#fdca26"
            ],
            [
             1,
             "#f0f921"
            ]
           ],
           "sequentialminus": [
            [
             0,
             "#0d0887"
            ],
            [
             0.1111111111111111,
             "#46039f"
            ],
            [
             0.2222222222222222,
             "#7201a8"
            ],
            [
             0.3333333333333333,
             "#9c179e"
            ],
            [
             0.4444444444444444,
             "#bd3786"
            ],
            [
             0.5555555555555556,
             "#d8576b"
            ],
            [
             0.6666666666666666,
             "#ed7953"
            ],
            [
             0.7777777777777778,
             "#fb9f3a"
            ],
            [
             0.8888888888888888,
             "#fdca26"
            ],
            [
             1,
             "#f0f921"
            ]
           ]
          },
          "colorway": [
           "#636efa",
           "#EF553B",
           "#00cc96",
           "#ab63fa",
           "#FFA15A",
           "#19d3f3",
           "#FF6692",
           "#B6E880",
           "#FF97FF",
           "#FECB52"
          ],
          "font": {
           "color": "#f2f5fa"
          },
          "geo": {
           "bgcolor": "rgb(17,17,17)",
           "lakecolor": "rgb(17,17,17)",
           "landcolor": "rgb(17,17,17)",
           "showlakes": true,
           "showland": true,
           "subunitcolor": "#506784"
          },
          "hoverlabel": {
           "align": "left"
          },
          "hovermode": "closest",
          "mapbox": {
           "style": "dark"
          },
          "paper_bgcolor": "rgb(17,17,17)",
          "plot_bgcolor": "rgb(17,17,17)",
          "polar": {
           "angularaxis": {
            "gridcolor": "#506784",
            "linecolor": "#506784",
            "ticks": ""
           },
           "bgcolor": "rgb(17,17,17)",
           "radialaxis": {
            "gridcolor": "#506784",
            "linecolor": "#506784",
            "ticks": ""
           }
          },
          "scene": {
           "xaxis": {
            "backgroundcolor": "rgb(17,17,17)",
            "gridcolor": "#506784",
            "gridwidth": 2,
            "linecolor": "#506784",
            "showbackground": true,
            "ticks": "",
            "zerolinecolor": "#C8D4E3"
           },
           "yaxis": {
            "backgroundcolor": "rgb(17,17,17)",
            "gridcolor": "#506784",
            "gridwidth": 2,
            "linecolor": "#506784",
            "showbackground": true,
            "ticks": "",
            "zerolinecolor": "#C8D4E3"
           },
           "zaxis": {
            "backgroundcolor": "rgb(17,17,17)",
            "gridcolor": "#506784",
            "gridwidth": 2,
            "linecolor": "#506784",
            "showbackground": true,
            "ticks": "",
            "zerolinecolor": "#C8D4E3"
           }
          },
          "shapedefaults": {
           "line": {
            "color": "#f2f5fa"
           }
          },
          "sliderdefaults": {
           "bgcolor": "#C8D4E3",
           "bordercolor": "rgb(17,17,17)",
           "borderwidth": 1,
           "tickwidth": 0
          },
          "ternary": {
           "aaxis": {
            "gridcolor": "#506784",
            "linecolor": "#506784",
            "ticks": ""
           },
           "baxis": {
            "gridcolor": "#506784",
            "linecolor": "#506784",
            "ticks": ""
           },
           "bgcolor": "rgb(17,17,17)",
           "caxis": {
            "gridcolor": "#506784",
            "linecolor": "#506784",
            "ticks": ""
           }
          },
          "title": {
           "x": 0.05
          },
          "updatemenudefaults": {
           "bgcolor": "#506784",
           "borderwidth": 0
          },
          "xaxis": {
           "automargin": true,
           "gridcolor": "#283442",
           "linecolor": "#506784",
           "ticks": "",
           "title": {
            "standoff": 15
           },
           "zerolinecolor": "#283442",
           "zerolinewidth": 2
          },
          "yaxis": {
           "automargin": true,
           "gridcolor": "#283442",
           "linecolor": "#506784",
           "ticks": "",
           "title": {
            "standoff": 15
           },
           "zerolinecolor": "#283442",
           "zerolinewidth": 2
          }
         }
        },
        "title": {
         "font": {
          "size": 20
         },
         "text": "Match Results by Team"
        },
        "width": 950,
        "xaxis": {
         "anchor": "y",
         "domain": [
          0,
          1
         ],
         "tickangle": -45,
         "title": {
          "text": "Team"
         }
        },
        "yaxis": {
         "anchor": "x",
         "domain": [
          0,
          1
         ],
         "title": {
          "text": "Number of Matches"
         }
        }
       }
      }
     },
     "metadata": {},
     "output_type": "display_data"
    }
   ],
   "source": [
    "import plotly.express as px\n",
    "\n",
    "result_counts = df.groupby(['Club', 'Result']).size().reset_index(name='Count')\n",
    "result_counts['Result'] = result_counts['Result'].str.strip()  \n",
    "\n",
    "fig = px.bar(\n",
    "    result_counts,\n",
    "    x='Club', \n",
    "    y='Count',  \n",
    "    color='Result',  \n",
    "    title='Match Results by Team',\n",
    "    labels={'Count': 'Number of Matches', 'Club': 'Team', 'Result': 'Result'},\n",
    "    template='plotly_dark',\n",
    "    color_discrete_map={'Win': 'green', 'Loss': 'red', 'Draw': 'gray'} \n",
    ")\n",
    "\n",
    "fig.update_layout(\n",
    "    height=600,\n",
    "    width=950,\n",
    "    title_font_size=20,\n",
    "    font=dict(family='Arial', size=14),\n",
    "    xaxis_title='Team',\n",
    "    yaxis_title='Number of Matches',\n",
    "    xaxis_tickangle=-45,\n",
    "    margin=dict(l=60, r=40, t=80, b=60),\n",
    "    plot_bgcolor='rgb(26, 26, 26)',  \n",
    "    paper_bgcolor='rgb(26, 26, 26)',\n",
    ")\n",
    "\n",
    "fig.show()\n"
   ]
  },
  {
   "cell_type": "code",
   "execution_count": null,
   "id": "674b54a7",
   "metadata": {},
   "outputs": [
    {
     "data": {
      "application/vnd.plotly.v1+json": {
       "config": {
        "plotlyServerURL": "https://plot.ly"
       },
       "data": [
        {
         "bingroup": "x",
         "hovertemplate": "Attendance=%{x}<br>count=%{y}<extra></extra>",
         "legendgroup": "",
         "marker": {
          "color": "#636efa",
          "pattern": {
           "shape": ""
          }
         },
         "name": "",
         "nbinsx": 20,
         "orientation": "v",
         "showlegend": false,
         "type": "histogram",
         "x": {
          "bdata": "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",
          "dtype": "f8"
         },
         "xaxis": "x",
         "yaxis": "y"
        }
       ],
       "layout": {
        "barmode": "relative",
        "font": {
         "family": "Arial",
         "size": 14
        },
        "height": 600,
        "legend": {
         "tracegroupgap": 0
        },
        "margin": {
         "b": 60,
         "l": 60,
         "r": 40,
         "t": 80
        },
        "paper_bgcolor": "rgb(26, 26, 26)",
        "plot_bgcolor": "rgb(26, 26, 26)",
        "template": {
         "data": {
          "bar": [
           {
            "error_x": {
             "color": "#f2f5fa"
            },
            "error_y": {
             "color": "#f2f5fa"
            },
            "marker": {
             "line": {
              "color": "rgb(17,17,17)",
              "width": 0.5
             },
             "pattern": {
              "fillmode": "overlay",
              "size": 10,
              "solidity": 0.2
             }
            },
            "type": "bar"
           }
          ],
          "barpolar": [
           {
            "marker": {
             "line": {
              "color": "rgb(17,17,17)",
              "width": 0.5
             },
             "pattern": {
              "fillmode": "overlay",
              "size": 10,
              "solidity": 0.2
             }
            },
            "type": "barpolar"
           }
          ],
          "carpet": [
           {
            "aaxis": {
             "endlinecolor": "#A2B1C6",
             "gridcolor": "#506784",
             "linecolor": "#506784",
             "minorgridcolor": "#506784",
             "startlinecolor": "#A2B1C6"
            },
            "baxis": {
             "endlinecolor": "#A2B1C6",
             "gridcolor": "#506784",
             "linecolor": "#506784",
             "minorgridcolor": "#506784",
             "startlinecolor": "#A2B1C6"
            },
            "type": "carpet"
           }
          ],
          "choropleth": [
           {
            "colorbar": {
             "outlinewidth": 0,
             "ticks": ""
            },
            "type": "choropleth"
           }
          ],
          "contour": [
           {
            "colorbar": {
             "outlinewidth": 0,
             "ticks": ""
            },
            "colorscale": [
             [
              0,
              "#0d0887"
             ],
             [
              0.1111111111111111,
              "#46039f"
             ],
             [
              0.2222222222222222,
              "#7201a8"
             ],
             [
              0.3333333333333333,
              "#9c179e"
             ],
             [
              0.4444444444444444,
              "#bd3786"
             ],
             [
              0.5555555555555556,
              "#d8576b"
             ],
             [
              0.6666666666666666,
              "#ed7953"
             ],
             [
              0.7777777777777778,
              "#fb9f3a"
             ],
             [
              0.8888888888888888,
              "#fdca26"
             ],
             [
              1,
              "#f0f921"
             ]
            ],
            "type": "contour"
           }
          ],
          "contourcarpet": [
           {
            "colorbar": {
             "outlinewidth": 0,
             "ticks": ""
            },
            "type": "contourcarpet"
           }
          ],
          "heatmap": [
           {
            "colorbar": {
             "outlinewidth": 0,
             "ticks": ""
            },
            "colorscale": [
             [
              0,
              "#0d0887"
             ],
             [
              0.1111111111111111,
              "#46039f"
             ],
             [
              0.2222222222222222,
              "#7201a8"
             ],
             [
              0.3333333333333333,
              "#9c179e"
             ],
             [
              0.4444444444444444,
              "#bd3786"
             ],
             [
              0.5555555555555556,
              "#d8576b"
             ],
             [
              0.6666666666666666,
              "#ed7953"
             ],
             [
              0.7777777777777778,
              "#fb9f3a"
             ],
             [
              0.8888888888888888,
              "#fdca26"
             ],
             [
              1,
              "#f0f921"
             ]
            ],
            "type": "heatmap"
           }
          ],
          "histogram": [
           {
            "marker": {
             "pattern": {
              "fillmode": "overlay",
              "size": 10,
              "solidity": 0.2
             }
            },
            "type": "histogram"
           }
          ],
          "histogram2d": [
           {
            "colorbar": {
             "outlinewidth": 0,
             "ticks": ""
            },
            "colorscale": [
             [
              0,
              "#0d0887"
             ],
             [
              0.1111111111111111,
              "#46039f"
             ],
             [
              0.2222222222222222,
              "#7201a8"
             ],
             [
              0.3333333333333333,
              "#9c179e"
             ],
             [
              0.4444444444444444,
              "#bd3786"
             ],
             [
              0.5555555555555556,
              "#d8576b"
             ],
             [
              0.6666666666666666,
              "#ed7953"
             ],
             [
              0.7777777777777778,
              "#fb9f3a"
             ],
             [
              0.8888888888888888,
              "#fdca26"
             ],
             [
              1,
              "#f0f921"
             ]
            ],
            "type": "histogram2d"
           }
          ],
          "histogram2dcontour": [
           {
            "colorbar": {
             "outlinewidth": 0,
             "ticks": ""
            },
            "colorscale": [
             [
              0,
              "#0d0887"
             ],
             [
              0.1111111111111111,
              "#46039f"
             ],
             [
              0.2222222222222222,
              "#7201a8"
             ],
             [
              0.3333333333333333,
              "#9c179e"
             ],
             [
              0.4444444444444444,
              "#bd3786"
             ],
             [
              0.5555555555555556,
              "#d8576b"
             ],
             [
              0.6666666666666666,
              "#ed7953"
             ],
             [
              0.7777777777777778,
              "#fb9f3a"
             ],
             [
              0.8888888888888888,
              "#fdca26"
             ],
             [
              1,
              "#f0f921"
             ]
            ],
            "type": "histogram2dcontour"
           }
          ],
          "mesh3d": [
           {
            "colorbar": {
             "outlinewidth": 0,
             "ticks": ""
            },
            "type": "mesh3d"
           }
          ],
          "parcoords": [
           {
            "line": {
             "colorbar": {
              "outlinewidth": 0,
              "ticks": ""
             }
            },
            "type": "parcoords"
           }
          ],
          "pie": [
           {
            "automargin": true,
            "type": "pie"
           }
          ],
          "scatter": [
           {
            "marker": {
             "line": {
              "color": "#283442"
             }
            },
            "type": "scatter"
           }
          ],
          "scatter3d": [
           {
            "line": {
             "colorbar": {
              "outlinewidth": 0,
              "ticks": ""
             }
            },
            "marker": {
             "colorbar": {
              "outlinewidth": 0,
              "ticks": ""
             }
            },
            "type": "scatter3d"
           }
          ],
          "scattercarpet": [
           {
            "marker": {
             "colorbar": {
              "outlinewidth": 0,
              "ticks": ""
             }
            },
            "type": "scattercarpet"
           }
          ],
          "scattergeo": [
           {
            "marker": {
             "colorbar": {
              "outlinewidth": 0,
              "ticks": ""
             }
            },
            "type": "scattergeo"
           }
          ],
          "scattergl": [
           {
            "marker": {
             "line": {
              "color": "#283442"
             }
            },
            "type": "scattergl"
           }
          ],
          "scattermap": [
           {
            "marker": {
             "colorbar": {
              "outlinewidth": 0,
              "ticks": ""
             }
            },
            "type": "scattermap"
           }
          ],
          "scattermapbox": [
           {
            "marker": {
             "colorbar": {
              "outlinewidth": 0,
              "ticks": ""
             }
            },
            "type": "scattermapbox"
           }
          ],
          "scatterpolar": [
           {
            "marker": {
             "colorbar": {
              "outlinewidth": 0,
              "ticks": ""
             }
            },
            "type": "scatterpolar"
           }
          ],
          "scatterpolargl": [
           {
            "marker": {
             "colorbar": {
              "outlinewidth": 0,
              "ticks": ""
             }
            },
            "type": "scatterpolargl"
           }
          ],
          "scatterternary": [
           {
            "marker": {
             "colorbar": {
              "outlinewidth": 0,
              "ticks": ""
             }
            },
            "type": "scatterternary"
           }
          ],
          "surface": [
           {
            "colorbar": {
             "outlinewidth": 0,
             "ticks": ""
            },
            "colorscale": [
             [
              0,
              "#0d0887"
             ],
             [
              0.1111111111111111,
              "#46039f"
             ],
             [
              0.2222222222222222,
              "#7201a8"
             ],
             [
              0.3333333333333333,
              "#9c179e"
             ],
             [
              0.4444444444444444,
              "#bd3786"
             ],
             [
              0.5555555555555556,
              "#d8576b"
             ],
             [
              0.6666666666666666,
              "#ed7953"
             ],
             [
              0.7777777777777778,
              "#fb9f3a"
             ],
             [
              0.8888888888888888,
              "#fdca26"
             ],
             [
              1,
              "#f0f921"
             ]
            ],
            "type": "surface"
           }
          ],
          "table": [
           {
            "cells": {
             "fill": {
              "color": "#506784"
             },
             "line": {
              "color": "rgb(17,17,17)"
             }
            },
            "header": {
             "fill": {
              "color": "#2a3f5f"
             },
             "line": {
              "color": "rgb(17,17,17)"
             }
            },
            "type": "table"
           }
          ]
         },
         "layout": {
          "annotationdefaults": {
           "arrowcolor": "#f2f5fa",
           "arrowhead": 0,
           "arrowwidth": 1
          },
          "autotypenumbers": "strict",
          "coloraxis": {
           "colorbar": {
            "outlinewidth": 0,
            "ticks": ""
           }
          },
          "colorscale": {
           "diverging": [
            [
             0,
             "#8e0152"
            ],
            [
             0.1,
             "#c51b7d"
            ],
            [
             0.2,
             "#de77ae"
            ],
            [
             0.3,
             "#f1b6da"
            ],
            [
             0.4,
             "#fde0ef"
            ],
            [
             0.5,
             "#f7f7f7"
            ],
            [
             0.6,
             "#e6f5d0"
            ],
            [
             0.7,
             "#b8e186"
            ],
            [
             0.8,
             "#7fbc41"
            ],
            [
             0.9,
             "#4d9221"
            ],
            [
             1,
             "#276419"
            ]
           ],
           "sequential": [
            [
             0,
             "#0d0887"
            ],
            [
             0.1111111111111111,
             "#46039f"
            ],
            [
             0.2222222222222222,
             "#7201a8"
            ],
            [
             0.3333333333333333,
             "#9c179e"
            ],
            [
             0.4444444444444444,
             "#bd3786"
            ],
            [
             0.5555555555555556,
             "#d8576b"
            ],
            [
             0.6666666666666666,
             "#ed7953"
            ],
            [
             0.7777777777777778,
             "#fb9f3a"
            ],
            [
             0.8888888888888888,
             "#fdca26"
            ],
            [
             1,
             "#f0f921"
            ]
           ],
           "sequentialminus": [
            [
             0,
             "#0d0887"
            ],
            [
             0.1111111111111111,
             "#46039f"
            ],
            [
             0.2222222222222222,
             "#7201a8"
            ],
            [
             0.3333333333333333,
             "#9c179e"
            ],
            [
             0.4444444444444444,
             "#bd3786"
            ],
            [
             0.5555555555555556,
             "#d8576b"
            ],
            [
             0.6666666666666666,
             "#ed7953"
            ],
            [
             0.7777777777777778,
             "#fb9f3a"
            ],
            [
             0.8888888888888888,
             "#fdca26"
            ],
            [
             1,
             "#f0f921"
            ]
           ]
          },
          "colorway": [
           "#636efa",
           "#EF553B",
           "#00cc96",
           "#ab63fa",
           "#FFA15A",
           "#19d3f3",
           "#FF6692",
           "#B6E880",
           "#FF97FF",
           "#FECB52"
          ],
          "font": {
           "color": "#f2f5fa"
          },
          "geo": {
           "bgcolor": "rgb(17,17,17)",
           "lakecolor": "rgb(17,17,17)",
           "landcolor": "rgb(17,17,17)",
           "showlakes": true,
           "showland": true,
           "subunitcolor": "#506784"
          },
          "hoverlabel": {
           "align": "left"
          },
          "hovermode": "closest",
          "mapbox": {
           "style": "dark"
          },
          "paper_bgcolor": "rgb(17,17,17)",
          "plot_bgcolor": "rgb(17,17,17)",
          "polar": {
           "angularaxis": {
            "gridcolor": "#506784",
            "linecolor": "#506784",
            "ticks": ""
           },
           "bgcolor": "rgb(17,17,17)",
           "radialaxis": {
            "gridcolor": "#506784",
            "linecolor": "#506784",
            "ticks": ""
           }
          },
          "scene": {
           "xaxis": {
            "backgroundcolor": "rgb(17,17,17)",
            "gridcolor": "#506784",
            "gridwidth": 2,
            "linecolor": "#506784",
            "showbackground": true,
            "ticks": "",
            "zerolinecolor": "#C8D4E3"
           },
           "yaxis": {
            "backgroundcolor": "rgb(17,17,17)",
            "gridcolor": "#506784",
            "gridwidth": 2,
            "linecolor": "#506784",
            "showbackground": true,
            "ticks": "",
            "zerolinecolor": "#C8D4E3"
           },
           "zaxis": {
            "backgroundcolor": "rgb(17,17,17)",
            "gridcolor": "#506784",
            "gridwidth": 2,
            "linecolor": "#506784",
            "showbackground": true,
            "ticks": "",
            "zerolinecolor": "#C8D4E3"
           }
          },
          "shapedefaults": {
           "line": {
            "color": "#f2f5fa"
           }
          },
          "sliderdefaults": {
           "bgcolor": "#C8D4E3",
           "bordercolor": "rgb(17,17,17)",
           "borderwidth": 1,
           "tickwidth": 0
          },
          "ternary": {
           "aaxis": {
            "gridcolor": "#506784",
            "linecolor": "#506784",
            "ticks": ""
           },
           "baxis": {
            "gridcolor": "#506784",
            "linecolor": "#506784",
            "ticks": ""
           },
           "bgcolor": "rgb(17,17,17)",
           "caxis": {
            "gridcolor": "#506784",
            "linecolor": "#506784",
            "ticks": ""
           }
          },
          "title": {
           "x": 0.05
          },
          "updatemenudefaults": {
           "bgcolor": "#506784",
           "borderwidth": 0
          },
          "xaxis": {
           "automargin": true,
           "gridcolor": "#283442",
           "linecolor": "#506784",
           "ticks": "",
           "title": {
            "standoff": 15
           },
           "zerolinecolor": "#283442",
           "zerolinewidth": 2
          },
          "yaxis": {
           "automargin": true,
           "gridcolor": "#283442",
           "linecolor": "#506784",
           "ticks": "",
           "title": {
            "standoff": 15
           },
           "zerolinecolor": "#283442",
           "zerolinewidth": 2
          }
         }
        },
        "title": {
         "font": {
          "size": 20
         },
         "text": "Distribution of Match Attendance"
        },
        "width": 950,
        "xaxis": {
         "anchor": "y",
         "domain": [
          0,
          1
         ],
         "title": {
          "text": "Attendance"
         }
        },
        "yaxis": {
         "anchor": "x",
         "domain": [
          0,
          1
         ],
         "title": {
          "text": "Frequency"
         }
        }
       }
      }
     },
     "metadata": {},
     "output_type": "display_data"
    }
   ],
   "source": [
    "import plotly.express as px\n",
    "\n",
    "fig = px.histogram(\n",
    "    df,\n",
    "    x='Attendance',  \n",
    "    nbins=20,  \n",
    "    title='Distribution of Match Attendance',\n",
    "    labels={'Attendance': 'Attendance'},\n",
    "    template='plotly_dark',\n",
    ")\n",
    "\n",
    "\n",
    "fig.update_layout(\n",
    "    height=600,\n",
    "    width=950,\n",
    "    title_font_size=20,\n",
    "    font=dict(family='Arial', size=14),\n",
    "    xaxis_title='Attendance',\n",
    "    yaxis_title='Frequency',\n",
    "    margin=dict(l=60, r=40, t=80, b=60),\n",
    "    plot_bgcolor='rgb(26, 26, 26)',  \n",
    "    paper_bgcolor='rgb(26, 26, 26)',\n",
    ")\n",
    "\n",
    "fig.show()\n"
   ]
  },
  {
   "cell_type": "code",
   "execution_count": null,
   "id": "0749296b",
   "metadata": {},
   "outputs": [
    {
     "name": "stderr",
     "output_type": "stream",
     "text": [
      "C:\\Users\\HP\\AppData\\Local\\Temp\\ipykernel_21476\\396488802.py:13: SettingWithCopyWarning:\n",
      "\n",
      "\n",
      "A value is trying to be set on a copy of a slice from a DataFrame.\n",
      "Try using .loc[row_indexer,col_indexer] = value instead\n",
      "\n",
      "See the caveats in the documentation: https://pandas.pydata.org/pandas-docs/stable/user_guide/indexing.html#returning-a-view-versus-a-copy\n",
      "\n"
     ]
    },
    {
     "data": {
      "application/vnd.plotly.v1+json": {
       "config": {
        "plotlyServerURL": "https://plot.ly"
       },
       "data": [
        {
         "hovertemplate": "Club=Liverpool<br>Date=%{x}<br>Attendance=%{y}<extra></extra>",
         "legendgroup": "Liverpool",
         "line": {
          "color": "#636efa",
          "dash": "solid"
         },
         "marker": {
          "symbol": "circle"
         },
         "mode": "lines",
         "name": "Liverpool",
         "orientation": "v",
         "showlegend": true,
         "type": "scatter",
         "x": [
          "2018-08-12T00:00:00.000000000",
          "2018-08-25T00:00:00.000000000",
          "2018-09-18T00:00:00.000000000",
          "2018-09-22T00:00:00.000000000",
          "2018-09-26T00:00:00.000000000",
          "2018-10-07T00:00:00.000000000",
          "2018-10-24T00:00:00.000000000",
          "2018-10-27T00:00:00.000000000",
          "2018-11-11T00:00:00.000000000",
          "2018-12-02T00:00:00.000000000",
          "2018-12-11T00:00:00.000000000",
          "2018-12-16T00:00:00.000000000",
          "2018-12-26T00:00:00.000000000",
          "2018-12-29T00:00:00.000000000",
          "2019-01-19T00:00:00.000000000",
          "2019-01-30T00:00:00.000000000",
          "2019-02-09T00:00:00.000000000",
          "2019-02-19T00:00:00.000000000",
          "2019-02-27T00:00:00.000000000",
          "2019-03-10T00:00:00.000000000",
          "2019-03-31T00:00:00.000000000",
          "2019-04-09T00:00:00.000000000",
          "2019-04-14T00:00:00.000000000",
          "2019-04-26T00:00:00.000000000",
          "2019-05-07T00:00:00.000000000",
          "2019-05-12T00:00:00.000000000",
          "2019-08-09T00:00:00.000000000",
          "2019-08-14T00:00:00.000000000",
          "2019-08-24T00:00:00.000000000",
          "2019-09-14T00:00:00.000000000",
          "2019-10-02T00:00:00.000000000",
          "2019-10-05T00:00:00.000000000",
          "2019-10-27T00:00:00.000000000",
          "2019-10-30T00:00:00.000000000",
          "2019-11-05T00:00:00.000000000",
          "2019-11-10T00:00:00.000000000",
          "2019-11-27T00:00:00.000000000",
          "2019-11-30T00:00:00.000000000",
          "2019-12-04T00:00:00.000000000",
          "2019-12-14T00:00:00.000000000",
          "2019-12-29T00:00:00.000000000",
          "2020-01-02T00:00:00.000000000",
          "2020-01-05T00:00:00.000000000",
          "2020-01-19T00:00:00.000000000",
          "2020-02-01T00:00:00.000000000",
          "2020-02-04T00:00:00.000000000",
          "2020-02-24T00:00:00.000000000",
          "2020-03-07T00:00:00.000000000",
          "2020-03-11T00:00:00.000000000",
          "2020-06-24T00:00:00.000000000",
          "2020-07-05T00:00:00.000000000",
          "2020-07-11T00:00:00.000000000",
          "2020-07-22T00:00:00.000000000",
          "2020-09-12T00:00:00.000000000",
          "2020-09-28T00:00:00.000000000",
          "2020-10-01T00:00:00.000000000",
          "2020-10-24T00:00:00.000000000",
          "2020-10-27T00:00:00.000000000",
          "2020-10-31T00:00:00.000000000",
          "2020-11-22T00:00:00.000000000",
          "2020-11-25T00:00:00.000000000",
          "2020-12-01T00:00:00.000000000",
          "2020-12-06T00:00:00.000000000",
          "2020-12-16T00:00:00.000000000",
          "2020-12-27T00:00:00.000000000",
          "2021-01-17T00:00:00.000000000",
          "2021-01-21T00:00:00.000000000",
          "2021-02-03T00:00:00.000000000",
          "2021-02-07T00:00:00.000000000",
          "2021-02-20T00:00:00.000000000",
          "2021-03-04T00:00:00.000000000",
          "2021-03-07T00:00:00.000000000",
          "2021-04-10T00:00:00.000000000",
          "2021-04-14T00:00:00.000000000",
          "2021-04-24T00:00:00.000000000",
          "2021-05-08T00:00:00.000000000",
          "2021-05-23T00:00:00.000000000",
          "2021-08-21T00:00:00.000000000",
          "2021-08-28T00:00:00.000000000",
          "2021-09-15T00:00:00.000000000",
          "2021-09-18T00:00:00.000000000",
          "2021-10-03T00:00:00.000000000",
          "2021-10-30T00:00:00.000000000",
          "2021-11-03T00:00:00.000000000",
          "2021-11-20T00:00:00.000000000",
          "2021-11-24T00:00:00.000000000",
          "2021-11-27T00:00:00.000000000",
          "2021-12-11T00:00:00.000000000",
          "2021-12-16T00:00:00.000000000",
          "2021-12-22T00:00:00.000000000",
          "2022-01-09T00:00:00.000000000",
          "2022-01-13T00:00:00.000000000",
          "2022-01-16T00:00:00.000000000",
          "2022-02-06T00:00:00.000000000",
          "2022-02-10T00:00:00.000000000",
          "2022-02-19T00:00:00.000000000",
          "2022-02-23T00:00:00.000000000",
          "2022-03-02T00:00:00.000000000",
          "2022-03-05T00:00:00.000000000",
          "2022-03-08T00:00:00.000000000",
          "2022-04-02T00:00:00.000000000",
          "2022-04-13T00:00:00.000000000",
          "2022-04-19T00:00:00.000000000",
          "2022-04-24T00:00:00.000000000",
          "2022-04-27T00:00:00.000000000",
          "2022-05-07T00:00:00.000000000",
          "2022-05-22T00:00:00.000000000",
          "2022-08-15T00:00:00.000000000",
          "2022-08-27T00:00:00.000000000",
          "2022-08-31T00:00:00.000000000",
          "2022-09-13T00:00:00.000000000",
          "2022-10-01T00:00:00.000000000",
          "2022-10-04T00:00:00.000000000",
          "2022-10-16T00:00:00.000000000",
          "2022-10-19T00:00:00.000000000",
          "2022-10-29T00:00:00.000000000",
          "2022-11-01T00:00:00.000000000",
          "2022-11-09T00:00:00.000000000",
          "2022-11-12T00:00:00.000000000",
          "2022-12-30T00:00:00.000000000",
          "2023-01-07T00:00:00.000000000",
          "2023-01-21T00:00:00.000000000",
          "2023-02-13T00:00:00.000000000",
          "2023-02-21T00:00:00.000000000",
          "2023-03-01T00:00:00.000000000",
          "2023-03-05T00:00:00.000000000",
          "2023-04-09T00:00:00.000000000",
          "2023-04-22T00:00:00.000000000",
          "2023-04-30T00:00:00.000000000",
          "2023-05-03T00:00:00.000000000",
          "2023-05-06T00:00:00.000000000",
          "2023-05-20T00:00:00.000000000",
          "2023-08-19T00:00:00.000000000",
          "2023-09-03T00:00:00.000000000",
          "2023-09-24T00:00:00.000000000",
          "2023-09-27T00:00:00.000000000",
          "2023-10-05T00:00:00.000000000",
          "2023-10-21T00:00:00.000000000",
          "2023-10-26T00:00:00.000000000",
          "2023-10-29T00:00:00.000000000",
          "2023-11-12T00:00:00.000000000",
          "2023-11-30T00:00:00.000000000",
          "2023-12-03T00:00:00.000000000",
          "2023-12-17T00:00:00.000000000",
          "2023-12-20T00:00:00.000000000",
          "2023-12-23T00:00:00.000000000",
          "2024-01-01T00:00:00.000000000",
          "2024-01-10T00:00:00.000000000",
          "2024-01-28T00:00:00.000000000",
          "2024-01-31T00:00:00.000000000",
          "2024-02-10T00:00:00.000000000",
          "2024-02-21T00:00:00.000000000",
          "2024-02-28T00:00:00.000000000",
          "2024-03-10T00:00:00.000000000",
          "2024-03-14T00:00:00.000000000",
          "2024-03-31T00:00:00.000000000",
          "2024-04-04T00:00:00.000000000",
          "2024-04-11T00:00:00.000000000",
          "2024-04-14T00:00:00.000000000",
          "2024-05-05T00:00:00.000000000",
          "2024-05-19T00:00:00.000000000",
          "2024-08-25T00:00:00.000000000",
          "2024-09-14T00:00:00.000000000",
          "2024-09-21T00:00:00.000000000",
          "2024-09-25T00:00:00.000000000",
          "2024-10-02T00:00:00.000000000",
          "2024-10-20T00:00:00.000000000",
          "2024-11-02T00:00:00.000000000",
          "2024-11-05T00:00:00.000000000",
          "2024-11-09T00:00:00.000000000",
          "2024-11-27T00:00:00.000000000",
          "2024-12-01T00:00:00.000000000",
          "2024-12-14T00:00:00.000000000",
          "2024-12-26T00:00:00.000000000",
          "2025-01-05T00:00:00.000000000",
          "2025-01-11T00:00:00.000000000",
          "2025-01-21T00:00:00.000000000",
          "2025-01-25T00:00:00.000000000",
          "2025-02-06T00:00:00.000000000",
          "2025-02-16T00:00:00.000000000",
          "2025-02-26T00:00:00.000000000",
          "2025-03-08T00:00:00.000000000",
          "2025-03-11T00:00:00.000000000",
          "2025-04-02T00:00:00.000000000",
          "2025-04-13T00:00:00.000000000"
         ],
         "xaxis": "x",
         "y": {
          "bdata": "AAAAAGD+6UAAAAAAwAXqQAAAAADAn+lAAAAAAKDi6EAAAAAA4DfmQAAAAACgculAAAAAAADk6UAAAAAAoA/qQAAAAAAA8elAAAAAAIBF6UAAAAAA4GXpQAAAAACA1elAAAAAAMAI6kAAAAAAwAnqQAAAAABg9ulAAAAAAIDs6UAAAAAAQPfpQAAAAABAg+lAAAAAAIAI6kAAAAAAwAfqQAAAAABACepAAAAAACCe6UAAAAAA4APqQAAAAAAgAOpAAAAAAID16kAAAAAAYArqQAAAAACgCupAAAAAAEDE4kAAAAAAQAbqQAAAAADAHOlAAAAAAGCC6UAAAAAAQAnqQAAAAADA/OlAAAAAAMC66UAAAAAAYLDpQAAAAACACepAAAAAAAB06UAAAAAA4AjqQAAAAADA7OlAAAAAAOAH6kAAAAAAwAnqQAAAAAAgCepAAAAAAOCs6UAAAAAAgNbpQAAAAABgBepAAAAAAOCV6UAAAAAAIAjqQAAAAABgCepAAAAAAGCF6UAAAAAAAAAAAAAAAAAAAAAAAAAAAAAAAAAAAAAAAAAAAAAAAAAAAAAAAAAAAAAAAAAAAAAAAAAAAAAAAAAAAAAAAAAAAAAAAAAAAAAAAAAAAAAAAAAAAAAAAAAAAAAAAAAAAAAAAAAAAAAAAAAAQJ9AAAAAAABAn0AAAAAAAECfQAAAAAAAAAAAAAAAAAAAAAAAAAAAAAAAAAAAAAAAAAAAAAAAAAAAAAAAAAAAAAAAAAAAAAAAAAAAAAAAAAAAAAAAAAAAAAAAAAAAAAAAAAAAAAAAAAAAAAAAAAAAgFbDQAAAAADgrelAAAAAAABe6kAAAAAAoB7pQAAAAAAAZOlAAAAAAMDt6UAAAAAAwK7pQAAAAABgEulAAAAAAIDs6UAAAAAAIH7pQAAAAAAA5ulAAAAAAKDs6UAAAAAA4NrpQAAAAACAZulAAAAAAECA6UAAAAAAIJPpQAAAAAAAy+lAAAAAAIAI6UAAAAAAQOfpQAAAAADg8elAAAAAAEDj6UAAAAAA4IDpQAAAAACgQu1AAAAAAGBE6UAAAAAAAO7pQAAAAACgFelAAAAAAMC56UAAAAAAoPvpQAAAAABAMOlAAAAAACD36UAAAAAAIO3pQAAAAABA3elAAAAAAAAK6kAAAAAAgAjqQAAAAABglOlAAAAAAAAJ6kAAAAAAAC3oQAAAAADABOpAAAAAAMDe6UAAAAAAQAPqQAAAAACgbelAAAAAAACw6UAAAAAAYArqQAAAAADgC+pAAAAAAICz6UAAAAAAwPDpQAAAAABg5OlAAAAAACCO6UAAAAAAYAHqQAAAAAAg4elAAAAAAGAC6kAAAAAAwADqQAAAAABgA+pAAAAAAECv6UAAAAAAwMzpQAAAAABAB+pAAAAAACDz6UAAAAAAoHfoQAAAAAAAe+hAAAAAAIBI6EAAAAAAIC3oQAAAAAAgg+hAAAAAAEAX6EAAAAAA4HvoQAAAAADgfOhAAAAAAEBA6EAAAAAAgHnoQAAAAADA6OtAAAAAAID+60AAAAAAgBnsQAAAAADgD+xAAAAAAICy60AAAAAAwP7rQAAAAACAFuxAAAAAAAA/7UAAAAAAICjtQAAAAADAMO1AAAAAAGBF7UAAAAAAoBftQAAAAACgU+1AAAAAAOBS7UAAAAAAgM/sQAAAAABAV+1AAAAAAGBV7UAAAAAAYFPtQAAAAAAgTu1AAAAAAAB37UAAAAAAYHftQAAAAACAUe1AAAAAAAA17UAAAAAAoG7tQAAAAABgde1AAAAAAMAx7UAAAAAAgHDtQAAAAABAE+1AAAAAAABr7UAAAAAAoHXtQAAAAACAce1AAAAAAGBu7UAAAAAAoGztQAAAAADAMO1AAAAAAICA7UAAAAAAYH3tQAAAAAAAa+1AAAAAAMB67UAAAAAA4H3tQAAAAACgLu1AAAAAACCF7UAAAAAAAHvtQA==",
          "dtype": "f8"
         },
         "yaxis": "y"
        },
        {
         "hovertemplate": "Club=Chelsea<br>Date=%{x}<br>Attendance=%{y}<extra></extra>",
         "legendgroup": "Chelsea",
         "line": {
          "color": "#EF553B",
          "dash": "solid"
         },
         "marker": {
          "symbol": "circle"
         },
         "mode": "lines",
         "name": "Chelsea",
         "orientation": "v",
         "showlegend": true,
         "type": "scatter",
         "x": [
          "2018-08-18T00:00:00.000000000",
          "2018-09-01T00:00:00.000000000",
          "2018-09-15T00:00:00.000000000",
          "2018-09-29T00:00:00.000000000",
          "2018-10-04T00:00:00.000000000",
          "2018-10-20T00:00:00.000000000",
          "2018-10-25T00:00:00.000000000",
          "2018-10-31T00:00:00.000000000",
          "2018-11-04T00:00:00.000000000",
          "2018-11-11T00:00:00.000000000",
          "2018-11-29T00:00:00.000000000",
          "2018-12-02T00:00:00.000000000",
          "2018-12-08T00:00:00.000000000",
          "2018-12-19T00:00:00.000000000",
          "2018-12-22T00:00:00.000000000",
          "2019-01-02T00:00:00.000000000",
          "2019-01-05T00:00:00.000000000",
          "2019-01-12T00:00:00.000000000",
          "2019-01-24T00:00:00.000000000",
          "2019-01-27T00:00:00.000000000",
          "2019-02-02T00:00:00.000000000",
          "2019-02-18T00:00:00.000000000",
          "2019-02-21T00:00:00.000000000",
          "2019-02-27T00:00:00.000000000",
          "2019-03-07T00:00:00.000000000",
          "2019-03-10T00:00:00.000000000",
          "2019-04-03T00:00:00.000000000",
          "2019-04-08T00:00:00.000000000",
          "2019-04-18T00:00:00.000000000",
          "2019-04-22T00:00:00.000000000",
          "2019-05-05T00:00:00.000000000",
          "2019-05-09T00:00:00.000000000",
          "2019-08-18T00:00:00.000000000",
          "2019-08-31T00:00:00.000000000",
          "2019-09-17T00:00:00.000000000",
          "2019-09-22T00:00:00.000000000",
          "2019-09-25T00:00:00.000000000",
          "2019-09-28T00:00:00.000000000",
          "2019-10-19T00:00:00.000000000",
          "2019-10-30T00:00:00.000000000",
          "2019-11-05T00:00:00.000000000",
          "2019-11-09T00:00:00.000000000",
          "2019-11-30T00:00:00.000000000",
          "2019-12-04T00:00:00.000000000",
          "2019-12-10T00:00:00.000000000",
          "2019-12-14T00:00:00.000000000",
          "2019-12-26T00:00:00.000000000",
          "2020-01-05T00:00:00.000000000",
          "2020-01-11T00:00:00.000000000",
          "2020-01-21T00:00:00.000000000",
          "2020-02-17T00:00:00.000000000",
          "2020-02-22T00:00:00.000000000",
          "2020-02-25T00:00:00.000000000",
          "2020-03-03T00:00:00.000000000",
          "2020-03-08T00:00:00.000000000",
          "2020-06-25T00:00:00.000000000",
          "2020-07-04T00:00:00.000000000",
          "2020-07-14T00:00:00.000000000",
          "2020-07-26T00:00:00.000000000",
          "2020-09-20T00:00:00.000000000",
          "2020-09-23T00:00:00.000000000",
          "2020-10-03T00:00:00.000000000",
          "2020-10-17T00:00:00.000000000",
          "2020-10-20T00:00:00.000000000",
          "2020-11-04T00:00:00.000000000",
          "2020-11-07T00:00:00.000000000",
          "2020-11-29T00:00:00.000000000",
          "2020-12-05T00:00:00.000000000",
          "2020-12-08T00:00:00.000000000",
          "2020-12-21T00:00:00.000000000",
          "2020-12-28T00:00:00.000000000",
          "2021-01-03T00:00:00.000000000",
          "2021-01-10T00:00:00.000000000",
          "2021-01-24T00:00:00.000000000",
          "2021-01-27T00:00:00.000000000",
          "2021-01-31T00:00:00.000000000",
          "2021-02-15T00:00:00.000000000",
          "2021-02-28T00:00:00.000000000",
          "2021-03-08T00:00:00.000000000",
          "2021-03-17T00:00:00.000000000",
          "2021-03-21T00:00:00.000000000",
          "2021-04-03T00:00:00.000000000",
          "2021-04-17T00:00:00.000000000",
          "2021-04-20T00:00:00.000000000",
          "2021-05-01T00:00:00.000000000",
          "2021-05-05T00:00:00.000000000",
          "2021-05-12T00:00:00.000000000",
          "2021-05-18T00:00:00.000000000",
          "2021-08-11T00:00:00.000000000",
          "2021-08-14T00:00:00.000000000",
          "2021-09-11T00:00:00.000000000",
          "2021-09-14T00:00:00.000000000",
          "2021-09-22T00:00:00.000000000",
          "2021-09-25T00:00:00.000000000",
          "2021-10-02T00:00:00.000000000",
          "2021-10-20T00:00:00.000000000",
          "2021-10-23T00:00:00.000000000",
          "2021-10-26T00:00:00.000000000",
          "2021-11-06T00:00:00.000000000",
          "2021-11-23T00:00:00.000000000",
          "2021-11-28T00:00:00.000000000",
          "2021-12-11T00:00:00.000000000",
          "2021-12-16T00:00:00.000000000",
          "2021-12-29T00:00:00.000000000",
          "2022-01-02T00:00:00.000000000",
          "2022-01-05T00:00:00.000000000",
          "2022-01-08T00:00:00.000000000",
          "2022-01-23T00:00:00.000000000",
          "2022-02-05T00:00:00.000000000",
          "2022-02-22T00:00:00.000000000",
          "2022-03-13T00:00:00.000000000",
          "2022-04-02T00:00:00.000000000",
          "2022-04-06T00:00:00.000000000",
          "2022-04-17T00:00:00.000000000",
          "2022-04-20T00:00:00.000000000",
          "2022-04-24T00:00:00.000000000",
          "2022-05-07T00:00:00.000000000",
          "2022-05-19T00:00:00.000000000",
          "2022-05-22T00:00:00.000000000",
          "2022-08-14T00:00:00.000000000",
          "2022-08-27T00:00:00.000000000",
          "2022-09-03T00:00:00.000000000",
          "2022-09-14T00:00:00.000000000",
          "2022-10-05T00:00:00.000000000",
          "2022-10-08T00:00:00.000000000",
          "2022-10-22T00:00:00.000000000",
          "2022-11-02T00:00:00.000000000",
          "2022-11-06T00:00:00.000000000",
          "2022-12-27T00:00:00.000000000",
          "2023-01-05T00:00:00.000000000",
          "2023-01-15T00:00:00.000000000",
          "2023-02-03T00:00:00.000000000",
          "2023-02-18T00:00:00.000000000",
          "2023-03-04T00:00:00.000000000",
          "2023-03-07T00:00:00.000000000",
          "2023-03-18T00:00:00.000000000",
          "2023-04-01T00:00:00.000000000",
          "2023-04-04T00:00:00.000000000",
          "2023-04-15T00:00:00.000000000",
          "2023-04-18T00:00:00.000000000",
          "2023-04-26T00:00:00.000000000",
          "2023-05-13T00:00:00.000000000",
          "2023-05-28T00:00:00.000000000",
          "2023-08-13T00:00:00.000000000",
          "2023-08-25T00:00:00.000000000",
          "2023-08-30T00:00:00.000000000",
          "2023-09-02T00:00:00.000000000",
          "2023-09-24T00:00:00.000000000",
          "2023-09-27T00:00:00.000000000",
          "2023-10-21T00:00:00.000000000",
          "2023-10-28T00:00:00.000000000",
          "2023-11-01T00:00:00.000000000",
          "2023-11-12T00:00:00.000000000",
          "2023-12-03T00:00:00.000000000",
          "2023-12-16T00:00:00.000000000",
          "2023-12-19T00:00:00.000000000",
          "2023-12-27T00:00:00.000000000",
          "2024-01-06T00:00:00.000000000",
          "2024-01-13T00:00:00.000000000",
          "2024-01-23T00:00:00.000000000",
          "2024-01-26T00:00:00.000000000",
          "2024-02-04T00:00:00.000000000",
          "2024-02-28T00:00:00.000000000",
          "2024-03-11T00:00:00.000000000",
          "2024-03-17T00:00:00.000000000",
          "2024-03-30T00:00:00.000000000",
          "2024-04-04T00:00:00.000000000",
          "2024-04-15T00:00:00.000000000",
          "2024-05-02T00:00:00.000000000",
          "2024-05-05T00:00:00.000000000",
          "2024-05-19T00:00:00.000000000",
          "2024-08-18T00:00:00.000000000",
          "2024-08-22T00:00:00.000000000",
          "2024-09-01T00:00:00.000000000",
          "2024-09-24T00:00:00.000000000",
          "2024-09-28T00:00:00.000000000",
          "2024-10-03T00:00:00.000000000",
          "2024-10-06T00:00:00.000000000",
          "2024-10-27T00:00:00.000000000",
          "2024-11-07T00:00:00.000000000",
          "2024-11-10T00:00:00.000000000",
          "2024-12-01T00:00:00.000000000",
          "2024-12-15T00:00:00.000000000",
          "2024-12-19T00:00:00.000000000",
          "2024-12-26T00:00:00.000000000",
          "2025-01-11T00:00:00.000000000",
          "2025-01-14T00:00:00.000000000",
          "2025-01-20T00:00:00.000000000",
          "2025-02-03T00:00:00.000000000",
          "2025-02-25T00:00:00.000000000",
          "2025-03-09T00:00:00.000000000",
          "2025-03-13T00:00:00.000000000",
          "2025-04-03T00:00:00.000000000",
          "2025-04-13T00:00:00.000000000",
          "2025-04-17T00:00:00.000000000"
         ],
         "xaxis": "x",
         "y": {
          "bdata": "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",
          "dtype": "f8"
         },
         "yaxis": "y"
        },
        {
         "hovertemplate": "Club=Manchester City<br>Date=%{x}<br>Attendance=%{y}<extra></extra>",
         "legendgroup": "Manchester City",
         "line": {
          "color": "#00cc96",
          "dash": "solid"
         },
         "marker": {
          "symbol": "circle"
         },
         "mode": "lines",
         "name": "Manchester City",
         "orientation": "v",
         "showlegend": true,
         "type": "scatter",
         "x": [
          "2018-08-19T00:00:00.000000000",
          "2018-09-01T00:00:00.000000000",
          "2018-09-15T00:00:00.000000000",
          "2018-09-19T00:00:00.000000000",
          "2018-09-29T00:00:00.000000000",
          "2018-10-20T00:00:00.000000000",
          "2018-11-01T00:00:00.000000000",
          "2018-11-04T00:00:00.000000000",
          "2018-11-07T00:00:00.000000000",
          "2018-11-11T00:00:00.000000000",
          "2018-12-01T00:00:00.000000000",
          "2018-12-12T00:00:00.000000000",
          "2018-12-15T00:00:00.000000000",
          "2018-12-22T00:00:00.000000000",
          "2019-01-03T00:00:00.000000000",
          "2019-01-06T00:00:00.000000000",
          "2019-01-09T00:00:00.000000000",
          "2019-01-14T00:00:00.000000000",
          "2019-01-26T00:00:00.000000000",
          "2019-02-03T00:00:00.000000000",
          "2019-02-10T00:00:00.000000000",
          "2019-02-27T00:00:00.000000000",
          "2019-03-09T00:00:00.000000000",
          "2019-03-12T00:00:00.000000000",
          "2019-04-03T00:00:00.000000000",
          "2019-04-06T00:00:00.000000000",
          "2019-04-17T00:00:00.000000000",
          "2019-04-20T00:00:00.000000000",
          "2019-05-06T00:00:00.000000000",
          "2019-08-17T00:00:00.000000000",
          "2019-08-31T00:00:00.000000000",
          "2019-09-21T00:00:00.000000000",
          "2019-10-01T00:00:00.000000000",
          "2019-10-06T00:00:00.000000000",
          "2019-10-22T00:00:00.000000000",
          "2019-10-26T00:00:00.000000000",
          "2019-10-29T00:00:00.000000000",
          "2019-11-02T00:00:00.000000000",
          "2019-11-23T00:00:00.000000000",
          "2019-11-26T00:00:00.000000000",
          "2019-12-07T00:00:00.000000000",
          "2019-12-21T00:00:00.000000000",
          "2019-12-29T00:00:00.000000000",
          "2020-01-01T00:00:00.000000000",
          "2020-01-04T00:00:00.000000000",
          "2020-01-18T00:00:00.000000000",
          "2020-01-26T00:00:00.000000000",
          "2020-01-29T00:00:00.000000000",
          "2020-02-19T00:00:00.000000000",
          "2020-06-17T00:00:00.000000000",
          "2020-06-22T00:00:00.000000000",
          "2020-07-02T00:00:00.000000000",
          "2020-07-08T00:00:00.000000000",
          "2020-07-15T00:00:00.000000000",
          "2020-07-26T00:00:00.000000000",
          "2020-08-07T00:00:00.000000000",
          "2020-09-24T00:00:00.000000000",
          "2020-09-27T00:00:00.000000000",
          "2020-10-17T00:00:00.000000000",
          "2020-10-21T00:00:00.000000000",
          "2020-11-03T00:00:00.000000000",
          "2020-11-08T00:00:00.000000000",
          "2020-11-28T00:00:00.000000000",
          "2020-12-05T00:00:00.000000000",
          "2020-12-09T00:00:00.000000000",
          "2020-12-15T00:00:00.000000000",
          "2020-12-26T00:00:00.000000000",
          "2021-01-10T00:00:00.000000000",
          "2021-01-13T00:00:00.000000000",
          "2021-01-17T00:00:00.000000000",
          "2021-01-20T00:00:00.000000000",
          "2021-01-30T00:00:00.000000000",
          "2021-02-13T00:00:00.000000000",
          "2021-02-27T00:00:00.000000000",
          "2021-03-02T00:00:00.000000000",
          "2021-03-07T00:00:00.000000000",
          "2021-03-10T00:00:00.000000000",
          "2021-04-06T00:00:00.000000000",
          "2021-04-10T00:00:00.000000000",
          "2021-05-04T00:00:00.000000000",
          "2021-05-08T00:00:00.000000000",
          "2021-05-23T00:00:00.000000000",
          "2021-08-21T00:00:00.000000000",
          "2021-08-28T00:00:00.000000000",
          "2021-09-15T00:00:00.000000000",
          "2021-09-18T00:00:00.000000000",
          "2021-09-21T00:00:00.000000000",
          "2021-10-16T00:00:00.000000000",
          "2021-10-30T00:00:00.000000000",
          "2021-11-03T00:00:00.000000000",
          "2021-11-21T00:00:00.000000000",
          "2021-11-24T00:00:00.000000000",
          "2021-11-28T00:00:00.000000000",
          "2021-12-11T00:00:00.000000000",
          "2021-12-14T00:00:00.000000000",
          "2021-12-26T00:00:00.000000000",
          "2022-01-15T00:00:00.000000000",
          "2022-02-05T00:00:00.000000000",
          "2022-02-09T00:00:00.000000000",
          "2022-02-19T00:00:00.000000000",
          "2022-03-06T00:00:00.000000000",
          "2022-03-09T00:00:00.000000000",
          "2022-04-05T00:00:00.000000000",
          "2022-04-10T00:00:00.000000000",
          "2022-04-16T00:00:00.000000000",
          "2022-04-20T00:00:00.000000000",
          "2022-04-23T00:00:00.000000000",
          "2022-04-26T00:00:00.000000000",
          "2022-05-08T00:00:00.000000000",
          "2022-05-22T00:00:00.000000000",
          "2022-08-13T00:00:00.000000000",
          "2022-08-27T00:00:00.000000000",
          "2022-08-31T00:00:00.000000000",
          "2022-09-14T00:00:00.000000000",
          "2022-10-02T00:00:00.000000000",
          "2022-10-05T00:00:00.000000000",
          "2022-10-08T00:00:00.000000000",
          "2022-10-22T00:00:00.000000000",
          "2022-11-02T00:00:00.000000000",
          "2022-11-05T00:00:00.000000000",
          "2022-11-09T00:00:00.000000000",
          "2022-11-12T00:00:00.000000000",
          "2022-12-22T00:00:00.000000000",
          "2022-12-31T00:00:00.000000000",
          "2023-01-08T00:00:00.000000000",
          "2023-01-19T00:00:00.000000000",
          "2023-01-22T00:00:00.000000000",
          "2023-01-27T00:00:00.000000000",
          "2023-02-12T00:00:00.000000000",
          "2023-03-04T00:00:00.000000000",
          "2023-03-14T00:00:00.000000000",
          "2023-03-18T00:00:00.000000000",
          "2023-04-01T00:00:00.000000000",
          "2023-04-11T00:00:00.000000000",
          "2023-04-15T00:00:00.000000000",
          "2023-04-26T00:00:00.000000000",
          "2023-05-03T00:00:00.000000000",
          "2023-05-06T00:00:00.000000000",
          "2023-05-17T00:00:00.000000000",
          "2023-05-21T00:00:00.000000000",
          "2023-08-16T00:00:00.000000000",
          "2023-08-19T00:00:00.000000000",
          "2023-09-02T00:00:00.000000000",
          "2023-09-19T00:00:00.000000000",
          "2023-09-23T00:00:00.000000000",
          "2023-10-21T00:00:00.000000000",
          "2023-11-04T00:00:00.000000000",
          "2023-11-07T00:00:00.000000000",
          "2023-11-25T00:00:00.000000000",
          "2023-11-28T00:00:00.000000000",
          "2023-12-03T00:00:00.000000000",
          "2023-12-16T00:00:00.000000000",
          "2023-12-30T00:00:00.000000000",
          "2024-01-07T00:00:00.000000000",
          "2024-01-31T00:00:00.000000000",
          "2024-02-10T00:00:00.000000000",
          "2024-02-17T00:00:00.000000000",
          "2024-02-20T00:00:00.000000000",
          "2024-03-03T00:00:00.000000000",
          "2024-03-06T00:00:00.000000000",
          "2024-03-16T00:00:00.000000000",
          "2024-03-31T00:00:00.000000000",
          "2024-04-03T00:00:00.000000000",
          "2024-04-13T00:00:00.000000000",
          "2024-04-17T00:00:00.000000000",
          "2024-05-04T00:00:00.000000000",
          "2024-05-19T00:00:00.000000000",
          "2024-08-10T00:00:00.000000000",
          "2024-08-24T00:00:00.000000000",
          "2024-09-14T00:00:00.000000000",
          "2024-09-18T00:00:00.000000000",
          "2024-09-22T00:00:00.000000000",
          "2024-09-24T00:00:00.000000000",
          "2024-10-05T00:00:00.000000000",
          "2024-10-23T00:00:00.000000000",
          "2024-10-26T00:00:00.000000000",
          "2024-11-23T00:00:00.000000000",
          "2024-11-26T00:00:00.000000000",
          "2024-12-04T00:00:00.000000000",
          "2024-12-15T00:00:00.000000000",
          "2024-12-26T00:00:00.000000000",
          "2025-01-04T00:00:00.000000000",
          "2025-01-11T00:00:00.000000000",
          "2025-01-25T00:00:00.000000000",
          "2025-01-29T00:00:00.000000000",
          "2025-02-11T00:00:00.000000000",
          "2025-02-15T00:00:00.000000000",
          "2025-02-23T00:00:00.000000000",
          "2025-03-01T00:00:00.000000000",
          "2025-03-15T00:00:00.000000000",
          "2025-04-02T00:00:00.000000000",
          "2025-04-12T00:00:00.000000000",
          "2025-04-22T00:00:00.000000000"
         ],
         "xaxis": "x",
         "y": {
          "bdata": "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",
          "dtype": "f8"
         },
         "yaxis": "y"
        }
       ],
       "layout": {
        "font": {
         "family": "Arial",
         "size": 14
        },
        "height": 600,
        "legend": {
         "title": {
          "text": "Club"
         },
         "tracegroupgap": 0
        },
        "margin": {
         "b": 60,
         "l": 60,
         "r": 40,
         "t": 80
        },
        "paper_bgcolor": "rgb(26, 26, 26)",
        "plot_bgcolor": "rgb(26, 26, 26)",
        "template": {
         "data": {
          "bar": [
           {
            "error_x": {
             "color": "#f2f5fa"
            },
            "error_y": {
             "color": "#f2f5fa"
            },
            "marker": {
             "line": {
              "color": "rgb(17,17,17)",
              "width": 0.5
             },
             "pattern": {
              "fillmode": "overlay",
              "size": 10,
              "solidity": 0.2
             }
            },
            "type": "bar"
           }
          ],
          "barpolar": [
           {
            "marker": {
             "line": {
              "color": "rgb(17,17,17)",
              "width": 0.5
             },
             "pattern": {
              "fillmode": "overlay",
              "size": 10,
              "solidity": 0.2
             }
            },
            "type": "barpolar"
           }
          ],
          "carpet": [
           {
            "aaxis": {
             "endlinecolor": "#A2B1C6",
             "gridcolor": "#506784",
             "linecolor": "#506784",
             "minorgridcolor": "#506784",
             "startlinecolor": "#A2B1C6"
            },
            "baxis": {
             "endlinecolor": "#A2B1C6",
             "gridcolor": "#506784",
             "linecolor": "#506784",
             "minorgridcolor": "#506784",
             "startlinecolor": "#A2B1C6"
            },
            "type": "carpet"
           }
          ],
          "choropleth": [
           {
            "colorbar": {
             "outlinewidth": 0,
             "ticks": ""
            },
            "type": "choropleth"
           }
          ],
          "contour": [
           {
            "colorbar": {
             "outlinewidth": 0,
             "ticks": ""
            },
            "colorscale": [
             [
              0,
              "#0d0887"
             ],
             [
              0.1111111111111111,
              "#46039f"
             ],
             [
              0.2222222222222222,
              "#7201a8"
             ],
             [
              0.3333333333333333,
              "#9c179e"
             ],
             [
              0.4444444444444444,
              "#bd3786"
             ],
             [
              0.5555555555555556,
              "#d8576b"
             ],
             [
              0.6666666666666666,
              "#ed7953"
             ],
             [
              0.7777777777777778,
              "#fb9f3a"
             ],
             [
              0.8888888888888888,
              "#fdca26"
             ],
             [
              1,
              "#f0f921"
             ]
            ],
            "type": "contour"
           }
          ],
          "contourcarpet": [
           {
            "colorbar": {
             "outlinewidth": 0,
             "ticks": ""
            },
            "type": "contourcarpet"
           }
          ],
          "heatmap": [
           {
            "colorbar": {
             "outlinewidth": 0,
             "ticks": ""
            },
            "colorscale": [
             [
              0,
              "#0d0887"
             ],
             [
              0.1111111111111111,
              "#46039f"
             ],
             [
              0.2222222222222222,
              "#7201a8"
             ],
             [
              0.3333333333333333,
              "#9c179e"
             ],
             [
              0.4444444444444444,
              "#bd3786"
             ],
             [
              0.5555555555555556,
              "#d8576b"
             ],
             [
              0.6666666666666666,
              "#ed7953"
             ],
             [
              0.7777777777777778,
              "#fb9f3a"
             ],
             [
              0.8888888888888888,
              "#fdca26"
             ],
             [
              1,
              "#f0f921"
             ]
            ],
            "type": "heatmap"
           }
          ],
          "histogram": [
           {
            "marker": {
             "pattern": {
              "fillmode": "overlay",
              "size": 10,
              "solidity": 0.2
             }
            },
            "type": "histogram"
           }
          ],
          "histogram2d": [
           {
            "colorbar": {
             "outlinewidth": 0,
             "ticks": ""
            },
            "colorscale": [
             [
              0,
              "#0d0887"
             ],
             [
              0.1111111111111111,
              "#46039f"
             ],
             [
              0.2222222222222222,
              "#7201a8"
             ],
             [
              0.3333333333333333,
              "#9c179e"
             ],
             [
              0.4444444444444444,
              "#bd3786"
             ],
             [
              0.5555555555555556,
              "#d8576b"
             ],
             [
              0.6666666666666666,
              "#ed7953"
             ],
             [
              0.7777777777777778,
              "#fb9f3a"
             ],
             [
              0.8888888888888888,
              "#fdca26"
             ],
             [
              1,
              "#f0f921"
             ]
            ],
            "type": "histogram2d"
           }
          ],
          "histogram2dcontour": [
           {
            "colorbar": {
             "outlinewidth": 0,
             "ticks": ""
            },
            "colorscale": [
             [
              0,
              "#0d0887"
             ],
             [
              0.1111111111111111,
              "#46039f"
             ],
             [
              0.2222222222222222,
              "#7201a8"
             ],
             [
              0.3333333333333333,
              "#9c179e"
             ],
             [
              0.4444444444444444,
              "#bd3786"
             ],
             [
              0.5555555555555556,
              "#d8576b"
             ],
             [
              0.6666666666666666,
              "#ed7953"
             ],
             [
              0.7777777777777778,
              "#fb9f3a"
             ],
             [
              0.8888888888888888,
              "#fdca26"
             ],
             [
              1,
              "#f0f921"
             ]
            ],
            "type": "histogram2dcontour"
           }
          ],
          "mesh3d": [
           {
            "colorbar": {
             "outlinewidth": 0,
             "ticks": ""
            },
            "type": "mesh3d"
           }
          ],
          "parcoords": [
           {
            "line": {
             "colorbar": {
              "outlinewidth": 0,
              "ticks": ""
             }
            },
            "type": "parcoords"
           }
          ],
          "pie": [
           {
            "automargin": true,
            "type": "pie"
           }
          ],
          "scatter": [
           {
            "marker": {
             "line": {
              "color": "#283442"
             }
            },
            "type": "scatter"
           }
          ],
          "scatter3d": [
           {
            "line": {
             "colorbar": {
              "outlinewidth": 0,
              "ticks": ""
             }
            },
            "marker": {
             "colorbar": {
              "outlinewidth": 0,
              "ticks": ""
             }
            },
            "type": "scatter3d"
           }
          ],
          "scattercarpet": [
           {
            "marker": {
             "colorbar": {
              "outlinewidth": 0,
              "ticks": ""
             }
            },
            "type": "scattercarpet"
           }
          ],
          "scattergeo": [
           {
            "marker": {
             "colorbar": {
              "outlinewidth": 0,
              "ticks": ""
             }
            },
            "type": "scattergeo"
           }
          ],
          "scattergl": [
           {
            "marker": {
             "line": {
              "color": "#283442"
             }
            },
            "type": "scattergl"
           }
          ],
          "scattermap": [
           {
            "marker": {
             "colorbar": {
              "outlinewidth": 0,
              "ticks": ""
             }
            },
            "type": "scattermap"
           }
          ],
          "scattermapbox": [
           {
            "marker": {
             "colorbar": {
              "outlinewidth": 0,
              "ticks": ""
             }
            },
            "type": "scattermapbox"
           }
          ],
          "scatterpolar": [
           {
            "marker": {
             "colorbar": {
              "outlinewidth": 0,
              "ticks": ""
             }
            },
            "type": "scatterpolar"
           }
          ],
          "scatterpolargl": [
           {
            "marker": {
             "colorbar": {
              "outlinewidth": 0,
              "ticks": ""
             }
            },
            "type": "scatterpolargl"
           }
          ],
          "scatterternary": [
           {
            "marker": {
             "colorbar": {
              "outlinewidth": 0,
              "ticks": ""
             }
            },
            "type": "scatterternary"
           }
          ],
          "surface": [
           {
            "colorbar": {
             "outlinewidth": 0,
             "ticks": ""
            },
            "colorscale": [
             [
              0,
              "#0d0887"
             ],
             [
              0.1111111111111111,
              "#46039f"
             ],
             [
              0.2222222222222222,
              "#7201a8"
             ],
             [
              0.3333333333333333,
              "#9c179e"
             ],
             [
              0.4444444444444444,
              "#bd3786"
             ],
             [
              0.5555555555555556,
              "#d8576b"
             ],
             [
              0.6666666666666666,
              "#ed7953"
             ],
             [
              0.7777777777777778,
              "#fb9f3a"
             ],
             [
              0.8888888888888888,
              "#fdca26"
             ],
             [
              1,
              "#f0f921"
             ]
            ],
            "type": "surface"
           }
          ],
          "table": [
           {
            "cells": {
             "fill": {
              "color": "#506784"
             },
             "line": {
              "color": "rgb(17,17,17)"
             }
            },
            "header": {
             "fill": {
              "color": "#2a3f5f"
             },
             "line": {
              "color": "rgb(17,17,17)"
             }
            },
            "type": "table"
           }
          ]
         },
         "layout": {
          "annotationdefaults": {
           "arrowcolor": "#f2f5fa",
           "arrowhead": 0,
           "arrowwidth": 1
          },
          "autotypenumbers": "strict",
          "coloraxis": {
           "colorbar": {
            "outlinewidth": 0,
            "ticks": ""
           }
          },
          "colorscale": {
           "diverging": [
            [
             0,
             "#8e0152"
            ],
            [
             0.1,
             "#c51b7d"
            ],
            [
             0.2,
             "#de77ae"
            ],
            [
             0.3,
             "#f1b6da"
            ],
            [
             0.4,
             "#fde0ef"
            ],
            [
             0.5,
             "#f7f7f7"
            ],
            [
             0.6,
             "#e6f5d0"
            ],
            [
             0.7,
             "#b8e186"
            ],
            [
             0.8,
             "#7fbc41"
            ],
            [
             0.9,
             "#4d9221"
            ],
            [
             1,
             "#276419"
            ]
           ],
           "sequential": [
            [
             0,
             "#0d0887"
            ],
            [
             0.1111111111111111,
             "#46039f"
            ],
            [
             0.2222222222222222,
             "#7201a8"
            ],
            [
             0.3333333333333333,
             "#9c179e"
            ],
            [
             0.4444444444444444,
             "#bd3786"
            ],
            [
             0.5555555555555556,
             "#d8576b"
            ],
            [
             0.6666666666666666,
             "#ed7953"
            ],
            [
             0.7777777777777778,
             "#fb9f3a"
            ],
            [
             0.8888888888888888,
             "#fdca26"
            ],
            [
             1,
             "#f0f921"
            ]
           ],
           "sequentialminus": [
            [
             0,
             "#0d0887"
            ],
            [
             0.1111111111111111,
             "#46039f"
            ],
            [
             0.2222222222222222,
             "#7201a8"
            ],
            [
             0.3333333333333333,
             "#9c179e"
            ],
            [
             0.4444444444444444,
             "#bd3786"
            ],
            [
             0.5555555555555556,
             "#d8576b"
            ],
            [
             0.6666666666666666,
             "#ed7953"
            ],
            [
             0.7777777777777778,
             "#fb9f3a"
            ],
            [
             0.8888888888888888,
             "#fdca26"
            ],
            [
             1,
             "#f0f921"
            ]
           ]
          },
          "colorway": [
           "#636efa",
           "#EF553B",
           "#00cc96",
           "#ab63fa",
           "#FFA15A",
           "#19d3f3",
           "#FF6692",
           "#B6E880",
           "#FF97FF",
           "#FECB52"
          ],
          "font": {
           "color": "#f2f5fa"
          },
          "geo": {
           "bgcolor": "rgb(17,17,17)",
           "lakecolor": "rgb(17,17,17)",
           "landcolor": "rgb(17,17,17)",
           "showlakes": true,
           "showland": true,
           "subunitcolor": "#506784"
          },
          "hoverlabel": {
           "align": "left"
          },
          "hovermode": "closest",
          "mapbox": {
           "style": "dark"
          },
          "paper_bgcolor": "rgb(17,17,17)",
          "plot_bgcolor": "rgb(17,17,17)",
          "polar": {
           "angularaxis": {
            "gridcolor": "#506784",
            "linecolor": "#506784",
            "ticks": ""
           },
           "bgcolor": "rgb(17,17,17)",
           "radialaxis": {
            "gridcolor": "#506784",
            "linecolor": "#506784",
            "ticks": ""
           }
          },
          "scene": {
           "xaxis": {
            "backgroundcolor": "rgb(17,17,17)",
            "gridcolor": "#506784",
            "gridwidth": 2,
            "linecolor": "#506784",
            "showbackground": true,
            "ticks": "",
            "zerolinecolor": "#C8D4E3"
           },
           "yaxis": {
            "backgroundcolor": "rgb(17,17,17)",
            "gridcolor": "#506784",
            "gridwidth": 2,
            "linecolor": "#506784",
            "showbackground": true,
            "ticks": "",
            "zerolinecolor": "#C8D4E3"
           },
           "zaxis": {
            "backgroundcolor": "rgb(17,17,17)",
            "gridcolor": "#506784",
            "gridwidth": 2,
            "linecolor": "#506784",
            "showbackground": true,
            "ticks": "",
            "zerolinecolor": "#C8D4E3"
           }
          },
          "shapedefaults": {
           "line": {
            "color": "#f2f5fa"
           }
          },
          "sliderdefaults": {
           "bgcolor": "#C8D4E3",
           "bordercolor": "rgb(17,17,17)",
           "borderwidth": 1,
           "tickwidth": 0
          },
          "ternary": {
           "aaxis": {
            "gridcolor": "#506784",
            "linecolor": "#506784",
            "ticks": ""
           },
           "baxis": {
            "gridcolor": "#506784",
            "linecolor": "#506784",
            "ticks": ""
           },
           "bgcolor": "rgb(17,17,17)",
           "caxis": {
            "gridcolor": "#506784",
            "linecolor": "#506784",
            "ticks": ""
           }
          },
          "title": {
           "x": 0.05
          },
          "updatemenudefaults": {
           "bgcolor": "#506784",
           "borderwidth": 0
          },
          "xaxis": {
           "automargin": true,
           "gridcolor": "#283442",
           "linecolor": "#506784",
           "ticks": "",
           "title": {
            "standoff": 15
           },
           "zerolinecolor": "#283442",
           "zerolinewidth": 2
          },
          "yaxis": {
           "automargin": true,
           "gridcolor": "#283442",
           "linecolor": "#506784",
           "ticks": "",
           "title": {
            "standoff": 15
           },
           "zerolinecolor": "#283442",
           "zerolinewidth": 2
          }
         }
        },
        "title": {
         "font": {
          "size": 20
         },
         "text": "Change in Home Game Attendance Over Time for Top 3 Teams"
        },
        "width": 950,
        "xaxis": {
         "anchor": "y",
         "domain": [
          0,
          1
         ],
         "tickangle": -45,
         "title": {
          "text": "Date"
         }
        },
        "yaxis": {
         "anchor": "x",
         "domain": [
          0,
          1
         ],
         "title": {
          "text": "Attendance"
         }
        }
       }
      }
     },
     "metadata": {},
     "output_type": "display_data"
    }
   ],
   "source": [
    "import pandas as pd\n",
    "import plotly.express as px\n",
    "\n",
    "df= pd.read_excel('LIV-CHE-MAN.xlsx')\n",
    "df.loc[df['Venue'] == 'Home', 'Attendance'] = df['Attendance'].fillna(0)\n",
    "\n",
    "df_home_games = df[df['Venue'] == 'Home']\n",
    "\n",
    "df_home_games['Date'] = pd.to_datetime(df_home_games['Date'])\n",
    "top_teams = df_home_games['Club'].value_counts().head(3).index\n",
    "df_top_teams_home = df_home_games[df_home_games['Club'].isin(top_teams)]\n",
    "\n",
    "fig = px.line(\n",
    "    df_top_teams_home,\n",
    "    x='Date',  \n",
    "    y='Attendance', \n",
    "    color='Club',  \n",
    "    title='Change in Home Game Attendance Over Time for Top 3 Teams',\n",
    "    labels={'Date': 'Date', 'Attendance': 'Attendance'},\n",
    "    template='plotly_dark',\n",
    ")\n",
    "\n",
    "fig.update_layout(\n",
    "    height=600,\n",
    "    width=950,\n",
    "    title_font_size=20,\n",
    "    font=dict(family='Arial', size=14),\n",
    "    xaxis_title='Date',\n",
    "    yaxis_title='Attendance',\n",
    "    xaxis_tickangle=-45,\n",
    "    margin=dict(l=60, r=40, t=80, b=60),\n",
    "    plot_bgcolor='rgb(26, 26, 26)', \n",
    "    paper_bgcolor='rgb(26, 26, 26)',\n",
    ")\n",
    "\n",
    "fig.show()\n"
   ]
  },
  {
   "cell_type": "code",
   "execution_count": null,
   "id": "c4a490c8",
   "metadata": {},
   "outputs": [
    {
     "data": {
      "application/vnd.plotly.v1+json": {
       "config": {
        "plotlyServerURL": "https://plot.ly"
       },
       "data": [
        {
         "hovertemplate": "<b>%{hovertext}</b><br><br>Comp=Community Shield<br>Goals Scored=%{x}<br>Goals Against=%{y}<extra></extra>",
         "hovertext": [
          "Chelsea",
          "Manchester City",
          "Liverpool",
          "Manchester City",
          "Liverpool",
          "Manchester City",
          "Liverpool",
          "Manchester City",
          "Manchester City"
         ],
         "legendgroup": "Community Shield",
         "marker": {
          "color": "rgb(228,26,28)",
          "symbol": "circle"
         },
         "mode": "markers",
         "name": "Community Shield",
         "showlegend": true,
         "type": "scattergl",
         "x": {
          "bdata": "AAIBAQEAAwEB",
          "dtype": "i1"
         },
         "xaxis": "x",
         "y": {
          "bdata": "AgABAQEBAQMB",
          "dtype": "i1"
         },
         "yaxis": "y"
        },
        {
         "hovertemplate": "<b>%{hovertext}</b><br><br>Comp=Premier League<br>Goals Scored=%{x}<br>Goals Against=%{y}<extra></extra>",
         "hovertext": [
          "Chelsea",
          "Manchester City",
          "Liverpool",
          "Chelsea",
          "Manchester City",
          "Liverpool",
          "Liverpool",
          "Manchester City",
          "Chelsea",
          "Liverpool",
          "Chelsea",
          "Manchester City",
          "Chelsea",
          "Manchester City",
          "Liverpool",
          "Liverpool",
          "Manchester City",
          "Chelsea",
          "Manchester City",
          "Liverpool",
          "Chelsea",
          "Chelsea",
          "Liverpool",
          "Manchester City",
          "Chelsea",
          "Liverpool",
          "Manchester City",
          "Liverpool",
          "Chelsea",
          "Manchester City",
          "Liverpool",
          "Chelsea",
          "Manchester City",
          "Chelsea",
          "Liverpool",
          "Manchester City",
          "Chelsea",
          "Manchester City",
          "Liverpool",
          "Manchester City",
          "Chelsea",
          "Liverpool",
          "Manchester City",
          "Chelsea",
          "Liverpool",
          "Manchester City",
          "Chelsea",
          "Liverpool",
          "Manchester City",
          "Chelsea",
          "Liverpool",
          "Liverpool",
          "Manchester City",
          "Chelsea",
          "Chelsea",
          "Liverpool",
          "Manchester City",
          "Liverpool",
          "Manchester City",
          "Chelsea",
          "Chelsea",
          "Liverpool",
          "Manchester City",
          "Chelsea",
          "Liverpool",
          "Manchester City",
          "Liverpool",
          "Chelsea",
          "Manchester City",
          "Manchester City",
          "Liverpool",
          "Chelsea",
          "Chelsea",
          "Manchester City",
          "Liverpool",
          "Manchester City",
          "Liverpool",
          "Manchester City",
          "Chelsea",
          "Liverpool",
          "Chelsea",
          "Liverpool",
          "Manchester City",
          "Manchester City",
          "Chelsea",
          "Liverpool",
          "Manchester City",
          "Chelsea",
          "Liverpool",
          "Liverpool",
          "Chelsea",
          "Manchester City",
          "Chelsea",
          "Liverpool",
          "Chelsea",
          "Manchester City",
          "Liverpool",
          "Chelsea",
          "Liverpool",
          "Chelsea",
          "Manchester City",
          "Manchester City",
          "Liverpool",
          "Chelsea",
          "Manchester City",
          "Liverpool",
          "Manchester City",
          "Chelsea",
          "Liverpool",
          "Chelsea",
          "Manchester City",
          "Manchester City",
          "Chelsea",
          "Liverpool",
          "Liverpool",
          "Manchester City",
          "Chelsea",
          "Liverpool",
          "Manchester City",
          "Chelsea",
          "Liverpool",
          "Chelsea",
          "Manchester City",
          "Liverpool",
          "Manchester City",
          "Chelsea",
          "Liverpool",
          "Chelsea",
          "Manchester City",
          "Manchester City",
          "Liverpool",
          "Chelsea",
          "Liverpool",
          "Manchester City",
          "Chelsea",
          "Liverpool",
          "Manchester City",
          "Chelsea",
          "Chelsea",
          "Manchester City",
          "Liverpool",
          "Manchester City",
          "Chelsea",
          "Liverpool",
          "Chelsea",
          "Liverpool",
          "Manchester City",
          "Chelsea",
          "Liverpool",
          "Manchester City",
          "Chelsea",
          "Manchester City",
          "Liverpool",
          "Manchester City",
          "Liverpool",
          "Chelsea",
          "Manchester City",
          "Liverpool",
          "Chelsea",
          "Manchester City",
          "Liverpool",
          "Chelsea",
          "Chelsea",
          "Liverpool",
          "Manchester City",
          "Manchester City",
          "Chelsea",
          "Chelsea",
          "Liverpool",
          "Manchester City",
          "Manchester City",
          "Liverpool",
          "Chelsea",
          "Manchester City",
          "Chelsea",
          "Liverpool",
          "Chelsea",
          "Liverpool",
          "Manchester City",
          "Manchester City",
          "Chelsea",
          "Liverpool",
          "Manchester City",
          "Chelsea",
          "Liverpool",
          "Liverpool",
          "Liverpool",
          "Chelsea",
          "Manchester City",
          "Liverpool",
          "Chelsea",
          "Manchester City",
          "Manchester City",
          "Chelsea",
          "Liverpool",
          "Chelsea",
          "Liverpool",
          "Liverpool",
          "Chelsea",
          "Manchester City",
          "Manchester City",
          "Liverpool",
          "Chelsea",
          "Manchester City",
          "Liverpool",
          "Manchester City",
          "Chelsea",
          "Chelsea",
          "Manchester City",
          "Liverpool",
          "Chelsea",
          "Liverpool",
          "Manchester City",
          "Chelsea",
          "Liverpool",
          "Manchester City",
          "Manchester City",
          "Chelsea",
          "Liverpool",
          "Chelsea",
          "Manchester City",
          "Liverpool",
          "Manchester City",
          "Liverpool",
          "Chelsea",
          "Chelsea",
          "Manchester City",
          "Liverpool",
          "Liverpool",
          "Chelsea",
          "Liverpool",
          "Chelsea",
          "Manchester City",
          "Chelsea",
          "Manchester City",
          "Liverpool",
          "Chelsea",
          "Manchester City",
          "Liverpool",
          "Chelsea",
          "Manchester City",
          "Liverpool",
          "Liverpool",
          "Manchester City",
          "Chelsea",
          "Liverpool",
          "Chelsea",
          "Manchester City",
          "Chelsea",
          "Manchester City",
          "Liverpool",
          "Chelsea",
          "Manchester City",
          "Liverpool",
          "Liverpool",
          "Manchester City",
          "Chelsea",
          "Manchester City",
          "Chelsea",
          "Liverpool",
          "Chelsea",
          "Manchester City",
          "Liverpool",
          "Chelsea",
          "Manchester City",
          "Liverpool",
          "Manchester City",
          "Liverpool",
          "Chelsea",
          "Manchester City",
          "Chelsea",
          "Liverpool",
          "Chelsea",
          "Liverpool",
          "Chelsea",
          "Manchester City",
          "Liverpool",
          "Manchester City",
          "Chelsea",
          "Liverpool",
          "Manchester City",
          "Chelsea",
          "Manchester City",
          "Liverpool",
          "Manchester City",
          "Chelsea",
          "Liverpool",
          "Manchester City",
          "Chelsea",
          "Liverpool",
          "Manchester City",
          "Liverpool",
          "Chelsea",
          "Chelsea",
          "Manchester City",
          "Liverpool",
          "Manchester City",
          "Liverpool",
          "Chelsea",
          "Manchester City",
          "Chelsea",
          "Liverpool",
          "Manchester City",
          "Manchester City",
          "Chelsea",
          "Liverpool",
          "Manchester City",
          "Liverpool",
          "Chelsea",
          "Liverpool",
          "Manchester City",
          "Chelsea",
          "Manchester City",
          "Chelsea",
          "Manchester City",
          "Liverpool",
          "Liverpool",
          "Manchester City",
          "Chelsea",
          "Manchester City",
          "Chelsea",
          "Liverpool",
          "Liverpool",
          "Chelsea",
          "Manchester City",
          "Liverpool",
          "Chelsea",
          "Manchester City",
          "Chelsea",
          "Chelsea",
          "Liverpool",
          "Manchester City",
          "Chelsea",
          "Liverpool",
          "Manchester City",
          "Liverpool",
          "Chelsea",
          "Manchester City",
          "Liverpool",
          "Liverpool",
          "Chelsea",
          "Manchester City",
          "Chelsea",
          "Liverpool",
          "Manchester City",
          "Liverpool",
          "Manchester City",
          "Chelsea",
          "Chelsea",
          "Liverpool",
          "Manchester City",
          "Chelsea",
          "Manchester City",
          "Liverpool",
          "Manchester City",
          "Liverpool",
          "Chelsea",
          "Manchester City",
          "Liverpool",
          "Chelsea",
          "Chelsea",
          "Manchester City",
          "Liverpool",
          "Chelsea",
          "Manchester City",
          "Liverpool",
          "Chelsea",
          "Manchester City",
          "Liverpool",
          "Manchester City",
          "Chelsea",
          "Liverpool",
          "Manchester City",
          "Chelsea",
          "Liverpool",
          "Liverpool",
          "Chelsea",
          "Manchester City",
          "Liverpool",
          "Chelsea",
          "Manchester City",
          "Manchester City",
          "Liverpool",
          "Chelsea",
          "Chelsea",
          "Liverpool",
          "Manchester City",
          "Liverpool",
          "Chelsea",
          "Manchester City",
          "Manchester City",
          "Liverpool",
          "Chelsea",
          "Chelsea",
          "Manchester City",
          "Liverpool",
          "Chelsea",
          "Manchester City",
          "Liverpool",
          "Manchester City",
          "Chelsea",
          "Manchester City",
          "Liverpool",
          "Chelsea",
          "Manchester City",
          "Chelsea",
          "Liverpool",
          "Chelsea",
          "Manchester City",
          "Liverpool",
          "Chelsea",
          "Manchester City",
          "Liverpool",
          "Manchester City",
          "Liverpool",
          "Chelsea",
          "Manchester City",
          "Liverpool",
          "Liverpool",
          "Manchester City",
          "Liverpool",
          "Chelsea",
          "Manchester City",
          "Chelsea",
          "Liverpool",
          "Chelsea",
          "Manchester City",
          "Liverpool",
          "Manchester City",
          "Liverpool",
          "Chelsea",
          "Chelsea",
          "Liverpool",
          "Manchester City",
          "Liverpool",
          "Chelsea",
          "Manchester City",
          "Manchester City",
          "Liverpool",
          "Chelsea",
          "Chelsea",
          "Manchester City",
          "Liverpool",
          "Chelsea",
          "Liverpool",
          "Chelsea",
          "Manchester City",
          "Liverpool",
          "Manchester City",
          "Chelsea",
          "Manchester City",
          "Liverpool",
          "Chelsea",
          "Chelsea",
          "Manchester City",
          "Liverpool",
          "Liverpool",
          "Chelsea",
          "Manchester City",
          "Manchester City",
          "Chelsea",
          "Liverpool",
          "Chelsea",
          "Manchester City",
          "Liverpool",
          "Chelsea",
          "Liverpool",
          "Manchester City",
          "Chelsea",
          "Manchester City",
          "Liverpool",
          "Manchester City",
          "Chelsea",
          "Liverpool",
          "Manchester City",
          "Liverpool",
          "Chelsea",
          "Manchester City",
          "Chelsea",
          "Manchester City",
          "Liverpool",
          "Manchester City",
          "Chelsea",
          "Liverpool",
          "Chelsea",
          "Liverpool",
          "Manchester City",
          "Liverpool",
          "Chelsea",
          "Chelsea",
          "Manchester City",
          "Liverpool",
          "Manchester City",
          "Chelsea",
          "Liverpool",
          "Manchester City",
          "Chelsea",
          "Liverpool",
          "Liverpool",
          "Chelsea",
          "Manchester City",
          "Liverpool",
          "Manchester City",
          "Chelsea",
          "Liverpool",
          "Manchester City",
          "Chelsea",
          "Chelsea",
          "Manchester City",
          "Liverpool",
          "Chelsea",
          "Manchester City",
          "Liverpool",
          "Chelsea",
          "Manchester City",
          "Chelsea",
          "Liverpool",
          "Manchester City",
          "Chelsea",
          "Manchester City",
          "Liverpool",
          "Manchester City",
          "Manchester City",
          "Chelsea",
          "Liverpool",
          "Liverpool",
          "Manchester City",
          "Chelsea",
          "Liverpool",
          "Manchester City",
          "Chelsea",
          "Liverpool",
          "Manchester City",
          "Liverpool",
          "Chelsea",
          "Chelsea",
          "Liverpool",
          "Manchester City",
          "Chelsea",
          "Liverpool",
          "Chelsea",
          "Chelsea",
          "Manchester City",
          "Liverpool",
          "Manchester City",
          "Chelsea",
          "Liverpool",
          "Liverpool",
          "Manchester City",
          "Chelsea",
          "Liverpool",
          "Liverpool",
          "Manchester City",
          "Chelsea",
          "Liverpool",
          "Manchester City",
          "Chelsea",
          "Manchester City",
          "Liverpool",
          "Chelsea",
          "Manchester City",
          "Liverpool",
          "Liverpool",
          "Chelsea",
          "Manchester City",
          "Manchester City",
          "Chelsea",
          "Chelsea",
          "Liverpool",
          "Manchester City",
          "Manchester City",
          "Chelsea",
          "Liverpool",
          "Liverpool",
          "Manchester City",
          "Chelsea",
          "Chelsea",
          "Liverpool",
          "Manchester City",
          "Chelsea",
          "Manchester City",
          "Liverpool",
          "Liverpool",
          "Manchester City",
          "Chelsea",
          "Manchester City",
          "Liverpool",
          "Chelsea",
          "Manchester City",
          "Liverpool",
          "Chelsea",
          "Chelsea",
          "Manchester City",
          "Liverpool",
          "Manchester City",
          "Chelsea",
          "Liverpool",
          "Chelsea",
          "Manchester City",
          "Liverpool",
          "Manchester City",
          "Liverpool",
          "Chelsea",
          "Liverpool",
          "Chelsea",
          "Manchester City",
          "Liverpool",
          "Chelsea",
          "Manchester City",
          "Chelsea",
          "Liverpool",
          "Manchester City",
          "Chelsea",
          "Manchester City",
          "Liverpool",
          "Liverpool",
          "Chelsea",
          "Manchester City",
          "Chelsea",
          "Manchester City",
          "Liverpool",
          "Liverpool",
          "Chelsea",
          "Liverpool",
          "Chelsea",
          "Manchester City",
          "Manchester City",
          "Chelsea",
          "Liverpool",
          "Manchester City",
          "Chelsea",
          "Liverpool",
          "Manchester City",
          "Chelsea",
          "Liverpool",
          "Liverpool",
          "Chelsea",
          "Manchester City",
          "Manchester City",
          "Liverpool",
          "Chelsea",
          "Chelsea",
          "Liverpool",
          "Manchester City",
          "Manchester City",
          "Liverpool",
          "Manchester City",
          "Chelsea",
          "Liverpool",
          "Manchester City",
          "Liverpool",
          "Manchester City",
          "Chelsea",
          "Chelsea",
          "Manchester City",
          "Liverpool",
          "Manchester City",
          "Chelsea",
          "Liverpool",
          "Manchester City",
          "Chelsea",
          "Liverpool",
          "Manchester City",
          "Liverpool",
          "Chelsea",
          "Liverpool",
          "Chelsea",
          "Liverpool",
          "Manchester City",
          "Chelsea",
          "Liverpool",
          "Manchester City",
          "Chelsea",
          "Manchester City",
          "Chelsea",
          "Liverpool",
          "Manchester City",
          "Chelsea",
          "Liverpool",
          "Manchester City",
          "Chelsea",
          "Liverpool",
          "Manchester City",
          "Chelsea",
          "Liverpool",
          "Manchester City",
          "Chelsea",
          "Manchester City",
          "Liverpool",
          "Chelsea",
          "Manchester City",
          "Chelsea",
          "Liverpool",
          "Chelsea",
          "Manchester City",
          "Liverpool",
          "Chelsea",
          "Liverpool",
          "Manchester City",
          "Liverpool",
          "Manchester City",
          "Chelsea",
          "Liverpool",
          "Manchester City",
          "Chelsea",
          "Chelsea",
          "Manchester City",
          "Liverpool",
          "Manchester City",
          "Liverpool",
          "Chelsea",
          "Liverpool",
          "Manchester City",
          "Chelsea",
          "Liverpool",
          "Manchester City",
          "Chelsea",
          "Manchester City",
          "Chelsea",
          "Liverpool",
          "Liverpool",
          "Manchester City",
          "Chelsea",
          "Chelsea",
          "Liverpool",
          "Manchester City",
          "Manchester City",
          "Chelsea",
          "Liverpool",
          "Manchester City",
          "Chelsea",
          "Manchester City",
          "Chelsea",
          "Liverpool",
          "Liverpool",
          "Chelsea",
          "Manchester City",
          "Liverpool",
          "Manchester City",
          "Chelsea",
          "Manchester City",
          "Chelsea",
          "Liverpool",
          "Manchester City",
          "Liverpool",
          "Chelsea",
          "Liverpool",
          "Manchester City",
          "Chelsea",
          "Chelsea",
          "Liverpool",
          "Manchester City",
          "Liverpool",
          "Manchester City",
          "Chelsea",
          "Liverpool",
          "Chelsea",
          "Manchester City",
          "Liverpool",
          "Liverpool",
          "Chelsea",
          "Liverpool",
          "Manchester City",
          "Chelsea",
          "Liverpool",
          "Manchester City",
          "Manchester City",
          "Liverpool",
          "Chelsea",
          "Manchester City",
          "Chelsea",
          "Liverpool",
          "Manchester City",
          "Chelsea",
          "Manchester City",
          "Chelsea",
          "Liverpool",
          "Manchester City",
          "Chelsea",
          "Liverpool",
          "Manchester City",
          "Liverpool",
          "Chelsea",
          "Manchester City"
         ],
         "legendgroup": "Premier League",
         "marker": {
          "color": "rgb(55,126,184)",
          "symbol": "circle"
         },
         "mode": "markers",
         "name": "Premier League",
         "showlegend": true,
         "type": "scattergl",
         "x": {
          "bdata": "AwIEAwYCAQECAgICBAMCAwUAAgEBAwAAAgEFBAQBAQMGAAIDAQQDAwIBAgEDAAIEAwIDAgIAAgQBBQMBAAECAgEDBAADAQEABQMBAgMGAAACBQEBAgADAQQCAAICAgMCAwICAAMBAgICBQEBAwMBBAACBAUAAgIBAwMDAwQCAwUCCAIBAQMCAgAEAQIBAwQCAgICAgMBAQICAgIABAUCAQMBAAIDAwIABAICAQICAQIDAQYCAAIBAgICBAIAAQACAQIDAgACBAADAAIFBAECAgQAAwIAAwMFBQABAQIBBAUDAgUDBAMCAAMDAgMEAQIDAQICAQACAwEEAQECAAMBBQACAwQAAAEBAQIBBwMCAQEBAAEDAAEBAAQAAgAFAAMBAgMCAAECBAEDAQIDAQABAgACBAABAAACBQADAQMCAgEEAgEAAgEBAgICAgEABAQCAgIDAgEFAwMAAgUCAQEFAwEDAAMDAQMAAwICAQIFBwQFAAMCAgECBAMDBAECAgQCAgEDAQMBBwMBAAQCAwYAAQECAgIBAAMBAQMCAgIEAQECAwYBAQQEAwIBAAICAgEGAgIEAgMFAgEBBAEAAQIFAgUDAgIBAgMDAgECBAIBAAMBAgkEAQYCAQIAAwMCBgMEAgACAQABAwABAQEBAgACAQADAwIDAgEBAQEAAQEAAQQAAAMAAAABAwIDAQACAAQAAgIBBwEAAwIBBAAAAAAEAgMBBgMEAAIEAgEBAwMCAQIDAwEAAQEBAQQAAwEBAwEBAwICAAUDAwMAAgMAAQECBAACAgICAAMDBgEEAwQEAQEBAwQDAQACAgACAgIAAQECAgMCAwQDAQQDAQQBAgMCAwMBBAEBBAECAQMBAQMCAAIEBAMEAgIFAAYDAAAEAgICAgUFBAQDAwICAgMCAgIABAIGAwEDAQIAAwMCAgEEAQMBAQICAQICAgEBAgEBAAIDAgADBQMDAgQCAQIBAAYDAQEFAgAEAQICAQICBgMBBAMCAQICAAQCAgECAAQCAQADAQIAAQIBAAACBQICAgECAg==",
          "dtype": "i1"
         },
         "xaxis": "x",
         "y": {
          "bdata": "AAAAAgEAAAEBAQABAQABAAAAAAEBAAAAAgAAAQAAAQEBAAABAwAAAQAAAQIBAgAAAQEBAAMBAQACAQEAAAIBAQAAAwIAAgEEAAEBAAAABgAAAAAAAQABAQIBAgABAQAAAQAAAgEAAAIAAAABAgAAAQAAAQAEAQIBAQIBAAACAQIDAAECAAEAAQIBAAABAAIBAQEBAAEDAgEBAgEBAQIBAgADAQAAAQACAAMAAAEBAQAAAAECAQAAAgEAAAICAAIAAAECAgMBAAIAAAEAAAIBAwAEAAABAgEAAAMBAAECAAMFAAABAwEAAgEDBQEAAQcDAAIBAQABAAABAQEAAgABAAAAAQABAAECAQEAAAAAAwEBAAMBAQAAAAACAAEAAAEAAAEAAQABAQQAAwABAQIAAQAAAQEAAQIAAgAAAAAABQIBAQEAAQEAAAABAAIBAgMBAQMAAAIAAAABAAAAAQEAAAAAAAAAAAMBAQICAAAAAAEAAgACAAEDAAAAAAEBAQEBAwABAAIAAAEBAAACAQMBAAEBAgIAAQABAQEAAAAAAAADAQAAAAABAQAAAAAAAAQAAgIABAABAAABAAABAQIAAQEAAgEBAQIBAgAAAAIBAwMCAQACAgABAQEAAAMBAwAAAwEAAAAAAQEBBAACAQEBAgEBAQABAQEBAwABAgIDAAIAAAAAAwEBAQABAQEAAAECAAAAAAABAQIEAQIAAAEBAgECAQIBAgEDAQMAAAEBAAIAAAEBAAEEAQQBAAEBAQADAAEBAQEAAQEAAAEBAgIAAQECAQIAAgAAAQEBAAQEAQQBAgMDAgEAAQIBAAIAAQIAAQEAAgICAAABBAEDBAEAAQEBAQEAAQACAAEBAQICAAEBAwECAgIBAQABBQIAAgIAAAEAAgACAwABAAEBAAACAQACAQEAAAEBAAACAQECAAIBAgEBAAIBAQIBAAIBBAECAAIAAQMAAgMCAgECAAMBAgEAAAIBAQICAQIAAAEDAQEABQECAwABAgIAAgAAAAEBAAIBAAAAAAADAgIBAAABAQ==",
          "dtype": "i1"
         },
         "yaxis": "y"
        },
        {
         "hovertemplate": "<b>%{hovertext}</b><br><br>Comp=Champions Lg<br>Goals Scored=%{x}<br>Goals Against=%{y}<extra></extra>",
         "hovertext": [
          "Liverpool",
          "Manchester City",
          "Manchester City",
          "Liverpool",
          "Manchester City",
          "Liverpool",
          "Liverpool",
          "Manchester City",
          "Manchester City",
          "Liverpool",
          "Liverpool",
          "Manchester City",
          "Liverpool",
          "Manchester City",
          "Manchester City",
          "Liverpool",
          "Liverpool",
          "Manchester City",
          "Liverpool",
          "Manchester City",
          "Liverpool",
          "Liverpool",
          "Liverpool",
          "Chelsea",
          "Liverpool",
          "Manchester City",
          "Manchester City",
          "Liverpool",
          "Chelsea",
          "Manchester City",
          "Chelsea",
          "Liverpool",
          "Chelsea",
          "Liverpool",
          "Manchester City",
          "Manchester City",
          "Liverpool",
          "Chelsea",
          "Liverpool",
          "Chelsea",
          "Manchester City",
          "Liverpool",
          "Chelsea",
          "Manchester City",
          "Liverpool",
          "Manchester City",
          "Chelsea",
          "Manchester City",
          "Chelsea",
          "Liverpool",
          "Manchester City",
          "Manchester City",
          "Liverpool",
          "Chelsea",
          "Liverpool",
          "Manchester City",
          "Chelsea",
          "Chelsea",
          "Liverpool",
          "Manchester City",
          "Manchester City",
          "Liverpool",
          "Chelsea",
          "Chelsea",
          "Liverpool",
          "Manchester City",
          "Liverpool",
          "Chelsea",
          "Manchester City",
          "Liverpool",
          "Manchester City",
          "Chelsea",
          "Manchester City",
          "Liverpool",
          "Chelsea",
          "Chelsea",
          "Manchester City",
          "Liverpool",
          "Chelsea",
          "Manchester City",
          "Manchester City",
          "Chelsea",
          "Chelsea",
          "Manchester City",
          "Chelsea",
          "Liverpool",
          "Manchester City",
          "Liverpool",
          "Manchester City",
          "Chelsea",
          "Manchester City",
          "Liverpool",
          "Chelsea",
          "Chelsea",
          "Liverpool",
          "Manchester City",
          "Chelsea",
          "Manchester City",
          "Liverpool",
          "Liverpool",
          "Manchester City",
          "Chelsea",
          "Manchester City",
          "Liverpool",
          "Chelsea",
          "Liverpool",
          "Manchester City",
          "Chelsea",
          "Manchester City",
          "Liverpool",
          "Chelsea",
          "Chelsea",
          "Liverpool",
          "Manchester City",
          "Manchester City",
          "Liverpool",
          "Liverpool",
          "Manchester City",
          "Liverpool",
          "Manchester City",
          "Chelsea",
          "Liverpool",
          "Liverpool",
          "Chelsea",
          "Manchester City",
          "Liverpool",
          "Manchester City",
          "Chelsea",
          "Chelsea",
          "Manchester City",
          "Liverpool",
          "Chelsea",
          "Manchester City",
          "Liverpool",
          "Liverpool",
          "Manchester City",
          "Chelsea",
          "Chelsea",
          "Liverpool",
          "Manchester City",
          "Chelsea",
          "Manchester City",
          "Liverpool",
          "Manchester City",
          "Chelsea",
          "Chelsea",
          "Manchester City",
          "Manchester City",
          "Manchester City",
          "Manchester City",
          "Manchester City",
          "Manchester City",
          "Manchester City",
          "Manchester City",
          "Manchester City",
          "Manchester City",
          "Manchester City",
          "Manchester City",
          "Manchester City",
          "Manchester City",
          "Liverpool",
          "Manchester City",
          "Manchester City",
          "Liverpool",
          "Manchester City",
          "Liverpool",
          "Liverpool",
          "Manchester City",
          "Manchester City",
          "Liverpool",
          "Liverpool",
          "Manchester City",
          "Liverpool",
          "Manchester City",
          "Liverpool",
          "Manchester City",
          "Manchester City",
          "Manchester City",
          "Liverpool",
          "Liverpool"
         ],
         "legendgroup": "Champions Lg",
         "marker": {
          "color": "rgb(77,175,74)",
          "symbol": "circle"
         },
         "mode": "markers",
         "name": "Champions Lg",
         "showlegend": true,
         "type": "scattergl",
         "x": {
          "bdata": "AwECAAMEAAYCAQECAAMHAwIABAQABAIAAAMCBAIFAQQEAgEBAQICAgQAAAICAgEBAAEDAwIEBQMDAgABAAEEAQEDAgECAgICAgECAAIAAQICAgEAAQMGBQAABQMEAQIEBAICAgEDBQICAAACAQMBAwMABAIDAQAEAAECAQICBQMCAAcCAAMCAwIAAgECBwADAAABAQQBAwMDAwMDAwMDAQMABAIFAQQBAwIBAAICAgMCAQEA",
          "dtype": "i1"
         },
         "xaxis": "x",
         "y": {
          "bdata": "AgIBAQAAAgACAgABAAIAAQABAQMDAAABAgAAAwEBAAEEAQEBAQIAAQEBAwEDAQQDAAABAAAAAAAAAQIAAAAAAQEAAAAAAAAAAQMAAQEAAQEAAAABAAIDAQIBAQIAAAABAAEAAQIDAAAAAQABAAEDAgMAAwACAwEAAQQBAQEAAAAAAAEBAAAAAQEBBQEAAAEAAgIBAQAAAQEBAAICAQEDAQEAAAAAAAAEAwAAAgEEAwEDAwAB",
          "dtype": "i1"
         },
         "yaxis": "y"
        },
        {
         "hovertemplate": "<b>%{hovertext}</b><br><br>Comp=Europa Lg<br>Goals Scored=%{x}<br>Goals Against=%{y}<extra></extra>",
         "hovertext": [
          "Chelsea",
          "Chelsea",
          "Chelsea",
          "Chelsea",
          "Chelsea",
          "Chelsea",
          "Chelsea",
          "Chelsea",
          "Chelsea",
          "Chelsea",
          "Chelsea",
          "Chelsea",
          "Chelsea",
          "Chelsea",
          "Chelsea",
          "Liverpool",
          "Liverpool",
          "Liverpool",
          "Liverpool",
          "Liverpool",
          "Liverpool",
          "Liverpool",
          "Liverpool",
          "Liverpool",
          "Liverpool"
         ],
         "legendgroup": "Europa Lg",
         "marker": {
          "color": "rgb(152,78,163)",
          "symbol": "circle"
         },
         "mode": "markers",
         "name": "Europa Lg",
         "showlegend": true,
         "type": "scattergl",
         "x": {
          "bdata": "AQEDAQQCAgMDBQEEAQEEAwIFAgQBBQYAAQ==",
          "dtype": "i1"
         },
         "xaxis": "x",
         "y": {
          "bdata": "AAABAAACAQAAAAADAQEBAQABAwACAQEDAA==",
          "dtype": "i1"
         },
         "yaxis": "y"
        },
        {
         "hovertemplate": "<b>%{hovertext}</b><br><br>Comp=EFL Cup<br>Goals Scored=%{x}<br>Goals Against=%{y}<extra></extra>",
         "hovertext": [
          "Manchester City",
          "Chelsea",
          "Liverpool",
          "Chelsea",
          "Manchester City",
          "Manchester City",
          "Chelsea",
          "Chelsea",
          "Manchester City",
          "Manchester City",
          "Chelsea",
          "Manchester City",
          "Chelsea",
          "Manchester City",
          "Chelsea",
          "Liverpool",
          "Manchester City",
          "Chelsea",
          "Liverpool",
          "Liverpool",
          "Manchester City",
          "Manchester City",
          "Manchester City",
          "Manchester City",
          "Chelsea",
          "Liverpool",
          "Manchester City",
          "Chelsea",
          "Manchester City",
          "Liverpool",
          "Manchester City",
          "Manchester City",
          "Manchester City",
          "Liverpool",
          "Manchester City",
          "Chelsea",
          "Chelsea",
          "Manchester City",
          "Liverpool",
          "Chelsea",
          "Liverpool",
          "Chelsea",
          "Chelsea",
          "Liverpool",
          "Liverpool",
          "Chelsea",
          "Liverpool",
          "Manchester City",
          "Liverpool",
          "Chelsea",
          "Liverpool",
          "Manchester City",
          "Manchester City",
          "Chelsea",
          "Manchester City",
          "Chelsea",
          "Liverpool",
          "Liverpool",
          "Chelsea",
          "Chelsea",
          "Liverpool",
          "Chelsea",
          "Liverpool",
          "Chelsea",
          "Liverpool",
          "Chelsea",
          "Liverpool",
          "Chelsea",
          "Manchester City",
          "Liverpool",
          "Liverpool",
          "Manchester City",
          "Chelsea",
          "Liverpool",
          "Liverpool",
          "Liverpool",
          "Liverpool"
         ],
         "legendgroup": "EFL Cup",
         "marker": {
          "color": "rgb(255,127,0)",
          "symbol": "circle"
         },
         "mode": "markers",
         "name": "EFL Cup",
         "showlegend": true,
         "type": "scattergl",
         "x": {
          "bdata": "AwIBAwIBAQAJAQIAAAMHAgMBBQADAwACBgcCAQMABAIBAwYBAQACAgMCAQACAAACAAACAwACAAEDAgIBBQACBgEAAQUCBQMBAAIABAE=",
          "dtype": "i1"
         },
         "xaxis": "x",
         "y": {
          "bdata": "AAECAgABAAEAAAEAAAABAAECBQUBAQEBAAIBAQAAAQAAAAEBAQAAAAMAAAAAAAAAAAIDAgIBAQABAQABAQEBAQEBAAABAQICAgEBAAI=",
          "dtype": "i1"
         },
         "yaxis": "y"
        },
        {
         "hovertemplate": "<b>%{hovertext}</b><br><br>Comp=FA Cup<br>Goals Scored=%{x}<br>Goals Against=%{y}<extra></extra>",
         "hovertext": [
          "Chelsea",
          "Manchester City",
          "Liverpool",
          "Manchester City",
          "Chelsea",
          "Manchester City",
          "Chelsea",
          "Manchester City",
          "Manchester City",
          "Manchester City",
          "Manchester City",
          "Chelsea",
          "Liverpool",
          "Chelsea",
          "Liverpool",
          "Manchester City",
          "Liverpool",
          "Chelsea",
          "Liverpool",
          "Manchester City",
          "Chelsea",
          "Manchester City",
          "Manchester City",
          "Chelsea",
          "Chelsea",
          "Liverpool",
          "Chelsea",
          "Manchester City",
          "Manchester City",
          "Chelsea",
          "Liverpool",
          "Manchester City",
          "Chelsea",
          "Manchester City",
          "Chelsea",
          "Manchester City",
          "Chelsea",
          "Chelsea",
          "Manchester City",
          "Chelsea",
          "Liverpool",
          "Manchester City",
          "Chelsea",
          "Liverpool",
          "Manchester City",
          "Chelsea",
          "Liverpool",
          "Chelsea",
          "Manchester City",
          "Liverpool",
          "Liverpool",
          "Manchester City",
          "Chelsea",
          "Liverpool",
          "Chelsea",
          "Liverpool",
          "Chelsea",
          "Manchester City",
          "Liverpool",
          "Manchester City",
          "Liverpool",
          "Manchester City",
          "Manchester City",
          "Manchester City",
          "Manchester City",
          "Chelsea",
          "Manchester City",
          "Liverpool",
          "Manchester City",
          "Chelsea",
          "Liverpool",
          "Chelsea",
          "Manchester City",
          "Liverpool",
          "Chelsea",
          "Manchester City",
          "Liverpool",
          "Chelsea",
          "Manchester City",
          "Chelsea",
          "Manchester City",
          "Liverpool",
          "Manchester City",
          "Chelsea",
          "Chelsea",
          "Manchester City",
          "Liverpool",
          "Manchester City",
          "Manchester City"
         ],
         "legendgroup": "FA Cup",
         "marker": {
          "color": "rgb(255,255,51)",
          "symbol": "circle"
         },
         "mode": "markers",
         "name": "FA Cup",
         "showlegend": true,
         "type": "scattergl",
         "x": {
          "bdata": "AgcBBQMEAAMBBgQCAQICBAECAAEBAgADAQQEAwMDAgMBAgIAAQAEBQQEAgMCAwICBAEDAgIAAAIABAEBAQMGAwIEBQIBAAUDBgMDAgMEAQABBAgFAQIAAwI=",
          "dtype": "i1"
         },
         "xaxis": "x",
         "y": {
          "bdata": "AAACAAABAgIAAAEAAAECAAAAAgAAAAIBAgEAAAEBAwEAAAABAAEBAQEBAQEAAgEAAQACAwAAAAIEAAAAAgAAAAEAAAAAAAIBAgACAAQCAAECAAAAAgEBAQE=",
          "dtype": "i1"
         },
         "yaxis": "y"
        },
        {
         "hovertemplate": "<b>%{hovertext}</b><br><br>Comp=Super Cup<br>Goals Scored=%{x}<br>Goals Against=%{y}<extra></extra>",
         "hovertext": [
          "Chelsea",
          "Liverpool",
          "Chelsea",
          "Manchester City"
         ],
         "legendgroup": "Super Cup",
         "marker": {
          "color": "rgb(166,86,40)",
          "symbol": "circle"
         },
         "mode": "markers",
         "name": "Super Cup",
         "showlegend": true,
         "type": "scattergl",
         "x": {
          "bdata": "AgIBAQ==",
          "dtype": "i1"
         },
         "xaxis": "x",
         "y": {
          "bdata": "AgIBAQ==",
          "dtype": "i1"
         },
         "yaxis": "y"
        },
        {
         "hovertemplate": "<b>%{hovertext}</b><br><br>Comp=FA Community Shield<br>Goals Scored=%{x}<br>Goals Against=%{y}<extra></extra>",
         "hovertext": [
          "Manchester City"
         ],
         "legendgroup": "FA Community Shield",
         "marker": {
          "color": "rgb(247,129,191)",
          "symbol": "circle"
         },
         "mode": "markers",
         "name": "FA Community Shield",
         "showlegend": true,
         "type": "scattergl",
         "x": {
          "bdata": "AQ==",
          "dtype": "i1"
         },
         "xaxis": "x",
         "y": {
          "bdata": "AQ==",
          "dtype": "i1"
         },
         "yaxis": "y"
        },
        {
         "hovertemplate": "<b>%{hovertext}</b><br><br>Comp=Conf Lg<br>Goals Scored=%{x}<br>Goals Against=%{y}<extra></extra>",
         "hovertext": [
          "Chelsea",
          "Chelsea",
          "Chelsea",
          "Chelsea",
          "Chelsea",
          "Chelsea",
          "Chelsea",
          "Chelsea",
          "Chelsea",
          "Chelsea",
          "Chelsea",
          "Chelsea"
         ],
         "legendgroup": "Conf Lg",
         "marker": {
          "color": "rgb(153,153,153)",
          "symbol": "circle"
         },
         "mode": "markers",
         "name": "Conf Lg",
         "showlegend": true,
         "type": "scattergl",
         "x": {
          "bdata": "AgEEBAgCAwUCAQMB",
          "dtype": "i1"
         },
         "xaxis": "x",
         "y": {
          "bdata": "AAICAQAAAQEBAAAC",
          "dtype": "i1"
         },
         "yaxis": "y"
        }
       ],
       "layout": {
        "font": {
         "family": "Arial",
         "size": 14
        },
        "height": 600,
        "legend": {
         "title": {
          "text": "Comp"
         },
         "tracegroupgap": 0
        },
        "margin": {
         "b": 60,
         "l": 60,
         "r": 40,
         "t": 80
        },
        "paper_bgcolor": "rgb(26, 26, 26)",
        "plot_bgcolor": "rgb(26, 26, 26)",
        "template": {
         "data": {
          "bar": [
           {
            "error_x": {
             "color": "#f2f5fa"
            },
            "error_y": {
             "color": "#f2f5fa"
            },
            "marker": {
             "line": {
              "color": "rgb(17,17,17)",
              "width": 0.5
             },
             "pattern": {
              "fillmode": "overlay",
              "size": 10,
              "solidity": 0.2
             }
            },
            "type": "bar"
           }
          ],
          "barpolar": [
           {
            "marker": {
             "line": {
              "color": "rgb(17,17,17)",
              "width": 0.5
             },
             "pattern": {
              "fillmode": "overlay",
              "size": 10,
              "solidity": 0.2
             }
            },
            "type": "barpolar"
           }
          ],
          "carpet": [
           {
            "aaxis": {
             "endlinecolor": "#A2B1C6",
             "gridcolor": "#506784",
             "linecolor": "#506784",
             "minorgridcolor": "#506784",
             "startlinecolor": "#A2B1C6"
            },
            "baxis": {
             "endlinecolor": "#A2B1C6",
             "gridcolor": "#506784",
             "linecolor": "#506784",
             "minorgridcolor": "#506784",
             "startlinecolor": "#A2B1C6"
            },
            "type": "carpet"
           }
          ],
          "choropleth": [
           {
            "colorbar": {
             "outlinewidth": 0,
             "ticks": ""
            },
            "type": "choropleth"
           }
          ],
          "contour": [
           {
            "colorbar": {
             "outlinewidth": 0,
             "ticks": ""
            },
            "colorscale": [
             [
              0,
              "#0d0887"
             ],
             [
              0.1111111111111111,
              "#46039f"
             ],
             [
              0.2222222222222222,
              "#7201a8"
             ],
             [
              0.3333333333333333,
              "#9c179e"
             ],
             [
              0.4444444444444444,
              "#bd3786"
             ],
             [
              0.5555555555555556,
              "#d8576b"
             ],
             [
              0.6666666666666666,
              "#ed7953"
             ],
             [
              0.7777777777777778,
              "#fb9f3a"
             ],
             [
              0.8888888888888888,
              "#fdca26"
             ],
             [
              1,
              "#f0f921"
             ]
            ],
            "type": "contour"
           }
          ],
          "contourcarpet": [
           {
            "colorbar": {
             "outlinewidth": 0,
             "ticks": ""
            },
            "type": "contourcarpet"
           }
          ],
          "heatmap": [
           {
            "colorbar": {
             "outlinewidth": 0,
             "ticks": ""
            },
            "colorscale": [
             [
              0,
              "#0d0887"
             ],
             [
              0.1111111111111111,
              "#46039f"
             ],
             [
              0.2222222222222222,
              "#7201a8"
             ],
             [
              0.3333333333333333,
              "#9c179e"
             ],
             [
              0.4444444444444444,
              "#bd3786"
             ],
             [
              0.5555555555555556,
              "#d8576b"
             ],
             [
              0.6666666666666666,
              "#ed7953"
             ],
             [
              0.7777777777777778,
              "#fb9f3a"
             ],
             [
              0.8888888888888888,
              "#fdca26"
             ],
             [
              1,
              "#f0f921"
             ]
            ],
            "type": "heatmap"
           }
          ],
          "histogram": [
           {
            "marker": {
             "pattern": {
              "fillmode": "overlay",
              "size": 10,
              "solidity": 0.2
             }
            },
            "type": "histogram"
           }
          ],
          "histogram2d": [
           {
            "colorbar": {
             "outlinewidth": 0,
             "ticks": ""
            },
            "colorscale": [
             [
              0,
              "#0d0887"
             ],
             [
              0.1111111111111111,
              "#46039f"
             ],
             [
              0.2222222222222222,
              "#7201a8"
             ],
             [
              0.3333333333333333,
              "#9c179e"
             ],
             [
              0.4444444444444444,
              "#bd3786"
             ],
             [
              0.5555555555555556,
              "#d8576b"
             ],
             [
              0.6666666666666666,
              "#ed7953"
             ],
             [
              0.7777777777777778,
              "#fb9f3a"
             ],
             [
              0.8888888888888888,
              "#fdca26"
             ],
             [
              1,
              "#f0f921"
             ]
            ],
            "type": "histogram2d"
           }
          ],
          "histogram2dcontour": [
           {
            "colorbar": {
             "outlinewidth": 0,
             "ticks": ""
            },
            "colorscale": [
             [
              0,
              "#0d0887"
             ],
             [
              0.1111111111111111,
              "#46039f"
             ],
             [
              0.2222222222222222,
              "#7201a8"
             ],
             [
              0.3333333333333333,
              "#9c179e"
             ],
             [
              0.4444444444444444,
              "#bd3786"
             ],
             [
              0.5555555555555556,
              "#d8576b"
             ],
             [
              0.6666666666666666,
              "#ed7953"
             ],
             [
              0.7777777777777778,
              "#fb9f3a"
             ],
             [
              0.8888888888888888,
              "#fdca26"
             ],
             [
              1,
              "#f0f921"
             ]
            ],
            "type": "histogram2dcontour"
           }
          ],
          "mesh3d": [
           {
            "colorbar": {
             "outlinewidth": 0,
             "ticks": ""
            },
            "type": "mesh3d"
           }
          ],
          "parcoords": [
           {
            "line": {
             "colorbar": {
              "outlinewidth": 0,
              "ticks": ""
             }
            },
            "type": "parcoords"
           }
          ],
          "pie": [
           {
            "automargin": true,
            "type": "pie"
           }
          ],
          "scatter": [
           {
            "marker": {
             "line": {
              "color": "#283442"
             }
            },
            "type": "scatter"
           }
          ],
          "scatter3d": [
           {
            "line": {
             "colorbar": {
              "outlinewidth": 0,
              "ticks": ""
             }
            },
            "marker": {
             "colorbar": {
              "outlinewidth": 0,
              "ticks": ""
             }
            },
            "type": "scatter3d"
           }
          ],
          "scattercarpet": [
           {
            "marker": {
             "colorbar": {
              "outlinewidth": 0,
              "ticks": ""
             }
            },
            "type": "scattercarpet"
           }
          ],
          "scattergeo": [
           {
            "marker": {
             "colorbar": {
              "outlinewidth": 0,
              "ticks": ""
             }
            },
            "type": "scattergeo"
           }
          ],
          "scattergl": [
           {
            "marker": {
             "line": {
              "color": "#283442"
             }
            },
            "type": "scattergl"
           }
          ],
          "scattermap": [
           {
            "marker": {
             "colorbar": {
              "outlinewidth": 0,
              "ticks": ""
             }
            },
            "type": "scattermap"
           }
          ],
          "scattermapbox": [
           {
            "marker": {
             "colorbar": {
              "outlinewidth": 0,
              "ticks": ""
             }
            },
            "type": "scattermapbox"
           }
          ],
          "scatterpolar": [
           {
            "marker": {
             "colorbar": {
              "outlinewidth": 0,
              "ticks": ""
             }
            },
            "type": "scatterpolar"
           }
          ],
          "scatterpolargl": [
           {
            "marker": {
             "colorbar": {
              "outlinewidth": 0,
              "ticks": ""
             }
            },
            "type": "scatterpolargl"
           }
          ],
          "scatterternary": [
           {
            "marker": {
             "colorbar": {
              "outlinewidth": 0,
              "ticks": ""
             }
            },
            "type": "scatterternary"
           }
          ],
          "surface": [
           {
            "colorbar": {
             "outlinewidth": 0,
             "ticks": ""
            },
            "colorscale": [
             [
              0,
              "#0d0887"
             ],
             [
              0.1111111111111111,
              "#46039f"
             ],
             [
              0.2222222222222222,
              "#7201a8"
             ],
             [
              0.3333333333333333,
              "#9c179e"
             ],
             [
              0.4444444444444444,
              "#bd3786"
             ],
             [
              0.5555555555555556,
              "#d8576b"
             ],
             [
              0.6666666666666666,
              "#ed7953"
             ],
             [
              0.7777777777777778,
              "#fb9f3a"
             ],
             [
              0.8888888888888888,
              "#fdca26"
             ],
             [
              1,
              "#f0f921"
             ]
            ],
            "type": "surface"
           }
          ],
          "table": [
           {
            "cells": {
             "fill": {
              "color": "#506784"
             },
             "line": {
              "color": "rgb(17,17,17)"
             }
            },
            "header": {
             "fill": {
              "color": "#2a3f5f"
             },
             "line": {
              "color": "rgb(17,17,17)"
             }
            },
            "type": "table"
           }
          ]
         },
         "layout": {
          "annotationdefaults": {
           "arrowcolor": "#f2f5fa",
           "arrowhead": 0,
           "arrowwidth": 1
          },
          "autotypenumbers": "strict",
          "coloraxis": {
           "colorbar": {
            "outlinewidth": 0,
            "ticks": ""
           }
          },
          "colorscale": {
           "diverging": [
            [
             0,
             "#8e0152"
            ],
            [
             0.1,
             "#c51b7d"
            ],
            [
             0.2,
             "#de77ae"
            ],
            [
             0.3,
             "#f1b6da"
            ],
            [
             0.4,
             "#fde0ef"
            ],
            [
             0.5,
             "#f7f7f7"
            ],
            [
             0.6,
             "#e6f5d0"
            ],
            [
             0.7,
             "#b8e186"
            ],
            [
             0.8,
             "#7fbc41"
            ],
            [
             0.9,
             "#4d9221"
            ],
            [
             1,
             "#276419"
            ]
           ],
           "sequential": [
            [
             0,
             "#0d0887"
            ],
            [
             0.1111111111111111,
             "#46039f"
            ],
            [
             0.2222222222222222,
             "#7201a8"
            ],
            [
             0.3333333333333333,
             "#9c179e"
            ],
            [
             0.4444444444444444,
             "#bd3786"
            ],
            [
             0.5555555555555556,
             "#d8576b"
            ],
            [
             0.6666666666666666,
             "#ed7953"
            ],
            [
             0.7777777777777778,
             "#fb9f3a"
            ],
            [
             0.8888888888888888,
             "#fdca26"
            ],
            [
             1,
             "#f0f921"
            ]
           ],
           "sequentialminus": [
            [
             0,
             "#0d0887"
            ],
            [
             0.1111111111111111,
             "#46039f"
            ],
            [
             0.2222222222222222,
             "#7201a8"
            ],
            [
             0.3333333333333333,
             "#9c179e"
            ],
            [
             0.4444444444444444,
             "#bd3786"
            ],
            [
             0.5555555555555556,
             "#d8576b"
            ],
            [
             0.6666666666666666,
             "#ed7953"
            ],
            [
             0.7777777777777778,
             "#fb9f3a"
            ],
            [
             0.8888888888888888,
             "#fdca26"
            ],
            [
             1,
             "#f0f921"
            ]
           ]
          },
          "colorway": [
           "#636efa",
           "#EF553B",
           "#00cc96",
           "#ab63fa",
           "#FFA15A",
           "#19d3f3",
           "#FF6692",
           "#B6E880",
           "#FF97FF",
           "#FECB52"
          ],
          "font": {
           "color": "#f2f5fa"
          },
          "geo": {
           "bgcolor": "rgb(17,17,17)",
           "lakecolor": "rgb(17,17,17)",
           "landcolor": "rgb(17,17,17)",
           "showlakes": true,
           "showland": true,
           "subunitcolor": "#506784"
          },
          "hoverlabel": {
           "align": "left"
          },
          "hovermode": "closest",
          "mapbox": {
           "style": "dark"
          },
          "paper_bgcolor": "rgb(17,17,17)",
          "plot_bgcolor": "rgb(17,17,17)",
          "polar": {
           "angularaxis": {
            "gridcolor": "#506784",
            "linecolor": "#506784",
            "ticks": ""
           },
           "bgcolor": "rgb(17,17,17)",
           "radialaxis": {
            "gridcolor": "#506784",
            "linecolor": "#506784",
            "ticks": ""
           }
          },
          "scene": {
           "xaxis": {
            "backgroundcolor": "rgb(17,17,17)",
            "gridcolor": "#506784",
            "gridwidth": 2,
            "linecolor": "#506784",
            "showbackground": true,
            "ticks": "",
            "zerolinecolor": "#C8D4E3"
           },
           "yaxis": {
            "backgroundcolor": "rgb(17,17,17)",
            "gridcolor": "#506784",
            "gridwidth": 2,
            "linecolor": "#506784",
            "showbackground": true,
            "ticks": "",
            "zerolinecolor": "#C8D4E3"
           },
           "zaxis": {
            "backgroundcolor": "rgb(17,17,17)",
            "gridcolor": "#506784",
            "gridwidth": 2,
            "linecolor": "#506784",
            "showbackground": true,
            "ticks": "",
            "zerolinecolor": "#C8D4E3"
           }
          },
          "shapedefaults": {
           "line": {
            "color": "#f2f5fa"
           }
          },
          "sliderdefaults": {
           "bgcolor": "#C8D4E3",
           "bordercolor": "rgb(17,17,17)",
           "borderwidth": 1,
           "tickwidth": 0
          },
          "ternary": {
           "aaxis": {
            "gridcolor": "#506784",
            "linecolor": "#506784",
            "ticks": ""
           },
           "baxis": {
            "gridcolor": "#506784",
            "linecolor": "#506784",
            "ticks": ""
           },
           "bgcolor": "rgb(17,17,17)",
           "caxis": {
            "gridcolor": "#506784",
            "linecolor": "#506784",
            "ticks": ""
           }
          },
          "title": {
           "x": 0.05
          },
          "updatemenudefaults": {
           "bgcolor": "#506784",
           "borderwidth": 0
          },
          "xaxis": {
           "automargin": true,
           "gridcolor": "#283442",
           "linecolor": "#506784",
           "ticks": "",
           "title": {
            "standoff": 15
           },
           "zerolinecolor": "#283442",
           "zerolinewidth": 2
          },
          "yaxis": {
           "automargin": true,
           "gridcolor": "#283442",
           "linecolor": "#506784",
           "ticks": "",
           "title": {
            "standoff": 15
           },
           "zerolinecolor": "#283442",
           "zerolinewidth": 2
          }
         }
        },
        "title": {
         "font": {
          "size": 20
         },
         "text": "Goals Scored vs Goals Against by Team"
        },
        "width": 950,
        "xaxis": {
         "anchor": "y",
         "domain": [
          0,
          1
         ],
         "title": {
          "text": "Goals Scored (GF)"
         }
        },
        "yaxis": {
         "anchor": "x",
         "domain": [
          0,
          1
         ],
         "title": {
          "text": "Goals Against (GA)"
         }
        }
       }
      }
     },
     "metadata": {},
     "output_type": "display_data"
    }
   ],
   "source": [
    "import plotly.express as px\n",
    "fig = px.scatter(\n",
    "    df,\n",
    "    x='GF', \n",
    "    y='GA',  \n",
    "    color='Comp',  \n",
    "    hover_name='Club', \n",
    "    title='Goals Scored vs Goals Against by Team',\n",
    "    labels={'GF': 'Goals Scored', 'GA': 'Goals Against'},\n",
    "    template='plotly_dark',\n",
    "    color_discrete_sequence=px.colors.qualitative.Set1  \n",
    ")\n",
    "\n",
    "fig.update_layout(\n",
    "    height=600,\n",
    "    width=950,\n",
    "    title_font_size=20,\n",
    "    font=dict(family='Arial', size=14),\n",
    "    xaxis_title='Goals Scored (GF)',\n",
    "    yaxis_title='Goals Against (GA)',\n",
    "    margin=dict(l=60, r=40, t=80, b=60),\n",
    "    plot_bgcolor='rgb(26, 26, 26)',  \n",
    "    paper_bgcolor='rgb(26, 26, 26)',\n",
    ")\n",
    "\n",
    "fig.show()\n"
   ]
  },
  {
   "cell_type": "code",
   "execution_count": null,
   "id": "061e248f",
   "metadata": {},
   "outputs": [
    {
     "data": {
      "application/vnd.plotly.v1+json": {
       "config": {
        "plotlyServerURL": "https://plot.ly"
       },
       "data": [
        {
         "hovertemplate": "Competition=%{x}<br>Average xG=%{y}<extra></extra>",
         "legendgroup": "",
         "marker": {
          "color": "#636efa",
          "pattern": {
           "shape": ""
          }
         },
         "name": "",
         "orientation": "v",
         "showlegend": false,
         "textposition": "auto",
         "type": "bar",
         "x": [
          "Champions Lg",
          "Community Shield",
          "Conf Lg",
          "EFL Cup",
          "Europa Lg",
          "FA Community Shield",
          "FA Cup",
          "Premier League",
          "Super Cup"
         ],
         "xaxis": "x",
         "y": {
          "bdata": "xbOikYBvAEC4HoXrUbj2P6HTBjptoANA2O7Mf/NF/j/EILByaJEBQPYoXI/C9fg//8sDj7W2AED451plwxH/P4XrUbgehfs/",
          "dtype": "f8"
         },
         "yaxis": "y"
        }
       ],
       "layout": {
        "barmode": "relative",
        "font": {
         "family": "Arial",
         "size": 14
        },
        "height": 600,
        "legend": {
         "tracegroupgap": 0
        },
        "margin": {
         "b": 60,
         "l": 60,
         "r": 40,
         "t": 80
        },
        "paper_bgcolor": "rgb(26, 26, 26)",
        "plot_bgcolor": "rgb(26, 26, 26)",
        "template": {
         "data": {
          "bar": [
           {
            "error_x": {
             "color": "#f2f5fa"
            },
            "error_y": {
             "color": "#f2f5fa"
            },
            "marker": {
             "line": {
              "color": "rgb(17,17,17)",
              "width": 0.5
             },
             "pattern": {
              "fillmode": "overlay",
              "size": 10,
              "solidity": 0.2
             }
            },
            "type": "bar"
           }
          ],
          "barpolar": [
           {
            "marker": {
             "line": {
              "color": "rgb(17,17,17)",
              "width": 0.5
             },
             "pattern": {
              "fillmode": "overlay",
              "size": 10,
              "solidity": 0.2
             }
            },
            "type": "barpolar"
           }
          ],
          "carpet": [
           {
            "aaxis": {
             "endlinecolor": "#A2B1C6",
             "gridcolor": "#506784",
             "linecolor": "#506784",
             "minorgridcolor": "#506784",
             "startlinecolor": "#A2B1C6"
            },
            "baxis": {
             "endlinecolor": "#A2B1C6",
             "gridcolor": "#506784",
             "linecolor": "#506784",
             "minorgridcolor": "#506784",
             "startlinecolor": "#A2B1C6"
            },
            "type": "carpet"
           }
          ],
          "choropleth": [
           {
            "colorbar": {
             "outlinewidth": 0,
             "ticks": ""
            },
            "type": "choropleth"
           }
          ],
          "contour": [
           {
            "colorbar": {
             "outlinewidth": 0,
             "ticks": ""
            },
            "colorscale": [
             [
              0,
              "#0d0887"
             ],
             [
              0.1111111111111111,
              "#46039f"
             ],
             [
              0.2222222222222222,
              "#7201a8"
             ],
             [
              0.3333333333333333,
              "#9c179e"
             ],
             [
              0.4444444444444444,
              "#bd3786"
             ],
             [
              0.5555555555555556,
              "#d8576b"
             ],
             [
              0.6666666666666666,
              "#ed7953"
             ],
             [
              0.7777777777777778,
              "#fb9f3a"
             ],
             [
              0.8888888888888888,
              "#fdca26"
             ],
             [
              1,
              "#f0f921"
             ]
            ],
            "type": "contour"
           }
          ],
          "contourcarpet": [
           {
            "colorbar": {
             "outlinewidth": 0,
             "ticks": ""
            },
            "type": "contourcarpet"
           }
          ],
          "heatmap": [
           {
            "colorbar": {
             "outlinewidth": 0,
             "ticks": ""
            },
            "colorscale": [
             [
              0,
              "#0d0887"
             ],
             [
              0.1111111111111111,
              "#46039f"
             ],
             [
              0.2222222222222222,
              "#7201a8"
             ],
             [
              0.3333333333333333,
              "#9c179e"
             ],
             [
              0.4444444444444444,
              "#bd3786"
             ],
             [
              0.5555555555555556,
              "#d8576b"
             ],
             [
              0.6666666666666666,
              "#ed7953"
             ],
             [
              0.7777777777777778,
              "#fb9f3a"
             ],
             [
              0.8888888888888888,
              "#fdca26"
             ],
             [
              1,
              "#f0f921"
             ]
            ],
            "type": "heatmap"
           }
          ],
          "histogram": [
           {
            "marker": {
             "pattern": {
              "fillmode": "overlay",
              "size": 10,
              "solidity": 0.2
             }
            },
            "type": "histogram"
           }
          ],
          "histogram2d": [
           {
            "colorbar": {
             "outlinewidth": 0,
             "ticks": ""
            },
            "colorscale": [
             [
              0,
              "#0d0887"
             ],
             [
              0.1111111111111111,
              "#46039f"
             ],
             [
              0.2222222222222222,
              "#7201a8"
             ],
             [
              0.3333333333333333,
              "#9c179e"
             ],
             [
              0.4444444444444444,
              "#bd3786"
             ],
             [
              0.5555555555555556,
              "#d8576b"
             ],
             [
              0.6666666666666666,
              "#ed7953"
             ],
             [
              0.7777777777777778,
              "#fb9f3a"
             ],
             [
              0.8888888888888888,
              "#fdca26"
             ],
             [
              1,
              "#f0f921"
             ]
            ],
            "type": "histogram2d"
           }
          ],
          "histogram2dcontour": [
           {
            "colorbar": {
             "outlinewidth": 0,
             "ticks": ""
            },
            "colorscale": [
             [
              0,
              "#0d0887"
             ],
             [
              0.1111111111111111,
              "#46039f"
             ],
             [
              0.2222222222222222,
              "#7201a8"
             ],
             [
              0.3333333333333333,
              "#9c179e"
             ],
             [
              0.4444444444444444,
              "#bd3786"
             ],
             [
              0.5555555555555556,
              "#d8576b"
             ],
             [
              0.6666666666666666,
              "#ed7953"
             ],
             [
              0.7777777777777778,
              "#fb9f3a"
             ],
             [
              0.8888888888888888,
              "#fdca26"
             ],
             [
              1,
              "#f0f921"
             ]
            ],
            "type": "histogram2dcontour"
           }
          ],
          "mesh3d": [
           {
            "colorbar": {
             "outlinewidth": 0,
             "ticks": ""
            },
            "type": "mesh3d"
           }
          ],
          "parcoords": [
           {
            "line": {
             "colorbar": {
              "outlinewidth": 0,
              "ticks": ""
             }
            },
            "type": "parcoords"
           }
          ],
          "pie": [
           {
            "automargin": true,
            "type": "pie"
           }
          ],
          "scatter": [
           {
            "marker": {
             "line": {
              "color": "#283442"
             }
            },
            "type": "scatter"
           }
          ],
          "scatter3d": [
           {
            "line": {
             "colorbar": {
              "outlinewidth": 0,
              "ticks": ""
             }
            },
            "marker": {
             "colorbar": {
              "outlinewidth": 0,
              "ticks": ""
             }
            },
            "type": "scatter3d"
           }
          ],
          "scattercarpet": [
           {
            "marker": {
             "colorbar": {
              "outlinewidth": 0,
              "ticks": ""
             }
            },
            "type": "scattercarpet"
           }
          ],
          "scattergeo": [
           {
            "marker": {
             "colorbar": {
              "outlinewidth": 0,
              "ticks": ""
             }
            },
            "type": "scattergeo"
           }
          ],
          "scattergl": [
           {
            "marker": {
             "line": {
              "color": "#283442"
             }
            },
            "type": "scattergl"
           }
          ],
          "scattermap": [
           {
            "marker": {
             "colorbar": {
              "outlinewidth": 0,
              "ticks": ""
             }
            },
            "type": "scattermap"
           }
          ],
          "scattermapbox": [
           {
            "marker": {
             "colorbar": {
              "outlinewidth": 0,
              "ticks": ""
             }
            },
            "type": "scattermapbox"
           }
          ],
          "scatterpolar": [
           {
            "marker": {
             "colorbar": {
              "outlinewidth": 0,
              "ticks": ""
             }
            },
            "type": "scatterpolar"
           }
          ],
          "scatterpolargl": [
           {
            "marker": {
             "colorbar": {
              "outlinewidth": 0,
              "ticks": ""
             }
            },
            "type": "scatterpolargl"
           }
          ],
          "scatterternary": [
           {
            "marker": {
             "colorbar": {
              "outlinewidth": 0,
              "ticks": ""
             }
            },
            "type": "scatterternary"
           }
          ],
          "surface": [
           {
            "colorbar": {
             "outlinewidth": 0,
             "ticks": ""
            },
            "colorscale": [
             [
              0,
              "#0d0887"
             ],
             [
              0.1111111111111111,
              "#46039f"
             ],
             [
              0.2222222222222222,
              "#7201a8"
             ],
             [
              0.3333333333333333,
              "#9c179e"
             ],
             [
              0.4444444444444444,
              "#bd3786"
             ],
             [
              0.5555555555555556,
              "#d8576b"
             ],
             [
              0.6666666666666666,
              "#ed7953"
             ],
             [
              0.7777777777777778,
              "#fb9f3a"
             ],
             [
              0.8888888888888888,
              "#fdca26"
             ],
             [
              1,
              "#f0f921"
             ]
            ],
            "type": "surface"
           }
          ],
          "table": [
           {
            "cells": {
             "fill": {
              "color": "#506784"
             },
             "line": {
              "color": "rgb(17,17,17)"
             }
            },
            "header": {
             "fill": {
              "color": "#2a3f5f"
             },
             "line": {
              "color": "rgb(17,17,17)"
             }
            },
            "type": "table"
           }
          ]
         },
         "layout": {
          "annotationdefaults": {
           "arrowcolor": "#f2f5fa",
           "arrowhead": 0,
           "arrowwidth": 1
          },
          "autotypenumbers": "strict",
          "coloraxis": {
           "colorbar": {
            "outlinewidth": 0,
            "ticks": ""
           }
          },
          "colorscale": {
           "diverging": [
            [
             0,
             "#8e0152"
            ],
            [
             0.1,
             "#c51b7d"
            ],
            [
             0.2,
             "#de77ae"
            ],
            [
             0.3,
             "#f1b6da"
            ],
            [
             0.4,
             "#fde0ef"
            ],
            [
             0.5,
             "#f7f7f7"
            ],
            [
             0.6,
             "#e6f5d0"
            ],
            [
             0.7,
             "#b8e186"
            ],
            [
             0.8,
             "#7fbc41"
            ],
            [
             0.9,
             "#4d9221"
            ],
            [
             1,
             "#276419"
            ]
           ],
           "sequential": [
            [
             0,
             "#0d0887"
            ],
            [
             0.1111111111111111,
             "#46039f"
            ],
            [
             0.2222222222222222,
             "#7201a8"
            ],
            [
             0.3333333333333333,
             "#9c179e"
            ],
            [
             0.4444444444444444,
             "#bd3786"
            ],
            [
             0.5555555555555556,
             "#d8576b"
            ],
            [
             0.6666666666666666,
             "#ed7953"
            ],
            [
             0.7777777777777778,
             "#fb9f3a"
            ],
            [
             0.8888888888888888,
             "#fdca26"
            ],
            [
             1,
             "#f0f921"
            ]
           ],
           "sequentialminus": [
            [
             0,
             "#0d0887"
            ],
            [
             0.1111111111111111,
             "#46039f"
            ],
            [
             0.2222222222222222,
             "#7201a8"
            ],
            [
             0.3333333333333333,
             "#9c179e"
            ],
            [
             0.4444444444444444,
             "#bd3786"
            ],
            [
             0.5555555555555556,
             "#d8576b"
            ],
            [
             0.6666666666666666,
             "#ed7953"
            ],
            [
             0.7777777777777778,
             "#fb9f3a"
            ],
            [
             0.8888888888888888,
             "#fdca26"
            ],
            [
             1,
             "#f0f921"
            ]
           ]
          },
          "colorway": [
           "#636efa",
           "#EF553B",
           "#00cc96",
           "#ab63fa",
           "#FFA15A",
           "#19d3f3",
           "#FF6692",
           "#B6E880",
           "#FF97FF",
           "#FECB52"
          ],
          "font": {
           "color": "#f2f5fa"
          },
          "geo": {
           "bgcolor": "rgb(17,17,17)",
           "lakecolor": "rgb(17,17,17)",
           "landcolor": "rgb(17,17,17)",
           "showlakes": true,
           "showland": true,
           "subunitcolor": "#506784"
          },
          "hoverlabel": {
           "align": "left"
          },
          "hovermode": "closest",
          "mapbox": {
           "style": "dark"
          },
          "paper_bgcolor": "rgb(17,17,17)",
          "plot_bgcolor": "rgb(17,17,17)",
          "polar": {
           "angularaxis": {
            "gridcolor": "#506784",
            "linecolor": "#506784",
            "ticks": ""
           },
           "bgcolor": "rgb(17,17,17)",
           "radialaxis": {
            "gridcolor": "#506784",
            "linecolor": "#506784",
            "ticks": ""
           }
          },
          "scene": {
           "xaxis": {
            "backgroundcolor": "rgb(17,17,17)",
            "gridcolor": "#506784",
            "gridwidth": 2,
            "linecolor": "#506784",
            "showbackground": true,
            "ticks": "",
            "zerolinecolor": "#C8D4E3"
           },
           "yaxis": {
            "backgroundcolor": "rgb(17,17,17)",
            "gridcolor": "#506784",
            "gridwidth": 2,
            "linecolor": "#506784",
            "showbackground": true,
            "ticks": "",
            "zerolinecolor": "#C8D4E3"
           },
           "zaxis": {
            "backgroundcolor": "rgb(17,17,17)",
            "gridcolor": "#506784",
            "gridwidth": 2,
            "linecolor": "#506784",
            "showbackground": true,
            "ticks": "",
            "zerolinecolor": "#C8D4E3"
           }
          },
          "shapedefaults": {
           "line": {
            "color": "#f2f5fa"
           }
          },
          "sliderdefaults": {
           "bgcolor": "#C8D4E3",
           "bordercolor": "rgb(17,17,17)",
           "borderwidth": 1,
           "tickwidth": 0
          },
          "ternary": {
           "aaxis": {
            "gridcolor": "#506784",
            "linecolor": "#506784",
            "ticks": ""
           },
           "baxis": {
            "gridcolor": "#506784",
            "linecolor": "#506784",
            "ticks": ""
           },
           "bgcolor": "rgb(17,17,17)",
           "caxis": {
            "gridcolor": "#506784",
            "linecolor": "#506784",
            "ticks": ""
           }
          },
          "title": {
           "x": 0.05
          },
          "updatemenudefaults": {
           "bgcolor": "#506784",
           "borderwidth": 0
          },
          "xaxis": {
           "automargin": true,
           "gridcolor": "#283442",
           "linecolor": "#506784",
           "ticks": "",
           "title": {
            "standoff": 15
           },
           "zerolinecolor": "#283442",
           "zerolinewidth": 2
          },
          "yaxis": {
           "automargin": true,
           "gridcolor": "#283442",
           "linecolor": "#506784",
           "ticks": "",
           "title": {
            "standoff": 15
           },
           "zerolinecolor": "#283442",
           "zerolinewidth": 2
          }
         }
        },
        "title": {
         "font": {
          "size": 20
         },
         "text": "Average xG by Competition"
        },
        "width": 950,
        "xaxis": {
         "anchor": "y",
         "domain": [
          0,
          1
         ],
         "title": {
          "text": "Competition"
         }
        },
        "yaxis": {
         "anchor": "x",
         "domain": [
          0,
          1
         ],
         "title": {
          "text": "Average xG"
         }
        }
       }
      }
     },
     "metadata": {},
     "output_type": "display_data"
    }
   ],
   "source": [
    "import plotly.express as px\n",
    "xg_avg = df.groupby('Comp')['xG'].mean().reset_index()\n",
    "\n",
    "fig = px.bar(\n",
    "    xg_avg,\n",
    "    x='Comp',  \n",
    "    y='xG',  \n",
    "    title='Average xG by Competition',\n",
    "    labels={'xG': 'Average xG', 'Comp': 'Competition'},\n",
    "    template='plotly_dark',\n",
    ")\n",
    "fig.update_layout(\n",
    "    height=600,\n",
    "    width=950,\n",
    "    title_font_size=20,\n",
    "    font=dict(family='Arial', size=14),\n",
    "    xaxis_title='Competition',\n",
    "    yaxis_title='Average xG',\n",
    "    margin=dict(l=60, r=40, t=80, b=60),\n",
    "    plot_bgcolor='rgb(26, 26, 26)', \n",
    "    paper_bgcolor='rgb(26, 26, 26)',\n",
    ")\n",
    "\n",
    "fig.show()\n"
   ]
  },
  {
   "cell_type": "code",
   "execution_count": null,
   "id": "0cd5c5d3",
   "metadata": {},
   "outputs": [
    {
     "data": {
      "application/vnd.plotly.v1+json": {
       "config": {
        "plotlyServerURL": "https://plot.ly"
       },
       "data": [
        {
         "alignmentgroup": "True",
         "hovertemplate": "Result=D<br>Referee=%{x}<br>Percentage (%)=%{y}<extra></extra>",
         "legendgroup": "D",
         "marker": {
          "color": "gray",
          "pattern": {
           "shape": ""
          }
         },
         "name": "D",
         "offsetgroup": "D",
         "orientation": "v",
         "showlegend": true,
         "textposition": "auto",
         "type": "bar",
         "x": [
          "Anthony Taylor",
          "Chris Kavanagh",
          "Craig Pawson",
          "Michael Oliver",
          "Paul Tierney"
         ],
         "xaxis": "x",
         "y": {
          "bdata": "LS0tLS0tQEBFF1100UUrQAAAAAAAAClARRdddNFFO0Dbtm3btm01QA==",
          "dtype": "f8"
         },
         "yaxis": "y"
        },
        {
         "alignmentgroup": "True",
         "hovertemplate": "Result=L<br>Referee=%{x}<br>Percentage (%)=%{y}<extra></extra>",
         "legendgroup": "L",
         "marker": {
          "color": "red",
          "pattern": {
           "shape": ""
          }
         },
         "name": "L",
         "offsetgroup": "L",
         "orientation": "v",
         "showlegend": true,
         "textposition": "auto",
         "type": "bar",
         "x": [
          "Anthony Taylor",
          "Chris Kavanagh",
          "Craig Pawson",
          "Michael Oliver",
          "Paul Tierney"
         ],
         "xaxis": "x",
         "y": {
          "bdata": "h4eHh4eHJ0Avuuiiiy4yQKqqqqqqqiBANtlkk002NUAkSZIkSZIsQA==",
          "dtype": "f8"
         },
         "yaxis": "y"
        },
        {
         "alignmentgroup": "True",
         "hovertemplate": "Result=W<br>Referee=%{x}<br>Percentage (%)=%{y}<extra></extra>",
         "legendgroup": "W",
         "marker": {
          "color": "green",
          "pattern": {
           "shape": ""
          }
         },
         "name": "W",
         "offsetgroup": "W",
         "orientation": "v",
         "showlegend": true,
         "textposition": "auto",
         "type": "bar",
         "x": [
          "Anthony Taylor",
          "Chris Kavanagh",
          "Craig Pawson",
          "Michael Oliver",
          "Paul Tierney"
         ],
         "xaxis": "x",
         "y": {
          "bdata": "8fDw8PDwS0CLLrroogtRQKqqqqqqylNAwgcffPDBSUAlSZIkSRJQQA==",
          "dtype": "f8"
         },
         "yaxis": "y"
        }
       ],
       "layout": {
        "barmode": "group",
        "font": {
         "family": "Arial",
         "size": 14
        },
        "height": 600,
        "legend": {
         "title": {
          "text": "Result"
         },
         "tracegroupgap": 0
        },
        "margin": {
         "b": 60,
         "l": 60,
         "r": 40,
         "t": 80
        },
        "paper_bgcolor": "rgb(26, 26, 26)",
        "plot_bgcolor": "rgb(26, 26, 26)",
        "template": {
         "data": {
          "bar": [
           {
            "error_x": {
             "color": "#f2f5fa"
            },
            "error_y": {
             "color": "#f2f5fa"
            },
            "marker": {
             "line": {
              "color": "rgb(17,17,17)",
              "width": 0.5
             },
             "pattern": {
              "fillmode": "overlay",
              "size": 10,
              "solidity": 0.2
             }
            },
            "type": "bar"
           }
          ],
          "barpolar": [
           {
            "marker": {
             "line": {
              "color": "rgb(17,17,17)",
              "width": 0.5
             },
             "pattern": {
              "fillmode": "overlay",
              "size": 10,
              "solidity": 0.2
             }
            },
            "type": "barpolar"
           }
          ],
          "carpet": [
           {
            "aaxis": {
             "endlinecolor": "#A2B1C6",
             "gridcolor": "#506784",
             "linecolor": "#506784",
             "minorgridcolor": "#506784",
             "startlinecolor": "#A2B1C6"
            },
            "baxis": {
             "endlinecolor": "#A2B1C6",
             "gridcolor": "#506784",
             "linecolor": "#506784",
             "minorgridcolor": "#506784",
             "startlinecolor": "#A2B1C6"
            },
            "type": "carpet"
           }
          ],
          "choropleth": [
           {
            "colorbar": {
             "outlinewidth": 0,
             "ticks": ""
            },
            "type": "choropleth"
           }
          ],
          "contour": [
           {
            "colorbar": {
             "outlinewidth": 0,
             "ticks": ""
            },
            "colorscale": [
             [
              0,
              "#0d0887"
             ],
             [
              0.1111111111111111,
              "#46039f"
             ],
             [
              0.2222222222222222,
              "#7201a8"
             ],
             [
              0.3333333333333333,
              "#9c179e"
             ],
             [
              0.4444444444444444,
              "#bd3786"
             ],
             [
              0.5555555555555556,
              "#d8576b"
             ],
             [
              0.6666666666666666,
              "#ed7953"
             ],
             [
              0.7777777777777778,
              "#fb9f3a"
             ],
             [
              0.8888888888888888,
              "#fdca26"
             ],
             [
              1,
              "#f0f921"
             ]
            ],
            "type": "contour"
           }
          ],
          "contourcarpet": [
           {
            "colorbar": {
             "outlinewidth": 0,
             "ticks": ""
            },
            "type": "contourcarpet"
           }
          ],
          "heatmap": [
           {
            "colorbar": {
             "outlinewidth": 0,
             "ticks": ""
            },
            "colorscale": [
             [
              0,
              "#0d0887"
             ],
             [
              0.1111111111111111,
              "#46039f"
             ],
             [
              0.2222222222222222,
              "#7201a8"
             ],
             [
              0.3333333333333333,
              "#9c179e"
             ],
             [
              0.4444444444444444,
              "#bd3786"
             ],
             [
              0.5555555555555556,
              "#d8576b"
             ],
             [
              0.6666666666666666,
              "#ed7953"
             ],
             [
              0.7777777777777778,
              "#fb9f3a"
             ],
             [
              0.8888888888888888,
              "#fdca26"
             ],
             [
              1,
              "#f0f921"
             ]
            ],
            "type": "heatmap"
           }
          ],
          "histogram": [
           {
            "marker": {
             "pattern": {
              "fillmode": "overlay",
              "size": 10,
              "solidity": 0.2
             }
            },
            "type": "histogram"
           }
          ],
          "histogram2d": [
           {
            "colorbar": {
             "outlinewidth": 0,
             "ticks": ""
            },
            "colorscale": [
             [
              0,
              "#0d0887"
             ],
             [
              0.1111111111111111,
              "#46039f"
             ],
             [
              0.2222222222222222,
              "#7201a8"
             ],
             [
              0.3333333333333333,
              "#9c179e"
             ],
             [
              0.4444444444444444,
              "#bd3786"
             ],
             [
              0.5555555555555556,
              "#d8576b"
             ],
             [
              0.6666666666666666,
              "#ed7953"
             ],
             [
              0.7777777777777778,
              "#fb9f3a"
             ],
             [
              0.8888888888888888,
              "#fdca26"
             ],
             [
              1,
              "#f0f921"
             ]
            ],
            "type": "histogram2d"
           }
          ],
          "histogram2dcontour": [
           {
            "colorbar": {
             "outlinewidth": 0,
             "ticks": ""
            },
            "colorscale": [
             [
              0,
              "#0d0887"
             ],
             [
              0.1111111111111111,
              "#46039f"
             ],
             [
              0.2222222222222222,
              "#7201a8"
             ],
             [
              0.3333333333333333,
              "#9c179e"
             ],
             [
              0.4444444444444444,
              "#bd3786"
             ],
             [
              0.5555555555555556,
              "#d8576b"
             ],
             [
              0.6666666666666666,
              "#ed7953"
             ],
             [
              0.7777777777777778,
              "#fb9f3a"
             ],
             [
              0.8888888888888888,
              "#fdca26"
             ],
             [
              1,
              "#f0f921"
             ]
            ],
            "type": "histogram2dcontour"
           }
          ],
          "mesh3d": [
           {
            "colorbar": {
             "outlinewidth": 0,
             "ticks": ""
            },
            "type": "mesh3d"
           }
          ],
          "parcoords": [
           {
            "line": {
             "colorbar": {
              "outlinewidth": 0,
              "ticks": ""
             }
            },
            "type": "parcoords"
           }
          ],
          "pie": [
           {
            "automargin": true,
            "type": "pie"
           }
          ],
          "scatter": [
           {
            "marker": {
             "line": {
              "color": "#283442"
             }
            },
            "type": "scatter"
           }
          ],
          "scatter3d": [
           {
            "line": {
             "colorbar": {
              "outlinewidth": 0,
              "ticks": ""
             }
            },
            "marker": {
             "colorbar": {
              "outlinewidth": 0,
              "ticks": ""
             }
            },
            "type": "scatter3d"
           }
          ],
          "scattercarpet": [
           {
            "marker": {
             "colorbar": {
              "outlinewidth": 0,
              "ticks": ""
             }
            },
            "type": "scattercarpet"
           }
          ],
          "scattergeo": [
           {
            "marker": {
             "colorbar": {
              "outlinewidth": 0,
              "ticks": ""
             }
            },
            "type": "scattergeo"
           }
          ],
          "scattergl": [
           {
            "marker": {
             "line": {
              "color": "#283442"
             }
            },
            "type": "scattergl"
           }
          ],
          "scattermap": [
           {
            "marker": {
             "colorbar": {
              "outlinewidth": 0,
              "ticks": ""
             }
            },
            "type": "scattermap"
           }
          ],
          "scattermapbox": [
           {
            "marker": {
             "colorbar": {
              "outlinewidth": 0,
              "ticks": ""
             }
            },
            "type": "scattermapbox"
           }
          ],
          "scatterpolar": [
           {
            "marker": {
             "colorbar": {
              "outlinewidth": 0,
              "ticks": ""
             }
            },
            "type": "scatterpolar"
           }
          ],
          "scatterpolargl": [
           {
            "marker": {
             "colorbar": {
              "outlinewidth": 0,
              "ticks": ""
             }
            },
            "type": "scatterpolargl"
           }
          ],
          "scatterternary": [
           {
            "marker": {
             "colorbar": {
              "outlinewidth": 0,
              "ticks": ""
             }
            },
            "type": "scatterternary"
           }
          ],
          "surface": [
           {
            "colorbar": {
             "outlinewidth": 0,
             "ticks": ""
            },
            "colorscale": [
             [
              0,
              "#0d0887"
             ],
             [
              0.1111111111111111,
              "#46039f"
             ],
             [
              0.2222222222222222,
              "#7201a8"
             ],
             [
              0.3333333333333333,
              "#9c179e"
             ],
             [
              0.4444444444444444,
              "#bd3786"
             ],
             [
              0.5555555555555556,
              "#d8576b"
             ],
             [
              0.6666666666666666,
              "#ed7953"
             ],
             [
              0.7777777777777778,
              "#fb9f3a"
             ],
             [
              0.8888888888888888,
              "#fdca26"
             ],
             [
              1,
              "#f0f921"
             ]
            ],
            "type": "surface"
           }
          ],
          "table": [
           {
            "cells": {
             "fill": {
              "color": "#506784"
             },
             "line": {
              "color": "rgb(17,17,17)"
             }
            },
            "header": {
             "fill": {
              "color": "#2a3f5f"
             },
             "line": {
              "color": "rgb(17,17,17)"
             }
            },
            "type": "table"
           }
          ]
         },
         "layout": {
          "annotationdefaults": {
           "arrowcolor": "#f2f5fa",
           "arrowhead": 0,
           "arrowwidth": 1
          },
          "autotypenumbers": "strict",
          "coloraxis": {
           "colorbar": {
            "outlinewidth": 0,
            "ticks": ""
           }
          },
          "colorscale": {
           "diverging": [
            [
             0,
             "#8e0152"
            ],
            [
             0.1,
             "#c51b7d"
            ],
            [
             0.2,
             "#de77ae"
            ],
            [
             0.3,
             "#f1b6da"
            ],
            [
             0.4,
             "#fde0ef"
            ],
            [
             0.5,
             "#f7f7f7"
            ],
            [
             0.6,
             "#e6f5d0"
            ],
            [
             0.7,
             "#b8e186"
            ],
            [
             0.8,
             "#7fbc41"
            ],
            [
             0.9,
             "#4d9221"
            ],
            [
             1,
             "#276419"
            ]
           ],
           "sequential": [
            [
             0,
             "#0d0887"
            ],
            [
             0.1111111111111111,
             "#46039f"
            ],
            [
             0.2222222222222222,
             "#7201a8"
            ],
            [
             0.3333333333333333,
             "#9c179e"
            ],
            [
             0.4444444444444444,
             "#bd3786"
            ],
            [
             0.5555555555555556,
             "#d8576b"
            ],
            [
             0.6666666666666666,
             "#ed7953"
            ],
            [
             0.7777777777777778,
             "#fb9f3a"
            ],
            [
             0.8888888888888888,
             "#fdca26"
            ],
            [
             1,
             "#f0f921"
            ]
           ],
           "sequentialminus": [
            [
             0,
             "#0d0887"
            ],
            [
             0.1111111111111111,
             "#46039f"
            ],
            [
             0.2222222222222222,
             "#7201a8"
            ],
            [
             0.3333333333333333,
             "#9c179e"
            ],
            [
             0.4444444444444444,
             "#bd3786"
            ],
            [
             0.5555555555555556,
             "#d8576b"
            ],
            [
             0.6666666666666666,
             "#ed7953"
            ],
            [
             0.7777777777777778,
             "#fb9f3a"
            ],
            [
             0.8888888888888888,
             "#fdca26"
            ],
            [
             1,
             "#f0f921"
            ]
           ]
          },
          "colorway": [
           "#636efa",
           "#EF553B",
           "#00cc96",
           "#ab63fa",
           "#FFA15A",
           "#19d3f3",
           "#FF6692",
           "#B6E880",
           "#FF97FF",
           "#FECB52"
          ],
          "font": {
           "color": "#f2f5fa"
          },
          "geo": {
           "bgcolor": "rgb(17,17,17)",
           "lakecolor": "rgb(17,17,17)",
           "landcolor": "rgb(17,17,17)",
           "showlakes": true,
           "showland": true,
           "subunitcolor": "#506784"
          },
          "hoverlabel": {
           "align": "left"
          },
          "hovermode": "closest",
          "mapbox": {
           "style": "dark"
          },
          "paper_bgcolor": "rgb(17,17,17)",
          "plot_bgcolor": "rgb(17,17,17)",
          "polar": {
           "angularaxis": {
            "gridcolor": "#506784",
            "linecolor": "#506784",
            "ticks": ""
           },
           "bgcolor": "rgb(17,17,17)",
           "radialaxis": {
            "gridcolor": "#506784",
            "linecolor": "#506784",
            "ticks": ""
           }
          },
          "scene": {
           "xaxis": {
            "backgroundcolor": "rgb(17,17,17)",
            "gridcolor": "#506784",
            "gridwidth": 2,
            "linecolor": "#506784",
            "showbackground": true,
            "ticks": "",
            "zerolinecolor": "#C8D4E3"
           },
           "yaxis": {
            "backgroundcolor": "rgb(17,17,17)",
            "gridcolor": "#506784",
            "gridwidth": 2,
            "linecolor": "#506784",
            "showbackground": true,
            "ticks": "",
            "zerolinecolor": "#C8D4E3"
           },
           "zaxis": {
            "backgroundcolor": "rgb(17,17,17)",
            "gridcolor": "#506784",
            "gridwidth": 2,
            "linecolor": "#506784",
            "showbackground": true,
            "ticks": "",
            "zerolinecolor": "#C8D4E3"
           }
          },
          "shapedefaults": {
           "line": {
            "color": "#f2f5fa"
           }
          },
          "sliderdefaults": {
           "bgcolor": "#C8D4E3",
           "bordercolor": "rgb(17,17,17)",
           "borderwidth": 1,
           "tickwidth": 0
          },
          "ternary": {
           "aaxis": {
            "gridcolor": "#506784",
            "linecolor": "#506784",
            "ticks": ""
           },
           "baxis": {
            "gridcolor": "#506784",
            "linecolor": "#506784",
            "ticks": ""
           },
           "bgcolor": "rgb(17,17,17)",
           "caxis": {
            "gridcolor": "#506784",
            "linecolor": "#506784",
            "ticks": ""
           }
          },
          "title": {
           "x": 0.05
          },
          "updatemenudefaults": {
           "bgcolor": "#506784",
           "borderwidth": 0
          },
          "xaxis": {
           "automargin": true,
           "gridcolor": "#283442",
           "linecolor": "#506784",
           "ticks": "",
           "title": {
            "standoff": 15
           },
           "zerolinecolor": "#283442",
           "zerolinewidth": 2
          },
          "yaxis": {
           "automargin": true,
           "gridcolor": "#283442",
           "linecolor": "#506784",
           "ticks": "",
           "title": {
            "standoff": 15
           },
           "zerolinecolor": "#283442",
           "zerolinewidth": 2
          }
         }
        },
        "title": {
         "font": {
          "size": 22
         },
         "text": "Liverpool Match Results (%) with Top Referees"
        },
        "width": 1100,
        "xaxis": {
         "anchor": "y",
         "domain": [
          0,
          1
         ],
         "tickangle": -45,
         "title": {
          "text": "Referee"
         }
        },
        "yaxis": {
         "anchor": "x",
         "domain": [
          0,
          1
         ],
         "title": {
          "text": "Percentage (%)"
         }
        }
       }
      }
     },
     "metadata": {},
     "output_type": "display_data"
    }
   ],
   "source": [
    "import pandas as pd\n",
    "import plotly.express as px\n",
    "\n",
    "liverpool_df = df[df['Club'] == 'Liverpool'].copy()\n",
    "referee_result_counts = liverpool_df.groupby(['Referee', 'Result']).size().reset_index(name='Count')\n",
    "\n",
    "top_referees = referee_result_counts.groupby('Referee')['Count'].sum().sort_values(ascending=False).head(5).index\n",
    "referee_result_counts = referee_result_counts[referee_result_counts['Referee'].isin(top_referees)]\n",
    "\n",
    "total_matches_by_referee = referee_result_counts.groupby('Referee')['Count'].transform('sum')\n",
    "referee_result_counts['Percentage'] = (referee_result_counts['Count'] / total_matches_by_referee) * 100\n",
    "\n",
    "fig = px.bar(\n",
    "    referee_result_counts,\n",
    "    x='Referee',\n",
    "    y='Percentage',\n",
    "    color='Result',\n",
    "    barmode='group',\n",
    "    title='Liverpool Match Results (%) with Top Referees',\n",
    "    labels={'Percentage': 'Percentage (%)', 'Referee': 'Referee', 'Result': 'Result'},\n",
    "    template='plotly_dark',\n",
    "    color_discrete_map={'W': 'green', 'D': 'gray', 'L': 'red'}\n",
    ")\n",
    "\n",
    "fig.update_layout(\n",
    "    height=600,\n",
    "    width=1100,\n",
    "    title_font_size=22,\n",
    "    font=dict(family='Arial', size=14),\n",
    "    xaxis_title='Referee',\n",
    "    yaxis_title='Percentage (%)',\n",
    "    xaxis_tickangle=-45,\n",
    "    margin=dict(l=60, r=40, t=80, b=60),\n",
    "    plot_bgcolor='rgb(26, 26, 26)',\n",
    "    paper_bgcolor='rgb(26, 26, 26)',\n",
    ")\n",
    "\n",
    "fig.show()\n"
   ]
  },
  {
   "cell_type": "code",
   "execution_count": null,
   "id": "17d8e9ec",
   "metadata": {},
   "outputs": [
    {
     "data": {
      "application/vnd.plotly.v1+json": {
       "config": {
        "plotlyServerURL": "https://plot.ly"
       },
       "data": [
        {
         "alignmentgroup": "True",
         "hovertemplate": "Result=L<br>Referee=%{x}<br>Percentage (%)=%{y}<extra></extra>",
         "legendgroup": "L",
         "marker": {
          "color": "red",
          "pattern": {
           "shape": ""
          }
         },
         "name": "L",
         "offsetgroup": "L",
         "orientation": "v",
         "showlegend": true,
         "textposition": "auto",
         "type": "bar",
         "x": [
          "Andre Marriner",
          "Anthony Taylor",
          "Jonathan Moss",
          "Michael Oliver",
          "Paul Tierney"
         ],
         "xaxis": "x",
         "y": {
          "bdata": "11BeQ3kNNUAaYbmnEZY7QIeHh4eHhxdASZIkSZIkMUCqqqqqqqogQA==",
          "dtype": "f8"
         },
         "yaxis": "y"
        },
        {
         "alignmentgroup": "True",
         "hovertemplate": "Result=W<br>Referee=%{x}<br>Percentage (%)=%{y}<extra></extra>",
         "legendgroup": "W",
         "marker": {
          "color": "green",
          "pattern": {
           "shape": ""
          }
         },
         "name": "W",
         "offsetgroup": "W",
         "orientation": "v",
         "showlegend": true,
         "textposition": "auto",
         "type": "bar",
         "x": [
          "Andre Marriner",
          "Anthony Taylor",
          "Jonathan Moss",
          "Michael Oliver",
          "Paul Tierney"
         ],
         "xaxis": "x",
         "y": {
          "bdata": "ymsor6G8U0AJyz2NsNxJQB4eHh4eHlNAJUmSJEmSUkBWVVVVVdVUQA==",
          "dtype": "f8"
         },
         "yaxis": "y"
        },
        {
         "alignmentgroup": "True",
         "hovertemplate": "Result=D<br>Referee=%{x}<br>Percentage (%)=%{y}<extra></extra>",
         "legendgroup": "D",
         "marker": {
          "color": "gray",
          "pattern": {
           "shape": ""
          }
         },
         "name": "D",
         "offsetgroup": "D",
         "orientation": "v",
         "showlegend": true,
         "textposition": "auto",
         "type": "bar",
         "x": [
          "Anthony Taylor",
          "Jonathan Moss",
          "Michael Oliver",
          "Paul Tierney"
         ],
         "xaxis": "x",
         "y": {
          "bdata": "1AjLPY2wNECmpaWlpaUxQEmSJEmSJCFAqqqqqqqqIEA=",
          "dtype": "f8"
         },
         "yaxis": "y"
        }
       ],
       "layout": {
        "barmode": "group",
        "font": {
         "family": "Arial",
         "size": 14
        },
        "height": 600,
        "legend": {
         "title": {
          "text": "Result"
         },
         "tracegroupgap": 0
        },
        "margin": {
         "b": 60,
         "l": 60,
         "r": 40,
         "t": 80
        },
        "paper_bgcolor": "rgb(26, 26, 26)",
        "plot_bgcolor": "rgb(26, 26, 26)",
        "template": {
         "data": {
          "bar": [
           {
            "error_x": {
             "color": "#f2f5fa"
            },
            "error_y": {
             "color": "#f2f5fa"
            },
            "marker": {
             "line": {
              "color": "rgb(17,17,17)",
              "width": 0.5
             },
             "pattern": {
              "fillmode": "overlay",
              "size": 10,
              "solidity": 0.2
             }
            },
            "type": "bar"
           }
          ],
          "barpolar": [
           {
            "marker": {
             "line": {
              "color": "rgb(17,17,17)",
              "width": 0.5
             },
             "pattern": {
              "fillmode": "overlay",
              "size": 10,
              "solidity": 0.2
             }
            },
            "type": "barpolar"
           }
          ],
          "carpet": [
           {
            "aaxis": {
             "endlinecolor": "#A2B1C6",
             "gridcolor": "#506784",
             "linecolor": "#506784",
             "minorgridcolor": "#506784",
             "startlinecolor": "#A2B1C6"
            },
            "baxis": {
             "endlinecolor": "#A2B1C6",
             "gridcolor": "#506784",
             "linecolor": "#506784",
             "minorgridcolor": "#506784",
             "startlinecolor": "#A2B1C6"
            },
            "type": "carpet"
           }
          ],
          "choropleth": [
           {
            "colorbar": {
             "outlinewidth": 0,
             "ticks": ""
            },
            "type": "choropleth"
           }
          ],
          "contour": [
           {
            "colorbar": {
             "outlinewidth": 0,
             "ticks": ""
            },
            "colorscale": [
             [
              0,
              "#0d0887"
             ],
             [
              0.1111111111111111,
              "#46039f"
             ],
             [
              0.2222222222222222,
              "#7201a8"
             ],
             [
              0.3333333333333333,
              "#9c179e"
             ],
             [
              0.4444444444444444,
              "#bd3786"
             ],
             [
              0.5555555555555556,
              "#d8576b"
             ],
             [
              0.6666666666666666,
              "#ed7953"
             ],
             [
              0.7777777777777778,
              "#fb9f3a"
             ],
             [
              0.8888888888888888,
              "#fdca26"
             ],
             [
              1,
              "#f0f921"
             ]
            ],
            "type": "contour"
           }
          ],
          "contourcarpet": [
           {
            "colorbar": {
             "outlinewidth": 0,
             "ticks": ""
            },
            "type": "contourcarpet"
           }
          ],
          "heatmap": [
           {
            "colorbar": {
             "outlinewidth": 0,
             "ticks": ""
            },
            "colorscale": [
             [
              0,
              "#0d0887"
             ],
             [
              0.1111111111111111,
              "#46039f"
             ],
             [
              0.2222222222222222,
              "#7201a8"
             ],
             [
              0.3333333333333333,
              "#9c179e"
             ],
             [
              0.4444444444444444,
              "#bd3786"
             ],
             [
              0.5555555555555556,
              "#d8576b"
             ],
             [
              0.6666666666666666,
              "#ed7953"
             ],
             [
              0.7777777777777778,
              "#fb9f3a"
             ],
             [
              0.8888888888888888,
              "#fdca26"
             ],
             [
              1,
              "#f0f921"
             ]
            ],
            "type": "heatmap"
           }
          ],
          "histogram": [
           {
            "marker": {
             "pattern": {
              "fillmode": "overlay",
              "size": 10,
              "solidity": 0.2
             }
            },
            "type": "histogram"
           }
          ],
          "histogram2d": [
           {
            "colorbar": {
             "outlinewidth": 0,
             "ticks": ""
            },
            "colorscale": [
             [
              0,
              "#0d0887"
             ],
             [
              0.1111111111111111,
              "#46039f"
             ],
             [
              0.2222222222222222,
              "#7201a8"
             ],
             [
              0.3333333333333333,
              "#9c179e"
             ],
             [
              0.4444444444444444,
              "#bd3786"
             ],
             [
              0.5555555555555556,
              "#d8576b"
             ],
             [
              0.6666666666666666,
              "#ed7953"
             ],
             [
              0.7777777777777778,
              "#fb9f3a"
             ],
             [
              0.8888888888888888,
              "#fdca26"
             ],
             [
              1,
              "#f0f921"
             ]
            ],
            "type": "histogram2d"
           }
          ],
          "histogram2dcontour": [
           {
            "colorbar": {
             "outlinewidth": 0,
             "ticks": ""
            },
            "colorscale": [
             [
              0,
              "#0d0887"
             ],
             [
              0.1111111111111111,
              "#46039f"
             ],
             [
              0.2222222222222222,
              "#7201a8"
             ],
             [
              0.3333333333333333,
              "#9c179e"
             ],
             [
              0.4444444444444444,
              "#bd3786"
             ],
             [
              0.5555555555555556,
              "#d8576b"
             ],
             [
              0.6666666666666666,
              "#ed7953"
             ],
             [
              0.7777777777777778,
              "#fb9f3a"
             ],
             [
              0.8888888888888888,
              "#fdca26"
             ],
             [
              1,
              "#f0f921"
             ]
            ],
            "type": "histogram2dcontour"
           }
          ],
          "mesh3d": [
           {
            "colorbar": {
             "outlinewidth": 0,
             "ticks": ""
            },
            "type": "mesh3d"
           }
          ],
          "parcoords": [
           {
            "line": {
             "colorbar": {
              "outlinewidth": 0,
              "ticks": ""
             }
            },
            "type": "parcoords"
           }
          ],
          "pie": [
           {
            "automargin": true,
            "type": "pie"
           }
          ],
          "scatter": [
           {
            "marker": {
             "line": {
              "color": "#283442"
             }
            },
            "type": "scatter"
           }
          ],
          "scatter3d": [
           {
            "line": {
             "colorbar": {
              "outlinewidth": 0,
              "ticks": ""
             }
            },
            "marker": {
             "colorbar": {
              "outlinewidth": 0,
              "ticks": ""
             }
            },
            "type": "scatter3d"
           }
          ],
          "scattercarpet": [
           {
            "marker": {
             "colorbar": {
              "outlinewidth": 0,
              "ticks": ""
             }
            },
            "type": "scattercarpet"
           }
          ],
          "scattergeo": [
           {
            "marker": {
             "colorbar": {
              "outlinewidth": 0,
              "ticks": ""
             }
            },
            "type": "scattergeo"
           }
          ],
          "scattergl": [
           {
            "marker": {
             "line": {
              "color": "#283442"
             }
            },
            "type": "scattergl"
           }
          ],
          "scattermap": [
           {
            "marker": {
             "colorbar": {
              "outlinewidth": 0,
              "ticks": ""
             }
            },
            "type": "scattermap"
           }
          ],
          "scattermapbox": [
           {
            "marker": {
             "colorbar": {
              "outlinewidth": 0,
              "ticks": ""
             }
            },
            "type": "scattermapbox"
           }
          ],
          "scatterpolar": [
           {
            "marker": {
             "colorbar": {
              "outlinewidth": 0,
              "ticks": ""
             }
            },
            "type": "scatterpolar"
           }
          ],
          "scatterpolargl": [
           {
            "marker": {
             "colorbar": {
              "outlinewidth": 0,
              "ticks": ""
             }
            },
            "type": "scatterpolargl"
           }
          ],
          "scatterternary": [
           {
            "marker": {
             "colorbar": {
              "outlinewidth": 0,
              "ticks": ""
             }
            },
            "type": "scatterternary"
           }
          ],
          "surface": [
           {
            "colorbar": {
             "outlinewidth": 0,
             "ticks": ""
            },
            "colorscale": [
             [
              0,
              "#0d0887"
             ],
             [
              0.1111111111111111,
              "#46039f"
             ],
             [
              0.2222222222222222,
              "#7201a8"
             ],
             [
              0.3333333333333333,
              "#9c179e"
             ],
             [
              0.4444444444444444,
              "#bd3786"
             ],
             [
              0.5555555555555556,
              "#d8576b"
             ],
             [
              0.6666666666666666,
              "#ed7953"
             ],
             [
              0.7777777777777778,
              "#fb9f3a"
             ],
             [
              0.8888888888888888,
              "#fdca26"
             ],
             [
              1,
              "#f0f921"
             ]
            ],
            "type": "surface"
           }
          ],
          "table": [
           {
            "cells": {
             "fill": {
              "color": "#506784"
             },
             "line": {
              "color": "rgb(17,17,17)"
             }
            },
            "header": {
             "fill": {
              "color": "#2a3f5f"
             },
             "line": {
              "color": "rgb(17,17,17)"
             }
            },
            "type": "table"
           }
          ]
         },
         "layout": {
          "annotationdefaults": {
           "arrowcolor": "#f2f5fa",
           "arrowhead": 0,
           "arrowwidth": 1
          },
          "autotypenumbers": "strict",
          "coloraxis": {
           "colorbar": {
            "outlinewidth": 0,
            "ticks": ""
           }
          },
          "colorscale": {
           "diverging": [
            [
             0,
             "#8e0152"
            ],
            [
             0.1,
             "#c51b7d"
            ],
            [
             0.2,
             "#de77ae"
            ],
            [
             0.3,
             "#f1b6da"
            ],
            [
             0.4,
             "#fde0ef"
            ],
            [
             0.5,
             "#f7f7f7"
            ],
            [
             0.6,
             "#e6f5d0"
            ],
            [
             0.7,
             "#b8e186"
            ],
            [
             0.8,
             "#7fbc41"
            ],
            [
             0.9,
             "#4d9221"
            ],
            [
             1,
             "#276419"
            ]
           ],
           "sequential": [
            [
             0,
             "#0d0887"
            ],
            [
             0.1111111111111111,
             "#46039f"
            ],
            [
             0.2222222222222222,
             "#7201a8"
            ],
            [
             0.3333333333333333,
             "#9c179e"
            ],
            [
             0.4444444444444444,
             "#bd3786"
            ],
            [
             0.5555555555555556,
             "#d8576b"
            ],
            [
             0.6666666666666666,
             "#ed7953"
            ],
            [
             0.7777777777777778,
             "#fb9f3a"
            ],
            [
             0.8888888888888888,
             "#fdca26"
            ],
            [
             1,
             "#f0f921"
            ]
           ],
           "sequentialminus": [
            [
             0,
             "#0d0887"
            ],
            [
             0.1111111111111111,
             "#46039f"
            ],
            [
             0.2222222222222222,
             "#7201a8"
            ],
            [
             0.3333333333333333,
             "#9c179e"
            ],
            [
             0.4444444444444444,
             "#bd3786"
            ],
            [
             0.5555555555555556,
             "#d8576b"
            ],
            [
             0.6666666666666666,
             "#ed7953"
            ],
            [
             0.7777777777777778,
             "#fb9f3a"
            ],
            [
             0.8888888888888888,
             "#fdca26"
            ],
            [
             1,
             "#f0f921"
            ]
           ]
          },
          "colorway": [
           "#636efa",
           "#EF553B",
           "#00cc96",
           "#ab63fa",
           "#FFA15A",
           "#19d3f3",
           "#FF6692",
           "#B6E880",
           "#FF97FF",
           "#FECB52"
          ],
          "font": {
           "color": "#f2f5fa"
          },
          "geo": {
           "bgcolor": "rgb(17,17,17)",
           "lakecolor": "rgb(17,17,17)",
           "landcolor": "rgb(17,17,17)",
           "showlakes": true,
           "showland": true,
           "subunitcolor": "#506784"
          },
          "hoverlabel": {
           "align": "left"
          },
          "hovermode": "closest",
          "mapbox": {
           "style": "dark"
          },
          "paper_bgcolor": "rgb(17,17,17)",
          "plot_bgcolor": "rgb(17,17,17)",
          "polar": {
           "angularaxis": {
            "gridcolor": "#506784",
            "linecolor": "#506784",
            "ticks": ""
           },
           "bgcolor": "rgb(17,17,17)",
           "radialaxis": {
            "gridcolor": "#506784",
            "linecolor": "#506784",
            "ticks": ""
           }
          },
          "scene": {
           "xaxis": {
            "backgroundcolor": "rgb(17,17,17)",
            "gridcolor": "#506784",
            "gridwidth": 2,
            "linecolor": "#506784",
            "showbackground": true,
            "ticks": "",
            "zerolinecolor": "#C8D4E3"
           },
           "yaxis": {
            "backgroundcolor": "rgb(17,17,17)",
            "gridcolor": "#506784",
            "gridwidth": 2,
            "linecolor": "#506784",
            "showbackground": true,
            "ticks": "",
            "zerolinecolor": "#C8D4E3"
           },
           "zaxis": {
            "backgroundcolor": "rgb(17,17,17)",
            "gridcolor": "#506784",
            "gridwidth": 2,
            "linecolor": "#506784",
            "showbackground": true,
            "ticks": "",
            "zerolinecolor": "#C8D4E3"
           }
          },
          "shapedefaults": {
           "line": {
            "color": "#f2f5fa"
           }
          },
          "sliderdefaults": {
           "bgcolor": "#C8D4E3",
           "bordercolor": "rgb(17,17,17)",
           "borderwidth": 1,
           "tickwidth": 0
          },
          "ternary": {
           "aaxis": {
            "gridcolor": "#506784",
            "linecolor": "#506784",
            "ticks": ""
           },
           "baxis": {
            "gridcolor": "#506784",
            "linecolor": "#506784",
            "ticks": ""
           },
           "bgcolor": "rgb(17,17,17)",
           "caxis": {
            "gridcolor": "#506784",
            "linecolor": "#506784",
            "ticks": ""
           }
          },
          "title": {
           "x": 0.05
          },
          "updatemenudefaults": {
           "bgcolor": "#506784",
           "borderwidth": 0
          },
          "xaxis": {
           "automargin": true,
           "gridcolor": "#283442",
           "linecolor": "#506784",
           "ticks": "",
           "title": {
            "standoff": 15
           },
           "zerolinecolor": "#283442",
           "zerolinewidth": 2
          },
          "yaxis": {
           "automargin": true,
           "gridcolor": "#283442",
           "linecolor": "#506784",
           "ticks": "",
           "title": {
            "standoff": 15
           },
           "zerolinecolor": "#283442",
           "zerolinewidth": 2
          }
         }
        },
        "title": {
         "font": {
          "size": 22
         },
         "text": "Man City Match Results (%) with Top Referees"
        },
        "width": 1100,
        "xaxis": {
         "anchor": "y",
         "domain": [
          0,
          1
         ],
         "tickangle": -45,
         "title": {
          "text": "Referee"
         }
        },
        "yaxis": {
         "anchor": "x",
         "domain": [
          0,
          1
         ],
         "title": {
          "text": "Percentage (%)"
         }
        }
       }
      }
     },
     "metadata": {},
     "output_type": "display_data"
    }
   ],
   "source": [
    "import pandas as pd\n",
    "import plotly.express as px\n",
    "\n",
    "liverpool_df = df[df['Club'] == 'Manchester City'].copy()\n",
    "referee_result_counts = liverpool_df.groupby(['Referee', 'Result']).size().reset_index(name='Count')\n",
    "\n",
    "top_referees = referee_result_counts.groupby('Referee')['Count'].sum().sort_values(ascending=False).head(5).index\n",
    "referee_result_counts = referee_result_counts[referee_result_counts['Referee'].isin(top_referees)]\n",
    "\n",
    "total_matches_by_referee = referee_result_counts.groupby('Referee')['Count'].transform('sum')\n",
    "referee_result_counts['Percentage'] = (referee_result_counts['Count'] / total_matches_by_referee) * 100\n",
    "\n",
    "fig = px.bar(\n",
    "    referee_result_counts,\n",
    "    x='Referee',\n",
    "    y='Percentage',\n",
    "    color='Result',\n",
    "    barmode='group',\n",
    "    title='Man City Match Results (%) with Top Referees',\n",
    "    labels={'Percentage': 'Percentage (%)', 'Referee': 'Referee', 'Result': 'Result'},\n",
    "    template='plotly_dark',\n",
    "    color_discrete_map={'W': 'green', 'D': 'gray', 'L': 'red'}\n",
    ")\n",
    "\n",
    "fig.update_layout(\n",
    "    height=600,\n",
    "    width=1100,\n",
    "    title_font_size=22,\n",
    "    font=dict(family='Arial', size=14),\n",
    "    xaxis_title='Referee',\n",
    "    yaxis_title='Percentage (%)',\n",
    "    xaxis_tickangle=-45,\n",
    "    margin=dict(l=60, r=40, t=80, b=60),\n",
    "    plot_bgcolor='rgb(26, 26, 26)',\n",
    "    paper_bgcolor='rgb(26, 26, 26)',\n",
    ")\n",
    "\n",
    "fig.show()\n"
   ]
  },
  {
   "cell_type": "code",
   "execution_count": null,
   "id": "c9027183",
   "metadata": {},
   "outputs": [
    {
     "data": {
      "application/vnd.plotly.v1+json": {
       "config": {
        "plotlyServerURL": "https://plot.ly"
       },
       "data": [
        {
         "alignmentgroup": "True",
         "hovertemplate": "Result=D<br>Referee=%{x}<br>Percentage (%)=%{y}<extra></extra>",
         "legendgroup": "D",
         "marker": {
          "color": "gray",
          "pattern": {
           "shape": ""
          }
         },
         "name": "D",
         "offsetgroup": "D",
         "orientation": "v",
         "showlegend": true,
         "textposition": "auto",
         "type": "bar",
         "x": [
          "Anthony Taylor",
          "Craig Pawson",
          "Michael Oliver",
          "Paul Tierney",
          "Stuart Attwell"
         ],
         "xaxis": "x",
         "y": {
          "bdata": "JUmSJEkSQEBDeQ3lNZQvQExoL6G9hDJAAAAAAAAAJEDf9KY3velHQA==",
          "dtype": "f8"
         },
         "yaxis": "y"
        },
        {
         "alignmentgroup": "True",
         "hovertemplate": "Result=L<br>Referee=%{x}<br>Percentage (%)=%{y}<extra></extra>",
         "legendgroup": "L",
         "marker": {
          "color": "red",
          "pattern": {
           "shape": ""
          }
         },
         "name": "L",
         "offsetgroup": "L",
         "orientation": "v",
         "showlegend": true,
         "textposition": "auto",
         "type": "bar",
         "x": [
          "Anthony Taylor",
          "Craig Pawson",
          "Michael Oliver",
          "Paul Tierney",
          "Stuart Attwell"
         ],
         "xaxis": "x",
         "y": {
          "bdata": "AAAAAAAAOUBDeQ3lNZQvQI7jOI7jOEZAAAAAAAAANECc3vSmN701QA==",
          "dtype": "f8"
         },
         "yaxis": "y"
        },
        {
         "alignmentgroup": "True",
         "hovertemplate": "Result=W<br>Referee=%{x}<br>Percentage (%)=%{y}<extra></extra>",
         "legendgroup": "W",
         "marker": {
          "color": "green",
          "pattern": {
           "shape": ""
          }
         },
         "name": "W",
         "offsetgroup": "W",
         "orientation": "v",
         "showlegend": true,
         "textposition": "auto",
         "type": "bar",
         "x": [
          "Anthony Taylor",
          "Craig Pawson",
          "Michael Oliver",
          "Paul Tierney",
          "Stuart Attwell"
         ],
         "xaxis": "x",
         "y": {
          "bdata": "27Zt27ZtRUCvobyG8hpRQExoL6G9hEJAAAAAAACAUUCoN73pTW8+QA==",
          "dtype": "f8"
         },
         "yaxis": "y"
        }
       ],
       "layout": {
        "barmode": "group",
        "font": {
         "family": "Arial",
         "size": 14
        },
        "height": 600,
        "legend": {
         "title": {
          "text": "Result"
         },
         "tracegroupgap": 0
        },
        "margin": {
         "b": 60,
         "l": 60,
         "r": 40,
         "t": 80
        },
        "paper_bgcolor": "rgb(26, 26, 26)",
        "plot_bgcolor": "rgb(26, 26, 26)",
        "template": {
         "data": {
          "bar": [
           {
            "error_x": {
             "color": "#f2f5fa"
            },
            "error_y": {
             "color": "#f2f5fa"
            },
            "marker": {
             "line": {
              "color": "rgb(17,17,17)",
              "width": 0.5
             },
             "pattern": {
              "fillmode": "overlay",
              "size": 10,
              "solidity": 0.2
             }
            },
            "type": "bar"
           }
          ],
          "barpolar": [
           {
            "marker": {
             "line": {
              "color": "rgb(17,17,17)",
              "width": 0.5
             },
             "pattern": {
              "fillmode": "overlay",
              "size": 10,
              "solidity": 0.2
             }
            },
            "type": "barpolar"
           }
          ],
          "carpet": [
           {
            "aaxis": {
             "endlinecolor": "#A2B1C6",
             "gridcolor": "#506784",
             "linecolor": "#506784",
             "minorgridcolor": "#506784",
             "startlinecolor": "#A2B1C6"
            },
            "baxis": {
             "endlinecolor": "#A2B1C6",
             "gridcolor": "#506784",
             "linecolor": "#506784",
             "minorgridcolor": "#506784",
             "startlinecolor": "#A2B1C6"
            },
            "type": "carpet"
           }
          ],
          "choropleth": [
           {
            "colorbar": {
             "outlinewidth": 0,
             "ticks": ""
            },
            "type": "choropleth"
           }
          ],
          "contour": [
           {
            "colorbar": {
             "outlinewidth": 0,
             "ticks": ""
            },
            "colorscale": [
             [
              0,
              "#0d0887"
             ],
             [
              0.1111111111111111,
              "#46039f"
             ],
             [
              0.2222222222222222,
              "#7201a8"
             ],
             [
              0.3333333333333333,
              "#9c179e"
             ],
             [
              0.4444444444444444,
              "#bd3786"
             ],
             [
              0.5555555555555556,
              "#d8576b"
             ],
             [
              0.6666666666666666,
              "#ed7953"
             ],
             [
              0.7777777777777778,
              "#fb9f3a"
             ],
             [
              0.8888888888888888,
              "#fdca26"
             ],
             [
              1,
              "#f0f921"
             ]
            ],
            "type": "contour"
           }
          ],
          "contourcarpet": [
           {
            "colorbar": {
             "outlinewidth": 0,
             "ticks": ""
            },
            "type": "contourcarpet"
           }
          ],
          "heatmap": [
           {
            "colorbar": {
             "outlinewidth": 0,
             "ticks": ""
            },
            "colorscale": [
             [
              0,
              "#0d0887"
             ],
             [
              0.1111111111111111,
              "#46039f"
             ],
             [
              0.2222222222222222,
              "#7201a8"
             ],
             [
              0.3333333333333333,
              "#9c179e"
             ],
             [
              0.4444444444444444,
              "#bd3786"
             ],
             [
              0.5555555555555556,
              "#d8576b"
             ],
             [
              0.6666666666666666,
              "#ed7953"
             ],
             [
              0.7777777777777778,
              "#fb9f3a"
             ],
             [
              0.8888888888888888,
              "#fdca26"
             ],
             [
              1,
              "#f0f921"
             ]
            ],
            "type": "heatmap"
           }
          ],
          "histogram": [
           {
            "marker": {
             "pattern": {
              "fillmode": "overlay",
              "size": 10,
              "solidity": 0.2
             }
            },
            "type": "histogram"
           }
          ],
          "histogram2d": [
           {
            "colorbar": {
             "outlinewidth": 0,
             "ticks": ""
            },
            "colorscale": [
             [
              0,
              "#0d0887"
             ],
             [
              0.1111111111111111,
              "#46039f"
             ],
             [
              0.2222222222222222,
              "#7201a8"
             ],
             [
              0.3333333333333333,
              "#9c179e"
             ],
             [
              0.4444444444444444,
              "#bd3786"
             ],
             [
              0.5555555555555556,
              "#d8576b"
             ],
             [
              0.6666666666666666,
              "#ed7953"
             ],
             [
              0.7777777777777778,
              "#fb9f3a"
             ],
             [
              0.8888888888888888,
              "#fdca26"
             ],
             [
              1,
              "#f0f921"
             ]
            ],
            "type": "histogram2d"
           }
          ],
          "histogram2dcontour": [
           {
            "colorbar": {
             "outlinewidth": 0,
             "ticks": ""
            },
            "colorscale": [
             [
              0,
              "#0d0887"
             ],
             [
              0.1111111111111111,
              "#46039f"
             ],
             [
              0.2222222222222222,
              "#7201a8"
             ],
             [
              0.3333333333333333,
              "#9c179e"
             ],
             [
              0.4444444444444444,
              "#bd3786"
             ],
             [
              0.5555555555555556,
              "#d8576b"
             ],
             [
              0.6666666666666666,
              "#ed7953"
             ],
             [
              0.7777777777777778,
              "#fb9f3a"
             ],
             [
              0.8888888888888888,
              "#fdca26"
             ],
             [
              1,
              "#f0f921"
             ]
            ],
            "type": "histogram2dcontour"
           }
          ],
          "mesh3d": [
           {
            "colorbar": {
             "outlinewidth": 0,
             "ticks": ""
            },
            "type": "mesh3d"
           }
          ],
          "parcoords": [
           {
            "line": {
             "colorbar": {
              "outlinewidth": 0,
              "ticks": ""
             }
            },
            "type": "parcoords"
           }
          ],
          "pie": [
           {
            "automargin": true,
            "type": "pie"
           }
          ],
          "scatter": [
           {
            "marker": {
             "line": {
              "color": "#283442"
             }
            },
            "type": "scatter"
           }
          ],
          "scatter3d": [
           {
            "line": {
             "colorbar": {
              "outlinewidth": 0,
              "ticks": ""
             }
            },
            "marker": {
             "colorbar": {
              "outlinewidth": 0,
              "ticks": ""
             }
            },
            "type": "scatter3d"
           }
          ],
          "scattercarpet": [
           {
            "marker": {
             "colorbar": {
              "outlinewidth": 0,
              "ticks": ""
             }
            },
            "type": "scattercarpet"
           }
          ],
          "scattergeo": [
           {
            "marker": {
             "colorbar": {
              "outlinewidth": 0,
              "ticks": ""
             }
            },
            "type": "scattergeo"
           }
          ],
          "scattergl": [
           {
            "marker": {
             "line": {
              "color": "#283442"
             }
            },
            "type": "scattergl"
           }
          ],
          "scattermap": [
           {
            "marker": {
             "colorbar": {
              "outlinewidth": 0,
              "ticks": ""
             }
            },
            "type": "scattermap"
           }
          ],
          "scattermapbox": [
           {
            "marker": {
             "colorbar": {
              "outlinewidth": 0,
              "ticks": ""
             }
            },
            "type": "scattermapbox"
           }
          ],
          "scatterpolar": [
           {
            "marker": {
             "colorbar": {
              "outlinewidth": 0,
              "ticks": ""
             }
            },
            "type": "scatterpolar"
           }
          ],
          "scatterpolargl": [
           {
            "marker": {
             "colorbar": {
              "outlinewidth": 0,
              "ticks": ""
             }
            },
            "type": "scatterpolargl"
           }
          ],
          "scatterternary": [
           {
            "marker": {
             "colorbar": {
              "outlinewidth": 0,
              "ticks": ""
             }
            },
            "type": "scatterternary"
           }
          ],
          "surface": [
           {
            "colorbar": {
             "outlinewidth": 0,
             "ticks": ""
            },
            "colorscale": [
             [
              0,
              "#0d0887"
             ],
             [
              0.1111111111111111,
              "#46039f"
             ],
             [
              0.2222222222222222,
              "#7201a8"
             ],
             [
              0.3333333333333333,
              "#9c179e"
             ],
             [
              0.4444444444444444,
              "#bd3786"
             ],
             [
              0.5555555555555556,
              "#d8576b"
             ],
             [
              0.6666666666666666,
              "#ed7953"
             ],
             [
              0.7777777777777778,
              "#fb9f3a"
             ],
             [
              0.8888888888888888,
              "#fdca26"
             ],
             [
              1,
              "#f0f921"
             ]
            ],
            "type": "surface"
           }
          ],
          "table": [
           {
            "cells": {
             "fill": {
              "color": "#506784"
             },
             "line": {
              "color": "rgb(17,17,17)"
             }
            },
            "header": {
             "fill": {
              "color": "#2a3f5f"
             },
             "line": {
              "color": "rgb(17,17,17)"
             }
            },
            "type": "table"
           }
          ]
         },
         "layout": {
          "annotationdefaults": {
           "arrowcolor": "#f2f5fa",
           "arrowhead": 0,
           "arrowwidth": 1
          },
          "autotypenumbers": "strict",
          "coloraxis": {
           "colorbar": {
            "outlinewidth": 0,
            "ticks": ""
           }
          },
          "colorscale": {
           "diverging": [
            [
             0,
             "#8e0152"
            ],
            [
             0.1,
             "#c51b7d"
            ],
            [
             0.2,
             "#de77ae"
            ],
            [
             0.3,
             "#f1b6da"
            ],
            [
             0.4,
             "#fde0ef"
            ],
            [
             0.5,
             "#f7f7f7"
            ],
            [
             0.6,
             "#e6f5d0"
            ],
            [
             0.7,
             "#b8e186"
            ],
            [
             0.8,
             "#7fbc41"
            ],
            [
             0.9,
             "#4d9221"
            ],
            [
             1,
             "#276419"
            ]
           ],
           "sequential": [
            [
             0,
             "#0d0887"
            ],
            [
             0.1111111111111111,
             "#46039f"
            ],
            [
             0.2222222222222222,
             "#7201a8"
            ],
            [
             0.3333333333333333,
             "#9c179e"
            ],
            [
             0.4444444444444444,
             "#bd3786"
            ],
            [
             0.5555555555555556,
             "#d8576b"
            ],
            [
             0.6666666666666666,
             "#ed7953"
            ],
            [
             0.7777777777777778,
             "#fb9f3a"
            ],
            [
             0.8888888888888888,
             "#fdca26"
            ],
            [
             1,
             "#f0f921"
            ]
           ],
           "sequentialminus": [
            [
             0,
             "#0d0887"
            ],
            [
             0.1111111111111111,
             "#46039f"
            ],
            [
             0.2222222222222222,
             "#7201a8"
            ],
            [
             0.3333333333333333,
             "#9c179e"
            ],
            [
             0.4444444444444444,
             "#bd3786"
            ],
            [
             0.5555555555555556,
             "#d8576b"
            ],
            [
             0.6666666666666666,
             "#ed7953"
            ],
            [
             0.7777777777777778,
             "#fb9f3a"
            ],
            [
             0.8888888888888888,
             "#fdca26"
            ],
            [
             1,
             "#f0f921"
            ]
           ]
          },
          "colorway": [
           "#636efa",
           "#EF553B",
           "#00cc96",
           "#ab63fa",
           "#FFA15A",
           "#19d3f3",
           "#FF6692",
           "#B6E880",
           "#FF97FF",
           "#FECB52"
          ],
          "font": {
           "color": "#f2f5fa"
          },
          "geo": {
           "bgcolor": "rgb(17,17,17)",
           "lakecolor": "rgb(17,17,17)",
           "landcolor": "rgb(17,17,17)",
           "showlakes": true,
           "showland": true,
           "subunitcolor": "#506784"
          },
          "hoverlabel": {
           "align": "left"
          },
          "hovermode": "closest",
          "mapbox": {
           "style": "dark"
          },
          "paper_bgcolor": "rgb(17,17,17)",
          "plot_bgcolor": "rgb(17,17,17)",
          "polar": {
           "angularaxis": {
            "gridcolor": "#506784",
            "linecolor": "#506784",
            "ticks": ""
           },
           "bgcolor": "rgb(17,17,17)",
           "radialaxis": {
            "gridcolor": "#506784",
            "linecolor": "#506784",
            "ticks": ""
           }
          },
          "scene": {
           "xaxis": {
            "backgroundcolor": "rgb(17,17,17)",
            "gridcolor": "#506784",
            "gridwidth": 2,
            "linecolor": "#506784",
            "showbackground": true,
            "ticks": "",
            "zerolinecolor": "#C8D4E3"
           },
           "yaxis": {
            "backgroundcolor": "rgb(17,17,17)",
            "gridcolor": "#506784",
            "gridwidth": 2,
            "linecolor": "#506784",
            "showbackground": true,
            "ticks": "",
            "zerolinecolor": "#C8D4E3"
           },
           "zaxis": {
            "backgroundcolor": "rgb(17,17,17)",
            "gridcolor": "#506784",
            "gridwidth": 2,
            "linecolor": "#506784",
            "showbackground": true,
            "ticks": "",
            "zerolinecolor": "#C8D4E3"
           }
          },
          "shapedefaults": {
           "line": {
            "color": "#f2f5fa"
           }
          },
          "sliderdefaults": {
           "bgcolor": "#C8D4E3",
           "bordercolor": "rgb(17,17,17)",
           "borderwidth": 1,
           "tickwidth": 0
          },
          "ternary": {
           "aaxis": {
            "gridcolor": "#506784",
            "linecolor": "#506784",
            "ticks": ""
           },
           "baxis": {
            "gridcolor": "#506784",
            "linecolor": "#506784",
            "ticks": ""
           },
           "bgcolor": "rgb(17,17,17)",
           "caxis": {
            "gridcolor": "#506784",
            "linecolor": "#506784",
            "ticks": ""
           }
          },
          "title": {
           "x": 0.05
          },
          "updatemenudefaults": {
           "bgcolor": "#506784",
           "borderwidth": 0
          },
          "xaxis": {
           "automargin": true,
           "gridcolor": "#283442",
           "linecolor": "#506784",
           "ticks": "",
           "title": {
            "standoff": 15
           },
           "zerolinecolor": "#283442",
           "zerolinewidth": 2
          },
          "yaxis": {
           "automargin": true,
           "gridcolor": "#283442",
           "linecolor": "#506784",
           "ticks": "",
           "title": {
            "standoff": 15
           },
           "zerolinecolor": "#283442",
           "zerolinewidth": 2
          }
         }
        },
        "title": {
         "font": {
          "size": 22
         },
         "text": "Chelsea Match Results (%) with Top Referees"
        },
        "width": 1100,
        "xaxis": {
         "anchor": "y",
         "domain": [
          0,
          1
         ],
         "tickangle": -45,
         "title": {
          "text": "Referee"
         }
        },
        "yaxis": {
         "anchor": "x",
         "domain": [
          0,
          1
         ],
         "title": {
          "text": "Percentage (%)"
         }
        }
       }
      }
     },
     "metadata": {},
     "output_type": "display_data"
    }
   ],
   "source": [
    "import pandas as pd\n",
    "import plotly.express as px\n",
    "\n",
    "liverpool_df = df[df['Club'] == 'Chelsea'].copy()\n",
    "referee_result_counts = liverpool_df.groupby(['Referee', 'Result']).size().reset_index(name='Count')\n",
    "\n",
    "top_referees = referee_result_counts.groupby('Referee')['Count'].sum().sort_values(ascending=False).head(5).index\n",
    "referee_result_counts = referee_result_counts[referee_result_counts['Referee'].isin(top_referees)]\n",
    "\n",
    "total_matches_by_referee = referee_result_counts.groupby('Referee')['Count'].transform('sum')\n",
    "referee_result_counts['Percentage'] = (referee_result_counts['Count'] / total_matches_by_referee) * 100\n",
    "fig = px.bar(\n",
    "    referee_result_counts,\n",
    "    x='Referee',\n",
    "    y='Percentage',\n",
    "    color='Result',\n",
    "    barmode='group',\n",
    "    title='Chelsea Match Results (%) with Top Referees',\n",
    "    labels={'Percentage': 'Percentage (%)', 'Referee': 'Referee', 'Result': 'Result'},\n",
    "    template='plotly_dark',\n",
    "    color_discrete_map={'W': 'green', 'D': 'gray', 'L': 'red'}\n",
    ")\n",
    "fig.update_layout(\n",
    "    height=600,\n",
    "    width=1100,\n",
    "    title_font_size=22,\n",
    "    font=dict(family='Arial', size=14),\n",
    "    xaxis_title='Referee',\n",
    "    yaxis_title='Percentage (%)',\n",
    "    xaxis_tickangle=-45,\n",
    "    margin=dict(l=60, r=40, t=80, b=60),\n",
    "    plot_bgcolor='rgb(26, 26, 26)',\n",
    "    paper_bgcolor='rgb(26, 26, 26)',\n",
    ")\n",
    "\n",
    "fig.show()\n"
   ]
  },
  {
   "cell_type": "code",
   "execution_count": 9,
   "id": "831238be",
   "metadata": {},
   "outputs": [],
   "source": [
    "import pandas as pd\n",
    "df= pd.read_excel('LIV-CHE-MAN.xlsx')\n",
    "df['Attendance'] = df['Attendance'].fillna(0)\n",
    "df['Attendance'] = df['Attendance'].astype(int)\n",
    "df.to_excel('LIV-CHE-MAN.xlsx', index=False)"
   ]
  }
 ],
 "metadata": {
  "kernelspec": {
   "display_name": "Python 3",
   "language": "python",
   "name": "python3"
  },
  "language_info": {
   "codemirror_mode": {
    "name": "ipython",
    "version": 3
   },
   "file_extension": ".py",
   "mimetype": "text/x-python",
   "name": "python",
   "nbconvert_exporter": "python",
   "pygments_lexer": "ipython3",
   "version": "3.12.2"
  }
 },
 "nbformat": 4,
 "nbformat_minor": 5
}
